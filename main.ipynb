{
 "cells": [
  {
   "cell_type": "markdown",
   "metadata": {
    "pycharm": {
     "is_executing": false,
     "name": "#%% md\n"
    }
   },
   "source": [
    "# Lab IS&A\n",
    "## Bagattin Enrico - Alessandro Doretto"
   ]
  },
  {
   "cell_type": "code",
   "execution_count": 1,
   "outputs": [],
   "source": [
    "# Import\n",
    "import pandas as pd\n",
    "import numpy as np\n",
    "import glob\n",
    "import seaborn as sns\n",
    "\n",
    "# Modules\n",
    "from utilities import *\n",
    "from dataPreparation import *"
   ],
   "metadata": {
    "collapsed": false,
    "pycharm": {
     "name": "#%%\n",
     "is_executing": false
    }
   }
  },
  {
   "cell_type": "code",
   "execution_count": 2,
   "metadata": {
    "pycharm": {
     "is_executing": false,
     "name": "#%%\n"
    }
   },
   "outputs": [
    {
     "name": "stdout",
     "text": [
      "<class 'pandas.core.frame.DataFrame'>\n",
      "RangeIndex: 8254 entries, 0 to 8253\n",
      "Data columns (total 40 columns):\n",
      " #   Column      Non-Null Count  Dtype         \n",
      "---  ------      --------------  -----         \n",
      " 0   ATP         8254 non-null   int64         \n",
      " 1   Location    8254 non-null   object        \n",
      " 2   Tournament  8254 non-null   object        \n",
      " 3   Date        8254 non-null   datetime64[ns]\n",
      " 4   Series      8254 non-null   object        \n",
      " 5   Court       8254 non-null   object        \n",
      " 6   Surface     8254 non-null   object        \n",
      " 7   Round       8254 non-null   object        \n",
      " 8   Best of     8254 non-null   int64         \n",
      " 9   Winner      8254 non-null   object        \n",
      " 10  Loser       8254 non-null   object        \n",
      " 11  WRank       8250 non-null   float64       \n",
      " 12  LRank       8230 non-null   float64       \n",
      " 13  WPts        8251 non-null   float64       \n",
      " 14  LPts        8230 non-null   float64       \n",
      " 15  W1          8199 non-null   float64       \n",
      " 16  L1          8201 non-null   float64       \n",
      " 17  W2          8140 non-null   float64       \n",
      " 18  L2          8140 non-null   float64       \n",
      " 19  W3          4038 non-null   float64       \n",
      " 20  L3          4038 non-null   float64       \n",
      " 21  W4          830 non-null    float64       \n",
      " 22  L4          830 non-null    float64       \n",
      " 23  W5          299 non-null    float64       \n",
      " 24  L5          299 non-null    float64       \n",
      " 25  Wsets       8199 non-null   float64       \n",
      " 26  Lsets       8197 non-null   float64       \n",
      " 27  Comment     8254 non-null   object        \n",
      " 28  B365W       8217 non-null   float64       \n",
      " 29  B365L       8217 non-null   float64       \n",
      " 30  EXW         5238 non-null   float64       \n",
      " 31  EXL         5238 non-null   float64       \n",
      " 32  LBW         4527 non-null   float64       \n",
      " 33  LBL         4529 non-null   float64       \n",
      " 34  PSW         8204 non-null   float64       \n",
      " 35  PSL         8204 non-null   float64       \n",
      " 36  MaxW        8249 non-null   float64       \n",
      " 37  MaxL        8249 non-null   float64       \n",
      " 38  AvgW        8249 non-null   float64       \n",
      " 39  AvgL        8249 non-null   float64       \n",
      "dtypes: datetime64[ns](1), float64(28), int64(2), object(9)\n",
      "memory usage: 2.5+ MB\n"
     ],
     "output_type": "stream"
    }
   ],
   "source": [
    "# Import data\n",
    "paths = list(glob.glob(\"matches/20*.xlsx\"))\n",
    "matches = [pd.read_excel(path) for path in paths]\n",
    "# TODO: Load matches based on number of past years choosen \n",
    "df = pd.concat(matches, ignore_index=True, sort=False)\n",
    "df.info()"
   ]
  },
  {
   "cell_type": "code",
   "execution_count": 3,
   "metadata": {
    "pycharm": {
     "is_executing": false
    }
   },
   "outputs": [
    {
     "data": {
      "text/plain": "                                 0                       1  \\\nATP                              1                       1   \nLocation                  Brisbane                Brisbane   \nTournament  Brisbane International  Brisbane International   \nDate           2017-01-01 00:00:00     2017-01-02 00:00:00   \nSeries                      ATP250                  ATP250   \nCourt                      Outdoor                 Outdoor   \nSurface                       Hard                    Hard   \nRound                    1st Round               1st Round   \nBest of                          3                       3   \nWinner                 Thompson J.                Mahut N.   \nLoser                      Ymer E.               Robert S.   \nWRank                           79                      39   \nLRank                          160                      54   \nWPts                           689                    1102   \nLPts                           372                     854   \nW1                               6                       4   \nL1                               3                       6   \nW2                               6                       6   \nL2                               2                       3   \nW3                             NaN                       6   \nL3                             NaN                       4   \nW4                             NaN                     NaN   \nL4                             NaN                     NaN   \nW5                             NaN                     NaN   \nL5                             NaN                     NaN   \nWsets                            2                       2   \nLsets                            0                       1   \nComment                  Completed               Completed   \nB365W                         1.28                     1.5   \nB365L                          3.5                     2.5   \nEXW                           1.22                    1.45   \nEXL                            3.5                    2.35   \nLBW                            1.3                    1.53   \nLBL                            3.5                     2.5   \nPSW                           1.31                    1.58   \nPSL                           3.73                    2.52   \nMaxW                          1.33                    1.59   \nMaxL                           3.9                    2.55   \nAvgW                          1.29                    1.54   \nAvgL                           3.5                    2.43   \n\n                                 2                       3  \\\nATP                              1                       1   \nLocation                  Brisbane                Brisbane   \nTournament  Brisbane International  Brisbane International   \nDate           2017-01-02 00:00:00     2017-01-02 00:00:00   \nSeries                      ATP250                  ATP250   \nCourt                      Outdoor                 Outdoor   \nSurface                       Hard                    Hard   \nRound                    1st Round               1st Round   \nBest of                          3                       3   \nWinner                   Ferrer D.               Edmund K.   \nLoser                     Tomic B.             Escobedo E.   \nWRank                           21                      45   \nLRank                           26                     141   \nWPts                          1785                    1001   \nLPts                          1465                     443   \nW1                               6                       7   \nL1                               3                       6   \nW2                               7                       7   \nL2                               5                       6   \nW3                             NaN                     NaN   \nL3                             NaN                     NaN   \nW4                             NaN                     NaN   \nL4                             NaN                     NaN   \nW5                             NaN                     NaN   \nL5                             NaN                     NaN   \nWsets                            2                       2   \nLsets                            0                       0   \nComment                  Completed               Completed   \nB365W                          1.9                    1.36   \nB365L                          1.8                       3   \nEXW                           1.88                    1.35   \nEXL                           1.75                    2.75   \nLBW                              2                     1.4   \nLBL                            1.8                       3   \nPSW                            2.1                    1.42   \nPSL                           1.81                    3.09   \nMaxW                          2.15                    1.42   \nMaxL                          1.82                    3.25   \nAvgW                          2.01                    1.37   \nAvgL                          1.77                    3.01   \n\n                                 4  \nATP                              1  \nLocation                  Brisbane  \nTournament  Brisbane International  \nDate           2017-01-02 00:00:00  \nSeries                      ATP250  \nCourt                      Outdoor  \nSurface                       Hard  \nRound                    1st Round  \nBest of                          3  \nWinner                 Dimitrov G.  \nLoser                   Johnson S.  \nWRank                           17  \nLRank                           33  \nWPts                          2035  \nLPts                          1320  \nW1                               6  \nL1                               2  \nW2                               6  \nL2                               3  \nW3                             NaN  \nL3                             NaN  \nW4                             NaN  \nL4                             NaN  \nW5                             NaN  \nL5                             NaN  \nWsets                            2  \nLsets                            0  \nComment                  Completed  \nB365W                          1.4  \nB365L                         2.75  \nEXW                           1.38  \nEXL                           2.65  \nLBW                            1.4  \nLBL                              3  \nPSW                           1.41  \nPSL                           3.13  \nMaxW                          1.46  \nMaxL                          3.13  \nAvgW                          1.41  \nAvgL                          2.85  ",
      "text/html": "<div>\n<style scoped>\n    .dataframe tbody tr th:only-of-type {\n        vertical-align: middle;\n    }\n\n    .dataframe tbody tr th {\n        vertical-align: top;\n    }\n\n    .dataframe thead th {\n        text-align: right;\n    }\n</style>\n<table border=\"1\" class=\"dataframe\">\n  <thead>\n    <tr style=\"text-align: right;\">\n      <th></th>\n      <th>0</th>\n      <th>1</th>\n      <th>2</th>\n      <th>3</th>\n      <th>4</th>\n    </tr>\n  </thead>\n  <tbody>\n    <tr>\n      <th>ATP</th>\n      <td>1</td>\n      <td>1</td>\n      <td>1</td>\n      <td>1</td>\n      <td>1</td>\n    </tr>\n    <tr>\n      <th>Location</th>\n      <td>Brisbane</td>\n      <td>Brisbane</td>\n      <td>Brisbane</td>\n      <td>Brisbane</td>\n      <td>Brisbane</td>\n    </tr>\n    <tr>\n      <th>Tournament</th>\n      <td>Brisbane International</td>\n      <td>Brisbane International</td>\n      <td>Brisbane International</td>\n      <td>Brisbane International</td>\n      <td>Brisbane International</td>\n    </tr>\n    <tr>\n      <th>Date</th>\n      <td>2017-01-01 00:00:00</td>\n      <td>2017-01-02 00:00:00</td>\n      <td>2017-01-02 00:00:00</td>\n      <td>2017-01-02 00:00:00</td>\n      <td>2017-01-02 00:00:00</td>\n    </tr>\n    <tr>\n      <th>Series</th>\n      <td>ATP250</td>\n      <td>ATP250</td>\n      <td>ATP250</td>\n      <td>ATP250</td>\n      <td>ATP250</td>\n    </tr>\n    <tr>\n      <th>Court</th>\n      <td>Outdoor</td>\n      <td>Outdoor</td>\n      <td>Outdoor</td>\n      <td>Outdoor</td>\n      <td>Outdoor</td>\n    </tr>\n    <tr>\n      <th>Surface</th>\n      <td>Hard</td>\n      <td>Hard</td>\n      <td>Hard</td>\n      <td>Hard</td>\n      <td>Hard</td>\n    </tr>\n    <tr>\n      <th>Round</th>\n      <td>1st Round</td>\n      <td>1st Round</td>\n      <td>1st Round</td>\n      <td>1st Round</td>\n      <td>1st Round</td>\n    </tr>\n    <tr>\n      <th>Best of</th>\n      <td>3</td>\n      <td>3</td>\n      <td>3</td>\n      <td>3</td>\n      <td>3</td>\n    </tr>\n    <tr>\n      <th>Winner</th>\n      <td>Thompson J.</td>\n      <td>Mahut N.</td>\n      <td>Ferrer D.</td>\n      <td>Edmund K.</td>\n      <td>Dimitrov G.</td>\n    </tr>\n    <tr>\n      <th>Loser</th>\n      <td>Ymer E.</td>\n      <td>Robert S.</td>\n      <td>Tomic B.</td>\n      <td>Escobedo E.</td>\n      <td>Johnson S.</td>\n    </tr>\n    <tr>\n      <th>WRank</th>\n      <td>79</td>\n      <td>39</td>\n      <td>21</td>\n      <td>45</td>\n      <td>17</td>\n    </tr>\n    <tr>\n      <th>LRank</th>\n      <td>160</td>\n      <td>54</td>\n      <td>26</td>\n      <td>141</td>\n      <td>33</td>\n    </tr>\n    <tr>\n      <th>WPts</th>\n      <td>689</td>\n      <td>1102</td>\n      <td>1785</td>\n      <td>1001</td>\n      <td>2035</td>\n    </tr>\n    <tr>\n      <th>LPts</th>\n      <td>372</td>\n      <td>854</td>\n      <td>1465</td>\n      <td>443</td>\n      <td>1320</td>\n    </tr>\n    <tr>\n      <th>W1</th>\n      <td>6</td>\n      <td>4</td>\n      <td>6</td>\n      <td>7</td>\n      <td>6</td>\n    </tr>\n    <tr>\n      <th>L1</th>\n      <td>3</td>\n      <td>6</td>\n      <td>3</td>\n      <td>6</td>\n      <td>2</td>\n    </tr>\n    <tr>\n      <th>W2</th>\n      <td>6</td>\n      <td>6</td>\n      <td>7</td>\n      <td>7</td>\n      <td>6</td>\n    </tr>\n    <tr>\n      <th>L2</th>\n      <td>2</td>\n      <td>3</td>\n      <td>5</td>\n      <td>6</td>\n      <td>3</td>\n    </tr>\n    <tr>\n      <th>W3</th>\n      <td>NaN</td>\n      <td>6</td>\n      <td>NaN</td>\n      <td>NaN</td>\n      <td>NaN</td>\n    </tr>\n    <tr>\n      <th>L3</th>\n      <td>NaN</td>\n      <td>4</td>\n      <td>NaN</td>\n      <td>NaN</td>\n      <td>NaN</td>\n    </tr>\n    <tr>\n      <th>W4</th>\n      <td>NaN</td>\n      <td>NaN</td>\n      <td>NaN</td>\n      <td>NaN</td>\n      <td>NaN</td>\n    </tr>\n    <tr>\n      <th>L4</th>\n      <td>NaN</td>\n      <td>NaN</td>\n      <td>NaN</td>\n      <td>NaN</td>\n      <td>NaN</td>\n    </tr>\n    <tr>\n      <th>W5</th>\n      <td>NaN</td>\n      <td>NaN</td>\n      <td>NaN</td>\n      <td>NaN</td>\n      <td>NaN</td>\n    </tr>\n    <tr>\n      <th>L5</th>\n      <td>NaN</td>\n      <td>NaN</td>\n      <td>NaN</td>\n      <td>NaN</td>\n      <td>NaN</td>\n    </tr>\n    <tr>\n      <th>Wsets</th>\n      <td>2</td>\n      <td>2</td>\n      <td>2</td>\n      <td>2</td>\n      <td>2</td>\n    </tr>\n    <tr>\n      <th>Lsets</th>\n      <td>0</td>\n      <td>1</td>\n      <td>0</td>\n      <td>0</td>\n      <td>0</td>\n    </tr>\n    <tr>\n      <th>Comment</th>\n      <td>Completed</td>\n      <td>Completed</td>\n      <td>Completed</td>\n      <td>Completed</td>\n      <td>Completed</td>\n    </tr>\n    <tr>\n      <th>B365W</th>\n      <td>1.28</td>\n      <td>1.5</td>\n      <td>1.9</td>\n      <td>1.36</td>\n      <td>1.4</td>\n    </tr>\n    <tr>\n      <th>B365L</th>\n      <td>3.5</td>\n      <td>2.5</td>\n      <td>1.8</td>\n      <td>3</td>\n      <td>2.75</td>\n    </tr>\n    <tr>\n      <th>EXW</th>\n      <td>1.22</td>\n      <td>1.45</td>\n      <td>1.88</td>\n      <td>1.35</td>\n      <td>1.38</td>\n    </tr>\n    <tr>\n      <th>EXL</th>\n      <td>3.5</td>\n      <td>2.35</td>\n      <td>1.75</td>\n      <td>2.75</td>\n      <td>2.65</td>\n    </tr>\n    <tr>\n      <th>LBW</th>\n      <td>1.3</td>\n      <td>1.53</td>\n      <td>2</td>\n      <td>1.4</td>\n      <td>1.4</td>\n    </tr>\n    <tr>\n      <th>LBL</th>\n      <td>3.5</td>\n      <td>2.5</td>\n      <td>1.8</td>\n      <td>3</td>\n      <td>3</td>\n    </tr>\n    <tr>\n      <th>PSW</th>\n      <td>1.31</td>\n      <td>1.58</td>\n      <td>2.1</td>\n      <td>1.42</td>\n      <td>1.41</td>\n    </tr>\n    <tr>\n      <th>PSL</th>\n      <td>3.73</td>\n      <td>2.52</td>\n      <td>1.81</td>\n      <td>3.09</td>\n      <td>3.13</td>\n    </tr>\n    <tr>\n      <th>MaxW</th>\n      <td>1.33</td>\n      <td>1.59</td>\n      <td>2.15</td>\n      <td>1.42</td>\n      <td>1.46</td>\n    </tr>\n    <tr>\n      <th>MaxL</th>\n      <td>3.9</td>\n      <td>2.55</td>\n      <td>1.82</td>\n      <td>3.25</td>\n      <td>3.13</td>\n    </tr>\n    <tr>\n      <th>AvgW</th>\n      <td>1.29</td>\n      <td>1.54</td>\n      <td>2.01</td>\n      <td>1.37</td>\n      <td>1.41</td>\n    </tr>\n    <tr>\n      <th>AvgL</th>\n      <td>3.5</td>\n      <td>2.43</td>\n      <td>1.77</td>\n      <td>3.01</td>\n      <td>2.85</td>\n    </tr>\n  </tbody>\n</table>\n</div>"
     },
     "metadata": {},
     "output_type": "execute_result",
     "execution_count": 3
    }
   ],
   "source": [
    "df.head().T"
   ]
  },
  {
   "cell_type": "code",
   "execution_count": 4,
   "outputs": [
    {
     "data": {
      "text/plain": "           count unique                  top  freq      mean       std    min  \\\nATP         8254    NaN                  NaN   NaN   32.2989   18.9789      1   \nLocation    8254     70                Paris   522       NaN       NaN    NaN   \nTournament  8254     81      Australian Open   508       NaN       NaN    NaN   \nDate        8254    882  2020-01-21 00:00:00    51       NaN       NaN    NaN   \nSeries      8254      5               ATP250  3521       NaN       NaN    NaN   \nCourt       8254      2              Outdoor  6894       NaN       NaN    NaN   \nSurface     8254      3                 Hard  4829       NaN       NaN    NaN   \nRound       8254      8            1st Round  3712       NaN       NaN    NaN   \nBest of     8254    NaN                  NaN   NaN   3.39932  0.799539      3   \nWinner      8254    311             Nadal R.   166       NaN       NaN    NaN   \nLoser       8254    437             Paire B.    91       NaN       NaN    NaN   \nWRank       8250    NaN                  NaN   NaN   59.7907   70.4475      1   \nLRank       8230    NaN                  NaN   NaN   86.4049   104.477      1   \nWPts        8251    NaN                  NaN   NaN   1755.96   1922.99      1   \nLPts        8230    NaN                  NaN   NaN   1130.92   1162.02      1   \nW1          8199    NaN                  NaN   NaN   5.81315   1.22826      0   \nL1          8201    NaN                  NaN   NaN   4.17986   1.81933      0   \nW2          8140    NaN                  NaN   NaN   5.78698   1.26599      0   \nL2          8140    NaN                  NaN   NaN   4.03686   1.83195      0   \nW3          4038    NaN                  NaN   NaN   6.05547   0.92626      0   \nL3          4038    NaN                  NaN   NaN   3.72536   1.77076      0   \nW4           830    NaN                  NaN   NaN   5.78554    1.3133      0   \nL4           830    NaN                  NaN   NaN   3.93735   1.93087      0   \nW5           299    NaN                  NaN   NaN   6.61873   2.04688      2   \nL5           299    NaN                  NaN   NaN   3.77592    2.6292      0   \nWsets       8199    NaN                  NaN   NaN     2.166  0.448776      0   \nLsets       8197    NaN                  NaN   NaN  0.435891  0.564481      0   \nComment     8254      5            Completed  7982       NaN       NaN    NaN   \nB365W       8217    NaN                  NaN   NaN   1.85795   1.06671  1.002   \nB365L       8217    NaN                  NaN   NaN   3.26145   3.10471  0.967   \nEXW         5238    NaN                  NaN   NaN   1.82311  0.934558      1   \nEXL         5238    NaN                  NaN   NaN    2.9914   2.03374      1   \nLBW         4527    NaN                  NaN   NaN   1.87396   1.06196      1   \nLBL         4529    NaN                  NaN   NaN   3.17269   2.55614   1.01   \nPSW         8204    NaN                  NaN   NaN   1.94391   1.18476  1.005   \nPSL         8204    NaN                  NaN   NaN    3.5595   3.56152   1.01   \nMaxW        8249    NaN                  NaN   NaN    2.0065    1.3253   1.01   \nMaxL        8249    NaN                  NaN   NaN     3.769    4.1778   1.01   \nAvgW        8249    NaN                  NaN   NaN   1.87054   1.01126   1.01   \nAvgL        8249    NaN                  NaN   NaN   3.22506   2.71803   1.01   \n\n             50%    max      first       last  \nATP           32     67        NaT        NaT  \nLocation     NaN    NaN        NaT        NaT  \nTournament   NaN    NaN        NaT        NaT  \nDate         NaN    NaN 2017-01-01 2020-02-16  \nSeries       NaN    NaN        NaT        NaT  \nCourt        NaN    NaN        NaT        NaT  \nSurface      NaN    NaN        NaT        NaT  \nRound        NaN    NaN        NaT        NaT  \nBest of        3      5        NaT        NaT  \nWinner       NaN    NaN        NaT        NaT  \nLoser        NaN    NaN        NaT        NaT  \nWRank         44   1821        NaT        NaT  \nLRank         63   1821        NaT        NaT  \nWPts        1038  12560        NaT        NaT  \nLPts         828  12560        NaT        NaT  \nW1             6      7        NaT        NaT  \nL1             4      7        NaT        NaT  \nW2             6      7        NaT        NaT  \nL2             4      7        NaT        NaT  \nW3             6      7        NaT        NaT  \nL3             4      7        NaT        NaT  \nW4             6      7        NaT        NaT  \nL4             4      7        NaT        NaT  \nW5             6     26        NaT        NaT  \nL5             3     24        NaT        NaT  \nWsets          2      3        NaT        NaT  \nLsets          0      2        NaT        NaT  \nComment      NaN    NaN        NaT        NaT  \nB365W       1.57     29        NaT        NaT  \nB365L       2.37     41        NaT        NaT  \nEXW         1.55     17        NaT        NaT  \nEXL         2.35     20        NaT        NaT  \nLBW         1.57     21        NaT        NaT  \nLBL         2.37     41        NaT        NaT  \nPSW         1.61  27.22        NaT        NaT  \nPSL         2.47   37.8        NaT        NaT  \nMaxW        1.65     41        NaT        NaT  \nMaxL        2.55     67        NaT        NaT  \nAvgW        1.58   21.2        NaT        NaT  \nAvgL        2.37  28.49        NaT        NaT  ",
      "text/html": "<div>\n<style scoped>\n    .dataframe tbody tr th:only-of-type {\n        vertical-align: middle;\n    }\n\n    .dataframe tbody tr th {\n        vertical-align: top;\n    }\n\n    .dataframe thead th {\n        text-align: right;\n    }\n</style>\n<table border=\"1\" class=\"dataframe\">\n  <thead>\n    <tr style=\"text-align: right;\">\n      <th></th>\n      <th>count</th>\n      <th>unique</th>\n      <th>top</th>\n      <th>freq</th>\n      <th>mean</th>\n      <th>std</th>\n      <th>min</th>\n      <th>50%</th>\n      <th>max</th>\n      <th>first</th>\n      <th>last</th>\n    </tr>\n  </thead>\n  <tbody>\n    <tr>\n      <th>ATP</th>\n      <td>8254</td>\n      <td>NaN</td>\n      <td>NaN</td>\n      <td>NaN</td>\n      <td>32.2989</td>\n      <td>18.9789</td>\n      <td>1</td>\n      <td>32</td>\n      <td>67</td>\n      <td>NaT</td>\n      <td>NaT</td>\n    </tr>\n    <tr>\n      <th>Location</th>\n      <td>8254</td>\n      <td>70</td>\n      <td>Paris</td>\n      <td>522</td>\n      <td>NaN</td>\n      <td>NaN</td>\n      <td>NaN</td>\n      <td>NaN</td>\n      <td>NaN</td>\n      <td>NaT</td>\n      <td>NaT</td>\n    </tr>\n    <tr>\n      <th>Tournament</th>\n      <td>8254</td>\n      <td>81</td>\n      <td>Australian Open</td>\n      <td>508</td>\n      <td>NaN</td>\n      <td>NaN</td>\n      <td>NaN</td>\n      <td>NaN</td>\n      <td>NaN</td>\n      <td>NaT</td>\n      <td>NaT</td>\n    </tr>\n    <tr>\n      <th>Date</th>\n      <td>8254</td>\n      <td>882</td>\n      <td>2020-01-21 00:00:00</td>\n      <td>51</td>\n      <td>NaN</td>\n      <td>NaN</td>\n      <td>NaN</td>\n      <td>NaN</td>\n      <td>NaN</td>\n      <td>2017-01-01</td>\n      <td>2020-02-16</td>\n    </tr>\n    <tr>\n      <th>Series</th>\n      <td>8254</td>\n      <td>5</td>\n      <td>ATP250</td>\n      <td>3521</td>\n      <td>NaN</td>\n      <td>NaN</td>\n      <td>NaN</td>\n      <td>NaN</td>\n      <td>NaN</td>\n      <td>NaT</td>\n      <td>NaT</td>\n    </tr>\n    <tr>\n      <th>Court</th>\n      <td>8254</td>\n      <td>2</td>\n      <td>Outdoor</td>\n      <td>6894</td>\n      <td>NaN</td>\n      <td>NaN</td>\n      <td>NaN</td>\n      <td>NaN</td>\n      <td>NaN</td>\n      <td>NaT</td>\n      <td>NaT</td>\n    </tr>\n    <tr>\n      <th>Surface</th>\n      <td>8254</td>\n      <td>3</td>\n      <td>Hard</td>\n      <td>4829</td>\n      <td>NaN</td>\n      <td>NaN</td>\n      <td>NaN</td>\n      <td>NaN</td>\n      <td>NaN</td>\n      <td>NaT</td>\n      <td>NaT</td>\n    </tr>\n    <tr>\n      <th>Round</th>\n      <td>8254</td>\n      <td>8</td>\n      <td>1st Round</td>\n      <td>3712</td>\n      <td>NaN</td>\n      <td>NaN</td>\n      <td>NaN</td>\n      <td>NaN</td>\n      <td>NaN</td>\n      <td>NaT</td>\n      <td>NaT</td>\n    </tr>\n    <tr>\n      <th>Best of</th>\n      <td>8254</td>\n      <td>NaN</td>\n      <td>NaN</td>\n      <td>NaN</td>\n      <td>3.39932</td>\n      <td>0.799539</td>\n      <td>3</td>\n      <td>3</td>\n      <td>5</td>\n      <td>NaT</td>\n      <td>NaT</td>\n    </tr>\n    <tr>\n      <th>Winner</th>\n      <td>8254</td>\n      <td>311</td>\n      <td>Nadal R.</td>\n      <td>166</td>\n      <td>NaN</td>\n      <td>NaN</td>\n      <td>NaN</td>\n      <td>NaN</td>\n      <td>NaN</td>\n      <td>NaT</td>\n      <td>NaT</td>\n    </tr>\n    <tr>\n      <th>Loser</th>\n      <td>8254</td>\n      <td>437</td>\n      <td>Paire B.</td>\n      <td>91</td>\n      <td>NaN</td>\n      <td>NaN</td>\n      <td>NaN</td>\n      <td>NaN</td>\n      <td>NaN</td>\n      <td>NaT</td>\n      <td>NaT</td>\n    </tr>\n    <tr>\n      <th>WRank</th>\n      <td>8250</td>\n      <td>NaN</td>\n      <td>NaN</td>\n      <td>NaN</td>\n      <td>59.7907</td>\n      <td>70.4475</td>\n      <td>1</td>\n      <td>44</td>\n      <td>1821</td>\n      <td>NaT</td>\n      <td>NaT</td>\n    </tr>\n    <tr>\n      <th>LRank</th>\n      <td>8230</td>\n      <td>NaN</td>\n      <td>NaN</td>\n      <td>NaN</td>\n      <td>86.4049</td>\n      <td>104.477</td>\n      <td>1</td>\n      <td>63</td>\n      <td>1821</td>\n      <td>NaT</td>\n      <td>NaT</td>\n    </tr>\n    <tr>\n      <th>WPts</th>\n      <td>8251</td>\n      <td>NaN</td>\n      <td>NaN</td>\n      <td>NaN</td>\n      <td>1755.96</td>\n      <td>1922.99</td>\n      <td>1</td>\n      <td>1038</td>\n      <td>12560</td>\n      <td>NaT</td>\n      <td>NaT</td>\n    </tr>\n    <tr>\n      <th>LPts</th>\n      <td>8230</td>\n      <td>NaN</td>\n      <td>NaN</td>\n      <td>NaN</td>\n      <td>1130.92</td>\n      <td>1162.02</td>\n      <td>1</td>\n      <td>828</td>\n      <td>12560</td>\n      <td>NaT</td>\n      <td>NaT</td>\n    </tr>\n    <tr>\n      <th>W1</th>\n      <td>8199</td>\n      <td>NaN</td>\n      <td>NaN</td>\n      <td>NaN</td>\n      <td>5.81315</td>\n      <td>1.22826</td>\n      <td>0</td>\n      <td>6</td>\n      <td>7</td>\n      <td>NaT</td>\n      <td>NaT</td>\n    </tr>\n    <tr>\n      <th>L1</th>\n      <td>8201</td>\n      <td>NaN</td>\n      <td>NaN</td>\n      <td>NaN</td>\n      <td>4.17986</td>\n      <td>1.81933</td>\n      <td>0</td>\n      <td>4</td>\n      <td>7</td>\n      <td>NaT</td>\n      <td>NaT</td>\n    </tr>\n    <tr>\n      <th>W2</th>\n      <td>8140</td>\n      <td>NaN</td>\n      <td>NaN</td>\n      <td>NaN</td>\n      <td>5.78698</td>\n      <td>1.26599</td>\n      <td>0</td>\n      <td>6</td>\n      <td>7</td>\n      <td>NaT</td>\n      <td>NaT</td>\n    </tr>\n    <tr>\n      <th>L2</th>\n      <td>8140</td>\n      <td>NaN</td>\n      <td>NaN</td>\n      <td>NaN</td>\n      <td>4.03686</td>\n      <td>1.83195</td>\n      <td>0</td>\n      <td>4</td>\n      <td>7</td>\n      <td>NaT</td>\n      <td>NaT</td>\n    </tr>\n    <tr>\n      <th>W3</th>\n      <td>4038</td>\n      <td>NaN</td>\n      <td>NaN</td>\n      <td>NaN</td>\n      <td>6.05547</td>\n      <td>0.92626</td>\n      <td>0</td>\n      <td>6</td>\n      <td>7</td>\n      <td>NaT</td>\n      <td>NaT</td>\n    </tr>\n    <tr>\n      <th>L3</th>\n      <td>4038</td>\n      <td>NaN</td>\n      <td>NaN</td>\n      <td>NaN</td>\n      <td>3.72536</td>\n      <td>1.77076</td>\n      <td>0</td>\n      <td>4</td>\n      <td>7</td>\n      <td>NaT</td>\n      <td>NaT</td>\n    </tr>\n    <tr>\n      <th>W4</th>\n      <td>830</td>\n      <td>NaN</td>\n      <td>NaN</td>\n      <td>NaN</td>\n      <td>5.78554</td>\n      <td>1.3133</td>\n      <td>0</td>\n      <td>6</td>\n      <td>7</td>\n      <td>NaT</td>\n      <td>NaT</td>\n    </tr>\n    <tr>\n      <th>L4</th>\n      <td>830</td>\n      <td>NaN</td>\n      <td>NaN</td>\n      <td>NaN</td>\n      <td>3.93735</td>\n      <td>1.93087</td>\n      <td>0</td>\n      <td>4</td>\n      <td>7</td>\n      <td>NaT</td>\n      <td>NaT</td>\n    </tr>\n    <tr>\n      <th>W5</th>\n      <td>299</td>\n      <td>NaN</td>\n      <td>NaN</td>\n      <td>NaN</td>\n      <td>6.61873</td>\n      <td>2.04688</td>\n      <td>2</td>\n      <td>6</td>\n      <td>26</td>\n      <td>NaT</td>\n      <td>NaT</td>\n    </tr>\n    <tr>\n      <th>L5</th>\n      <td>299</td>\n      <td>NaN</td>\n      <td>NaN</td>\n      <td>NaN</td>\n      <td>3.77592</td>\n      <td>2.6292</td>\n      <td>0</td>\n      <td>3</td>\n      <td>24</td>\n      <td>NaT</td>\n      <td>NaT</td>\n    </tr>\n    <tr>\n      <th>Wsets</th>\n      <td>8199</td>\n      <td>NaN</td>\n      <td>NaN</td>\n      <td>NaN</td>\n      <td>2.166</td>\n      <td>0.448776</td>\n      <td>0</td>\n      <td>2</td>\n      <td>3</td>\n      <td>NaT</td>\n      <td>NaT</td>\n    </tr>\n    <tr>\n      <th>Lsets</th>\n      <td>8197</td>\n      <td>NaN</td>\n      <td>NaN</td>\n      <td>NaN</td>\n      <td>0.435891</td>\n      <td>0.564481</td>\n      <td>0</td>\n      <td>0</td>\n      <td>2</td>\n      <td>NaT</td>\n      <td>NaT</td>\n    </tr>\n    <tr>\n      <th>Comment</th>\n      <td>8254</td>\n      <td>5</td>\n      <td>Completed</td>\n      <td>7982</td>\n      <td>NaN</td>\n      <td>NaN</td>\n      <td>NaN</td>\n      <td>NaN</td>\n      <td>NaN</td>\n      <td>NaT</td>\n      <td>NaT</td>\n    </tr>\n    <tr>\n      <th>B365W</th>\n      <td>8217</td>\n      <td>NaN</td>\n      <td>NaN</td>\n      <td>NaN</td>\n      <td>1.85795</td>\n      <td>1.06671</td>\n      <td>1.002</td>\n      <td>1.57</td>\n      <td>29</td>\n      <td>NaT</td>\n      <td>NaT</td>\n    </tr>\n    <tr>\n      <th>B365L</th>\n      <td>8217</td>\n      <td>NaN</td>\n      <td>NaN</td>\n      <td>NaN</td>\n      <td>3.26145</td>\n      <td>3.10471</td>\n      <td>0.967</td>\n      <td>2.37</td>\n      <td>41</td>\n      <td>NaT</td>\n      <td>NaT</td>\n    </tr>\n    <tr>\n      <th>EXW</th>\n      <td>5238</td>\n      <td>NaN</td>\n      <td>NaN</td>\n      <td>NaN</td>\n      <td>1.82311</td>\n      <td>0.934558</td>\n      <td>1</td>\n      <td>1.55</td>\n      <td>17</td>\n      <td>NaT</td>\n      <td>NaT</td>\n    </tr>\n    <tr>\n      <th>EXL</th>\n      <td>5238</td>\n      <td>NaN</td>\n      <td>NaN</td>\n      <td>NaN</td>\n      <td>2.9914</td>\n      <td>2.03374</td>\n      <td>1</td>\n      <td>2.35</td>\n      <td>20</td>\n      <td>NaT</td>\n      <td>NaT</td>\n    </tr>\n    <tr>\n      <th>LBW</th>\n      <td>4527</td>\n      <td>NaN</td>\n      <td>NaN</td>\n      <td>NaN</td>\n      <td>1.87396</td>\n      <td>1.06196</td>\n      <td>1</td>\n      <td>1.57</td>\n      <td>21</td>\n      <td>NaT</td>\n      <td>NaT</td>\n    </tr>\n    <tr>\n      <th>LBL</th>\n      <td>4529</td>\n      <td>NaN</td>\n      <td>NaN</td>\n      <td>NaN</td>\n      <td>3.17269</td>\n      <td>2.55614</td>\n      <td>1.01</td>\n      <td>2.37</td>\n      <td>41</td>\n      <td>NaT</td>\n      <td>NaT</td>\n    </tr>\n    <tr>\n      <th>PSW</th>\n      <td>8204</td>\n      <td>NaN</td>\n      <td>NaN</td>\n      <td>NaN</td>\n      <td>1.94391</td>\n      <td>1.18476</td>\n      <td>1.005</td>\n      <td>1.61</td>\n      <td>27.22</td>\n      <td>NaT</td>\n      <td>NaT</td>\n    </tr>\n    <tr>\n      <th>PSL</th>\n      <td>8204</td>\n      <td>NaN</td>\n      <td>NaN</td>\n      <td>NaN</td>\n      <td>3.5595</td>\n      <td>3.56152</td>\n      <td>1.01</td>\n      <td>2.47</td>\n      <td>37.8</td>\n      <td>NaT</td>\n      <td>NaT</td>\n    </tr>\n    <tr>\n      <th>MaxW</th>\n      <td>8249</td>\n      <td>NaN</td>\n      <td>NaN</td>\n      <td>NaN</td>\n      <td>2.0065</td>\n      <td>1.3253</td>\n      <td>1.01</td>\n      <td>1.65</td>\n      <td>41</td>\n      <td>NaT</td>\n      <td>NaT</td>\n    </tr>\n    <tr>\n      <th>MaxL</th>\n      <td>8249</td>\n      <td>NaN</td>\n      <td>NaN</td>\n      <td>NaN</td>\n      <td>3.769</td>\n      <td>4.1778</td>\n      <td>1.01</td>\n      <td>2.55</td>\n      <td>67</td>\n      <td>NaT</td>\n      <td>NaT</td>\n    </tr>\n    <tr>\n      <th>AvgW</th>\n      <td>8249</td>\n      <td>NaN</td>\n      <td>NaN</td>\n      <td>NaN</td>\n      <td>1.87054</td>\n      <td>1.01126</td>\n      <td>1.01</td>\n      <td>1.58</td>\n      <td>21.2</td>\n      <td>NaT</td>\n      <td>NaT</td>\n    </tr>\n    <tr>\n      <th>AvgL</th>\n      <td>8249</td>\n      <td>NaN</td>\n      <td>NaN</td>\n      <td>NaN</td>\n      <td>3.22506</td>\n      <td>2.71803</td>\n      <td>1.01</td>\n      <td>2.37</td>\n      <td>28.49</td>\n      <td>NaT</td>\n      <td>NaT</td>\n    </tr>\n  </tbody>\n</table>\n</div>"
     },
     "metadata": {},
     "output_type": "execute_result",
     "execution_count": 4
    }
   ],
   "source": [
    "df.describe(include='all', percentiles=[]).T"
   ],
   "metadata": {
    "collapsed": false,
    "pycharm": {
     "name": "#%%\n",
     "is_executing": false
    }
   }
  },
  {
   "cell_type": "markdown",
   "source": [
    "# Cleaning and preparing data\n",
    "## Filling null:\n",
    "* WRank, LRank: take the max rank plus one\n",
    "* WPts, LPts: set default zero\t\n",
    "* Avg odd: take mode of matches with same (or similar) players rank\n",
    "* B365, PS: fill with avg"
   ],
   "metadata": {
    "collapsed": false,
    "pycharm": {
     "name": "#%% md\n",
     "is_executing": false
    }
   }
  },
  {
   "cell_type": "code",
   "execution_count": 5,
   "outputs": [],
   "source": [
    "neededCols = ['Location', 'Tournament', 'Series', 'Court', 'Surface',\n",
    "       'Round', 'Winner', 'Loser', 'WRank', 'LRank', 'WPts', 'LPts',\n",
    "       'Comment', 'B365W', 'B365L', 'PSW', 'PSL', 'AvgW', 'AvgL']\n",
    "df = df[neededCols]"
   ],
   "metadata": {
    "collapsed": false,
    "pycharm": {
     "name": "#%%\n",
     "is_executing": false
    }
   }
  },
  {
   "cell_type": "code",
   "execution_count": 6,
   "outputs": [],
   "source": [
    "rankDefault = max(df['WRank'].max(), df['LRank'].max())+1\n",
    "df.fillna({'WRank': rankDefault, 'LRank': rankDefault, 'WPts': 0, 'LPts': 0}, inplace=True)"
   ],
   "metadata": {
    "collapsed": false,
    "pycharm": {
     "name": "#%%\n",
     "is_executing": false
    }
   }
  },
  {
   "cell_type": "code",
   "execution_count": null,
   "outputs": [],
   "source": [
    "nullOddsDf = df[df[['B365W', 'B365L', 'PSW', 'PSL', 'AvgW', 'AvgL']].isna().any(axis=1)]\n",
    "\n",
    "for index, row in nullOddsDf.iterrows():\n",
    "     if pd.isnull(row['AvgW']) or pd.isnull(row['AvgL']):\n",
    "         AvgW, AvgL = findOddsForRow(row, df.dropna(subset=['AvgW', 'AvgL']))\n",
    "         df.at[index, 'AvgW'] = row['AvgW'] = AvgW\n",
    "         df.at[index, 'AvgL'] = row['AvgL'] = AvgL\n",
    "     if pd.isnull(row['B365W']):\n",
    "         df.at[index, 'B365W'] = row['AvgW']\n",
    "     if pd.isnull(row['B365L']):\n",
    "         df.at[index, 'B365L'] = row['AvgL']\n",
    "     if pd.isnull(row['PSW']):\n",
    "         df.at[index, 'PSW'] = row['AvgW']\n",
    "     if pd.isnull(row['PSL']):\n",
    "         df.at[index, 'PSL'] = row['AvgL']\n",
    "\n",
    "df.dropna(subset=['AvgW', 'AvgL'], inplace=True) # Drop rows that hasn't similar rank matches\n",
    "df.info()"
   ],
   "metadata": {
    "collapsed": false,
    "pycharm": {
     "name": "#%%\n",
     "is_executing": true
    }
   }
  },
  {
   "cell_type": "markdown",
   "source": [
    "## One hot encoding\n",
    "* Location\n",
    "* Tournament\n",
    "* Series\n",
    "* Court\n",
    "* Surface\n",
    "* Round\n",
    "* Players"
   ],
   "metadata": {
    "collapsed": false,
    "pycharm": {
     "name": "#%% md\n",
     "is_executing": true
    }
   }
  },
  {
   "cell_type": "markdown",
   "source": [
    "## New features\n",
    "* [Elo rating](https://en.wikipedia.org/wiki/Elo_rating_system): a method for calculating the relative skill levels of players in zero-sum games\n",
    "* Number of matches played during the last year\n",
    "* Percentage of matches won during the last year\n",
    "* Injuries: number matches in witch the player retired or walkover in the past year \n",
    "* Winning streak: current sequence of won games"
   ],
   "metadata": {
    "collapsed": false
   }
  },
  {
   "cell_type": "markdown",
   "source": [
    "# First analysis\n",
    "# odd (inverse -> percentuale di vincita secondo il banco) --> Calcolo percentuale di successo\n",
    "\n",
    "# Models\n",
    "# Carefully-tuned random forest classifier\n",
    "# Naive Bayes"
   ],
   "metadata": {
    "collapsed": false
   }
  }
 ],
 "metadata": {
  "kernelspec": {
   "name": "pycharm-fa669f56",
   "language": "python",
   "display_name": "PyCharm (Python)"
  },
  "language_info": {
   "codemirror_mode": {
    "name": "ipython",
    "version": 3
   },
   "file_extension": ".py",
   "mimetype": "text/x-python",
   "name": "python",
   "nbconvert_exporter": "python",
   "pygments_lexer": "ipython3",
   "version": "3.7.3"
  },
  "pycharm": {
   "stem_cell": {
    "cell_type": "raw",
    "source": [],
    "metadata": {
     "collapsed": false
    }
   }
  }
 },
 "nbformat": 4,
 "nbformat_minor": 1
}