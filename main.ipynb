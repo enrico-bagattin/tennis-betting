{
 "cells": [
  {
   "cell_type": "markdown",
   "metadata": {
    "pycharm": {
     "is_executing": false,
     "name": "#%% md\n"
    }
   },
   "source": [
    "# Lab IS&A\n",
    "## Bagattin Enrico - Alessandro Doretto"
   ]
  },
  {
   "cell_type": "code",
   "execution_count": 2,
   "metadata": {
    "pycharm": {
     "is_executing": false,
     "name": "#%%\n"
    }
   },
   "outputs": [],
   "source": [
    "# Import\n",
    "import pandas as pd\n",
    "import numpy as np\n",
    "import glob\n",
    "\n",
    "# Modules\n",
    "from utilities import *\n",
    "from dataPreparation import *"
   ]
  },
  {
   "cell_type": "code",
   "execution_count": 2,
   "metadata": {
    "pycharm": {
     "is_executing": false,
     "name": "#%%\n"
    },
    "scrolled": true
   },
   "outputs": [
    {
     "name": "stdout",
     "output_type": "stream",
     "text": [
      "<class 'pandas.core.frame.DataFrame'>\n",
      "RangeIndex: 8254 entries, 0 to 8253\n",
      "Data columns (total 40 columns):\n",
      " #   Column      Non-Null Count  Dtype         \n",
      "---  ------      --------------  -----         \n",
      " 0   ATP         8254 non-null   int64         \n",
      " 1   Location    8254 non-null   object        \n",
      " 2   Tournament  8254 non-null   object        \n",
      " 3   Date        8254 non-null   datetime64[ns]\n",
      " 4   Series      8254 non-null   object        \n",
      " 5   Court       8254 non-null   object        \n",
      " 6   Surface     8254 non-null   object        \n",
      " 7   Round       8254 non-null   object        \n",
      " 8   Best of     8254 non-null   int64         \n",
      " 9   Winner      8254 non-null   object        \n",
      " 10  Loser       8254 non-null   object        \n",
      " 11  WRank       8250 non-null   float64       \n",
      " 12  LRank       8230 non-null   float64       \n",
      " 13  WPts        8251 non-null   float64       \n",
      " 14  LPts        8230 non-null   float64       \n",
      " 15  W1          8199 non-null   float64       \n",
      " 16  L1          8201 non-null   float64       \n",
      " 17  W2          8140 non-null   float64       \n",
      " 18  L2          8140 non-null   float64       \n",
      " 19  W3          4038 non-null   float64       \n",
      " 20  L3          4038 non-null   float64       \n",
      " 21  W4          830 non-null    float64       \n",
      " 22  L4          830 non-null    float64       \n",
      " 23  W5          299 non-null    float64       \n",
      " 24  L5          299 non-null    float64       \n",
      " 25  Wsets       8199 non-null   float64       \n",
      " 26  Lsets       8197 non-null   float64       \n",
      " 27  Comment     8254 non-null   object        \n",
      " 28  B365W       8217 non-null   float64       \n",
      " 29  B365L       8217 non-null   float64       \n",
      " 30  EXW         5238 non-null   float64       \n",
      " 31  EXL         5238 non-null   float64       \n",
      " 32  LBW         4527 non-null   float64       \n",
      " 33  LBL         4529 non-null   float64       \n",
      " 34  PSW         8204 non-null   float64       \n",
      " 35  PSL         8204 non-null   float64       \n",
      " 36  MaxW        8249 non-null   float64       \n",
      " 37  MaxL        8249 non-null   float64       \n",
      " 38  AvgW        8249 non-null   float64       \n",
      " 39  AvgL        8249 non-null   float64       \n",
      "dtypes: datetime64[ns](1), float64(28), int64(2), object(9)\n",
      "memory usage: 2.5+ MB\n"
     ]
    }
   ],
   "source": [
    "# Import data\n",
    "years = [2017, 2018, 2019, 2020]\n",
    "yearsForFeatures = [2016, 2017, 2018, 2019, 2020]\n",
    "paths = []\n",
    "for y in years:\n",
    "    paths.append('matches/' + str(y) + '.xlsx') \n",
    "availablePaths = list(glob.glob(\"matches/20*.xlsx\"))\n",
    "matches = [pd.read_excel(path) for path in paths]\n",
    "yearZeroForFeatures = pd.read_excel('matches/' + str(years[0]-1) + '.xlsx')\n",
    "# TODO: Load matches based on number of past years choosen\n",
    "df = pd.concat(matches, ignore_index=True, sort=False)\n",
    "df.info()"
   ]
  },
  {
   "cell_type": "code",
   "execution_count": 3,
   "metadata": {
    "pycharm": {
     "is_executing": false
    },
    "scrolled": false
   },
   "outputs": [
    {
     "data": {
      "text/html": [
       "<div>\n",
       "<style scoped>\n",
       "    .dataframe tbody tr th:only-of-type {\n",
       "        vertical-align: middle;\n",
       "    }\n",
       "\n",
       "    .dataframe tbody tr th {\n",
       "        vertical-align: top;\n",
       "    }\n",
       "\n",
       "    .dataframe thead th {\n",
       "        text-align: right;\n",
       "    }\n",
       "</style>\n",
       "<table border=\"1\" class=\"dataframe\">\n",
       "  <thead>\n",
       "    <tr style=\"text-align: right;\">\n",
       "      <th></th>\n",
       "      <th>0</th>\n",
       "      <th>1</th>\n",
       "      <th>2</th>\n",
       "      <th>3</th>\n",
       "      <th>4</th>\n",
       "    </tr>\n",
       "  </thead>\n",
       "  <tbody>\n",
       "    <tr>\n",
       "      <th>ATP</th>\n",
       "      <td>1</td>\n",
       "      <td>1</td>\n",
       "      <td>1</td>\n",
       "      <td>1</td>\n",
       "      <td>1</td>\n",
       "    </tr>\n",
       "    <tr>\n",
       "      <th>Location</th>\n",
       "      <td>Brisbane</td>\n",
       "      <td>Brisbane</td>\n",
       "      <td>Brisbane</td>\n",
       "      <td>Brisbane</td>\n",
       "      <td>Brisbane</td>\n",
       "    </tr>\n",
       "    <tr>\n",
       "      <th>Tournament</th>\n",
       "      <td>Brisbane International</td>\n",
       "      <td>Brisbane International</td>\n",
       "      <td>Brisbane International</td>\n",
       "      <td>Brisbane International</td>\n",
       "      <td>Brisbane International</td>\n",
       "    </tr>\n",
       "    <tr>\n",
       "      <th>Date</th>\n",
       "      <td>2017-01-01 00:00:00</td>\n",
       "      <td>2017-01-02 00:00:00</td>\n",
       "      <td>2017-01-02 00:00:00</td>\n",
       "      <td>2017-01-02 00:00:00</td>\n",
       "      <td>2017-01-02 00:00:00</td>\n",
       "    </tr>\n",
       "    <tr>\n",
       "      <th>Series</th>\n",
       "      <td>ATP250</td>\n",
       "      <td>ATP250</td>\n",
       "      <td>ATP250</td>\n",
       "      <td>ATP250</td>\n",
       "      <td>ATP250</td>\n",
       "    </tr>\n",
       "    <tr>\n",
       "      <th>Court</th>\n",
       "      <td>Outdoor</td>\n",
       "      <td>Outdoor</td>\n",
       "      <td>Outdoor</td>\n",
       "      <td>Outdoor</td>\n",
       "      <td>Outdoor</td>\n",
       "    </tr>\n",
       "    <tr>\n",
       "      <th>Surface</th>\n",
       "      <td>Hard</td>\n",
       "      <td>Hard</td>\n",
       "      <td>Hard</td>\n",
       "      <td>Hard</td>\n",
       "      <td>Hard</td>\n",
       "    </tr>\n",
       "    <tr>\n",
       "      <th>Round</th>\n",
       "      <td>1st Round</td>\n",
       "      <td>1st Round</td>\n",
       "      <td>1st Round</td>\n",
       "      <td>1st Round</td>\n",
       "      <td>1st Round</td>\n",
       "    </tr>\n",
       "    <tr>\n",
       "      <th>Best of</th>\n",
       "      <td>3</td>\n",
       "      <td>3</td>\n",
       "      <td>3</td>\n",
       "      <td>3</td>\n",
       "      <td>3</td>\n",
       "    </tr>\n",
       "    <tr>\n",
       "      <th>Winner</th>\n",
       "      <td>Thompson J.</td>\n",
       "      <td>Mahut N.</td>\n",
       "      <td>Ferrer D.</td>\n",
       "      <td>Edmund K.</td>\n",
       "      <td>Dimitrov G.</td>\n",
       "    </tr>\n",
       "    <tr>\n",
       "      <th>Loser</th>\n",
       "      <td>Ymer E.</td>\n",
       "      <td>Robert S.</td>\n",
       "      <td>Tomic B.</td>\n",
       "      <td>Escobedo E.</td>\n",
       "      <td>Johnson S.</td>\n",
       "    </tr>\n",
       "    <tr>\n",
       "      <th>WRank</th>\n",
       "      <td>79</td>\n",
       "      <td>39</td>\n",
       "      <td>21</td>\n",
       "      <td>45</td>\n",
       "      <td>17</td>\n",
       "    </tr>\n",
       "    <tr>\n",
       "      <th>LRank</th>\n",
       "      <td>160</td>\n",
       "      <td>54</td>\n",
       "      <td>26</td>\n",
       "      <td>141</td>\n",
       "      <td>33</td>\n",
       "    </tr>\n",
       "    <tr>\n",
       "      <th>WPts</th>\n",
       "      <td>689</td>\n",
       "      <td>1102</td>\n",
       "      <td>1785</td>\n",
       "      <td>1001</td>\n",
       "      <td>2035</td>\n",
       "    </tr>\n",
       "    <tr>\n",
       "      <th>LPts</th>\n",
       "      <td>372</td>\n",
       "      <td>854</td>\n",
       "      <td>1465</td>\n",
       "      <td>443</td>\n",
       "      <td>1320</td>\n",
       "    </tr>\n",
       "    <tr>\n",
       "      <th>W1</th>\n",
       "      <td>6</td>\n",
       "      <td>4</td>\n",
       "      <td>6</td>\n",
       "      <td>7</td>\n",
       "      <td>6</td>\n",
       "    </tr>\n",
       "    <tr>\n",
       "      <th>L1</th>\n",
       "      <td>3</td>\n",
       "      <td>6</td>\n",
       "      <td>3</td>\n",
       "      <td>6</td>\n",
       "      <td>2</td>\n",
       "    </tr>\n",
       "    <tr>\n",
       "      <th>W2</th>\n",
       "      <td>6</td>\n",
       "      <td>6</td>\n",
       "      <td>7</td>\n",
       "      <td>7</td>\n",
       "      <td>6</td>\n",
       "    </tr>\n",
       "    <tr>\n",
       "      <th>L2</th>\n",
       "      <td>2</td>\n",
       "      <td>3</td>\n",
       "      <td>5</td>\n",
       "      <td>6</td>\n",
       "      <td>3</td>\n",
       "    </tr>\n",
       "    <tr>\n",
       "      <th>W3</th>\n",
       "      <td>NaN</td>\n",
       "      <td>6</td>\n",
       "      <td>NaN</td>\n",
       "      <td>NaN</td>\n",
       "      <td>NaN</td>\n",
       "    </tr>\n",
       "    <tr>\n",
       "      <th>L3</th>\n",
       "      <td>NaN</td>\n",
       "      <td>4</td>\n",
       "      <td>NaN</td>\n",
       "      <td>NaN</td>\n",
       "      <td>NaN</td>\n",
       "    </tr>\n",
       "    <tr>\n",
       "      <th>W4</th>\n",
       "      <td>NaN</td>\n",
       "      <td>NaN</td>\n",
       "      <td>NaN</td>\n",
       "      <td>NaN</td>\n",
       "      <td>NaN</td>\n",
       "    </tr>\n",
       "    <tr>\n",
       "      <th>L4</th>\n",
       "      <td>NaN</td>\n",
       "      <td>NaN</td>\n",
       "      <td>NaN</td>\n",
       "      <td>NaN</td>\n",
       "      <td>NaN</td>\n",
       "    </tr>\n",
       "    <tr>\n",
       "      <th>W5</th>\n",
       "      <td>NaN</td>\n",
       "      <td>NaN</td>\n",
       "      <td>NaN</td>\n",
       "      <td>NaN</td>\n",
       "      <td>NaN</td>\n",
       "    </tr>\n",
       "    <tr>\n",
       "      <th>L5</th>\n",
       "      <td>NaN</td>\n",
       "      <td>NaN</td>\n",
       "      <td>NaN</td>\n",
       "      <td>NaN</td>\n",
       "      <td>NaN</td>\n",
       "    </tr>\n",
       "    <tr>\n",
       "      <th>Wsets</th>\n",
       "      <td>2</td>\n",
       "      <td>2</td>\n",
       "      <td>2</td>\n",
       "      <td>2</td>\n",
       "      <td>2</td>\n",
       "    </tr>\n",
       "    <tr>\n",
       "      <th>Lsets</th>\n",
       "      <td>0</td>\n",
       "      <td>1</td>\n",
       "      <td>0</td>\n",
       "      <td>0</td>\n",
       "      <td>0</td>\n",
       "    </tr>\n",
       "    <tr>\n",
       "      <th>Comment</th>\n",
       "      <td>Completed</td>\n",
       "      <td>Completed</td>\n",
       "      <td>Completed</td>\n",
       "      <td>Completed</td>\n",
       "      <td>Completed</td>\n",
       "    </tr>\n",
       "    <tr>\n",
       "      <th>B365W</th>\n",
       "      <td>1.28</td>\n",
       "      <td>1.5</td>\n",
       "      <td>1.9</td>\n",
       "      <td>1.36</td>\n",
       "      <td>1.4</td>\n",
       "    </tr>\n",
       "    <tr>\n",
       "      <th>B365L</th>\n",
       "      <td>3.5</td>\n",
       "      <td>2.5</td>\n",
       "      <td>1.8</td>\n",
       "      <td>3</td>\n",
       "      <td>2.75</td>\n",
       "    </tr>\n",
       "    <tr>\n",
       "      <th>EXW</th>\n",
       "      <td>1.22</td>\n",
       "      <td>1.45</td>\n",
       "      <td>1.88</td>\n",
       "      <td>1.35</td>\n",
       "      <td>1.38</td>\n",
       "    </tr>\n",
       "    <tr>\n",
       "      <th>EXL</th>\n",
       "      <td>3.5</td>\n",
       "      <td>2.35</td>\n",
       "      <td>1.75</td>\n",
       "      <td>2.75</td>\n",
       "      <td>2.65</td>\n",
       "    </tr>\n",
       "    <tr>\n",
       "      <th>LBW</th>\n",
       "      <td>1.3</td>\n",
       "      <td>1.53</td>\n",
       "      <td>2</td>\n",
       "      <td>1.4</td>\n",
       "      <td>1.4</td>\n",
       "    </tr>\n",
       "    <tr>\n",
       "      <th>LBL</th>\n",
       "      <td>3.5</td>\n",
       "      <td>2.5</td>\n",
       "      <td>1.8</td>\n",
       "      <td>3</td>\n",
       "      <td>3</td>\n",
       "    </tr>\n",
       "    <tr>\n",
       "      <th>PSW</th>\n",
       "      <td>1.31</td>\n",
       "      <td>1.58</td>\n",
       "      <td>2.1</td>\n",
       "      <td>1.42</td>\n",
       "      <td>1.41</td>\n",
       "    </tr>\n",
       "    <tr>\n",
       "      <th>PSL</th>\n",
       "      <td>3.73</td>\n",
       "      <td>2.52</td>\n",
       "      <td>1.81</td>\n",
       "      <td>3.09</td>\n",
       "      <td>3.13</td>\n",
       "    </tr>\n",
       "    <tr>\n",
       "      <th>MaxW</th>\n",
       "      <td>1.33</td>\n",
       "      <td>1.59</td>\n",
       "      <td>2.15</td>\n",
       "      <td>1.42</td>\n",
       "      <td>1.46</td>\n",
       "    </tr>\n",
       "    <tr>\n",
       "      <th>MaxL</th>\n",
       "      <td>3.9</td>\n",
       "      <td>2.55</td>\n",
       "      <td>1.82</td>\n",
       "      <td>3.25</td>\n",
       "      <td>3.13</td>\n",
       "    </tr>\n",
       "    <tr>\n",
       "      <th>AvgW</th>\n",
       "      <td>1.29</td>\n",
       "      <td>1.54</td>\n",
       "      <td>2.01</td>\n",
       "      <td>1.37</td>\n",
       "      <td>1.41</td>\n",
       "    </tr>\n",
       "    <tr>\n",
       "      <th>AvgL</th>\n",
       "      <td>3.5</td>\n",
       "      <td>2.43</td>\n",
       "      <td>1.77</td>\n",
       "      <td>3.01</td>\n",
       "      <td>2.85</td>\n",
       "    </tr>\n",
       "  </tbody>\n",
       "</table>\n",
       "</div>"
      ],
      "text/plain": [
       "                                 0                       1  \\\n",
       "ATP                              1                       1   \n",
       "Location                  Brisbane                Brisbane   \n",
       "Tournament  Brisbane International  Brisbane International   \n",
       "Date           2017-01-01 00:00:00     2017-01-02 00:00:00   \n",
       "Series                      ATP250                  ATP250   \n",
       "Court                      Outdoor                 Outdoor   \n",
       "Surface                       Hard                    Hard   \n",
       "Round                    1st Round               1st Round   \n",
       "Best of                          3                       3   \n",
       "Winner                 Thompson J.                Mahut N.   \n",
       "Loser                      Ymer E.               Robert S.   \n",
       "WRank                           79                      39   \n",
       "LRank                          160                      54   \n",
       "WPts                           689                    1102   \n",
       "LPts                           372                     854   \n",
       "W1                               6                       4   \n",
       "L1                               3                       6   \n",
       "W2                               6                       6   \n",
       "L2                               2                       3   \n",
       "W3                             NaN                       6   \n",
       "L3                             NaN                       4   \n",
       "W4                             NaN                     NaN   \n",
       "L4                             NaN                     NaN   \n",
       "W5                             NaN                     NaN   \n",
       "L5                             NaN                     NaN   \n",
       "Wsets                            2                       2   \n",
       "Lsets                            0                       1   \n",
       "Comment                  Completed               Completed   \n",
       "B365W                         1.28                     1.5   \n",
       "B365L                          3.5                     2.5   \n",
       "EXW                           1.22                    1.45   \n",
       "EXL                            3.5                    2.35   \n",
       "LBW                            1.3                    1.53   \n",
       "LBL                            3.5                     2.5   \n",
       "PSW                           1.31                    1.58   \n",
       "PSL                           3.73                    2.52   \n",
       "MaxW                          1.33                    1.59   \n",
       "MaxL                           3.9                    2.55   \n",
       "AvgW                          1.29                    1.54   \n",
       "AvgL                           3.5                    2.43   \n",
       "\n",
       "                                 2                       3  \\\n",
       "ATP                              1                       1   \n",
       "Location                  Brisbane                Brisbane   \n",
       "Tournament  Brisbane International  Brisbane International   \n",
       "Date           2017-01-02 00:00:00     2017-01-02 00:00:00   \n",
       "Series                      ATP250                  ATP250   \n",
       "Court                      Outdoor                 Outdoor   \n",
       "Surface                       Hard                    Hard   \n",
       "Round                    1st Round               1st Round   \n",
       "Best of                          3                       3   \n",
       "Winner                   Ferrer D.               Edmund K.   \n",
       "Loser                     Tomic B.             Escobedo E.   \n",
       "WRank                           21                      45   \n",
       "LRank                           26                     141   \n",
       "WPts                          1785                    1001   \n",
       "LPts                          1465                     443   \n",
       "W1                               6                       7   \n",
       "L1                               3                       6   \n",
       "W2                               7                       7   \n",
       "L2                               5                       6   \n",
       "W3                             NaN                     NaN   \n",
       "L3                             NaN                     NaN   \n",
       "W4                             NaN                     NaN   \n",
       "L4                             NaN                     NaN   \n",
       "W5                             NaN                     NaN   \n",
       "L5                             NaN                     NaN   \n",
       "Wsets                            2                       2   \n",
       "Lsets                            0                       0   \n",
       "Comment                  Completed               Completed   \n",
       "B365W                          1.9                    1.36   \n",
       "B365L                          1.8                       3   \n",
       "EXW                           1.88                    1.35   \n",
       "EXL                           1.75                    2.75   \n",
       "LBW                              2                     1.4   \n",
       "LBL                            1.8                       3   \n",
       "PSW                            2.1                    1.42   \n",
       "PSL                           1.81                    3.09   \n",
       "MaxW                          2.15                    1.42   \n",
       "MaxL                          1.82                    3.25   \n",
       "AvgW                          2.01                    1.37   \n",
       "AvgL                          1.77                    3.01   \n",
       "\n",
       "                                 4  \n",
       "ATP                              1  \n",
       "Location                  Brisbane  \n",
       "Tournament  Brisbane International  \n",
       "Date           2017-01-02 00:00:00  \n",
       "Series                      ATP250  \n",
       "Court                      Outdoor  \n",
       "Surface                       Hard  \n",
       "Round                    1st Round  \n",
       "Best of                          3  \n",
       "Winner                 Dimitrov G.  \n",
       "Loser                   Johnson S.  \n",
       "WRank                           17  \n",
       "LRank                           33  \n",
       "WPts                          2035  \n",
       "LPts                          1320  \n",
       "W1                               6  \n",
       "L1                               2  \n",
       "W2                               6  \n",
       "L2                               3  \n",
       "W3                             NaN  \n",
       "L3                             NaN  \n",
       "W4                             NaN  \n",
       "L4                             NaN  \n",
       "W5                             NaN  \n",
       "L5                             NaN  \n",
       "Wsets                            2  \n",
       "Lsets                            0  \n",
       "Comment                  Completed  \n",
       "B365W                          1.4  \n",
       "B365L                         2.75  \n",
       "EXW                           1.38  \n",
       "EXL                           2.65  \n",
       "LBW                            1.4  \n",
       "LBL                              3  \n",
       "PSW                           1.41  \n",
       "PSL                           3.13  \n",
       "MaxW                          1.46  \n",
       "MaxL                          3.13  \n",
       "AvgW                          1.41  \n",
       "AvgL                          2.85  "
      ]
     },
     "execution_count": 3,
     "metadata": {},
     "output_type": "execute_result"
    }
   ],
   "source": [
    "df.head().T"
   ]
  },
  {
   "cell_type": "code",
   "execution_count": 4,
   "metadata": {
    "pycharm": {
     "is_executing": false,
     "name": "#%%\n"
    }
   },
   "outputs": [
    {
     "data": {
      "text/html": [
       "<div>\n",
       "<style scoped>\n",
       "    .dataframe tbody tr th:only-of-type {\n",
       "        vertical-align: middle;\n",
       "    }\n",
       "\n",
       "    .dataframe tbody tr th {\n",
       "        vertical-align: top;\n",
       "    }\n",
       "\n",
       "    .dataframe thead th {\n",
       "        text-align: right;\n",
       "    }\n",
       "</style>\n",
       "<table border=\"1\" class=\"dataframe\">\n",
       "  <thead>\n",
       "    <tr style=\"text-align: right;\">\n",
       "      <th></th>\n",
       "      <th>count</th>\n",
       "      <th>unique</th>\n",
       "      <th>top</th>\n",
       "      <th>freq</th>\n",
       "      <th>mean</th>\n",
       "      <th>std</th>\n",
       "      <th>min</th>\n",
       "      <th>50%</th>\n",
       "      <th>max</th>\n",
       "      <th>first</th>\n",
       "      <th>last</th>\n",
       "    </tr>\n",
       "  </thead>\n",
       "  <tbody>\n",
       "    <tr>\n",
       "      <th>ATP</th>\n",
       "      <td>8254</td>\n",
       "      <td>NaN</td>\n",
       "      <td>NaN</td>\n",
       "      <td>NaN</td>\n",
       "      <td>32.2989</td>\n",
       "      <td>18.9789</td>\n",
       "      <td>1</td>\n",
       "      <td>32</td>\n",
       "      <td>67</td>\n",
       "      <td>NaT</td>\n",
       "      <td>NaT</td>\n",
       "    </tr>\n",
       "    <tr>\n",
       "      <th>Location</th>\n",
       "      <td>8254</td>\n",
       "      <td>70</td>\n",
       "      <td>Paris</td>\n",
       "      <td>522</td>\n",
       "      <td>NaN</td>\n",
       "      <td>NaN</td>\n",
       "      <td>NaN</td>\n",
       "      <td>NaN</td>\n",
       "      <td>NaN</td>\n",
       "      <td>NaT</td>\n",
       "      <td>NaT</td>\n",
       "    </tr>\n",
       "    <tr>\n",
       "      <th>Tournament</th>\n",
       "      <td>8254</td>\n",
       "      <td>81</td>\n",
       "      <td>Australian Open</td>\n",
       "      <td>508</td>\n",
       "      <td>NaN</td>\n",
       "      <td>NaN</td>\n",
       "      <td>NaN</td>\n",
       "      <td>NaN</td>\n",
       "      <td>NaN</td>\n",
       "      <td>NaT</td>\n",
       "      <td>NaT</td>\n",
       "    </tr>\n",
       "    <tr>\n",
       "      <th>Date</th>\n",
       "      <td>8254</td>\n",
       "      <td>882</td>\n",
       "      <td>2020-01-21 00:00:00</td>\n",
       "      <td>51</td>\n",
       "      <td>NaN</td>\n",
       "      <td>NaN</td>\n",
       "      <td>NaN</td>\n",
       "      <td>NaN</td>\n",
       "      <td>NaN</td>\n",
       "      <td>2017-01-01</td>\n",
       "      <td>2020-02-16</td>\n",
       "    </tr>\n",
       "    <tr>\n",
       "      <th>Series</th>\n",
       "      <td>8254</td>\n",
       "      <td>5</td>\n",
       "      <td>ATP250</td>\n",
       "      <td>3521</td>\n",
       "      <td>NaN</td>\n",
       "      <td>NaN</td>\n",
       "      <td>NaN</td>\n",
       "      <td>NaN</td>\n",
       "      <td>NaN</td>\n",
       "      <td>NaT</td>\n",
       "      <td>NaT</td>\n",
       "    </tr>\n",
       "    <tr>\n",
       "      <th>Court</th>\n",
       "      <td>8254</td>\n",
       "      <td>2</td>\n",
       "      <td>Outdoor</td>\n",
       "      <td>6894</td>\n",
       "      <td>NaN</td>\n",
       "      <td>NaN</td>\n",
       "      <td>NaN</td>\n",
       "      <td>NaN</td>\n",
       "      <td>NaN</td>\n",
       "      <td>NaT</td>\n",
       "      <td>NaT</td>\n",
       "    </tr>\n",
       "    <tr>\n",
       "      <th>Surface</th>\n",
       "      <td>8254</td>\n",
       "      <td>3</td>\n",
       "      <td>Hard</td>\n",
       "      <td>4829</td>\n",
       "      <td>NaN</td>\n",
       "      <td>NaN</td>\n",
       "      <td>NaN</td>\n",
       "      <td>NaN</td>\n",
       "      <td>NaN</td>\n",
       "      <td>NaT</td>\n",
       "      <td>NaT</td>\n",
       "    </tr>\n",
       "    <tr>\n",
       "      <th>Round</th>\n",
       "      <td>8254</td>\n",
       "      <td>8</td>\n",
       "      <td>1st Round</td>\n",
       "      <td>3712</td>\n",
       "      <td>NaN</td>\n",
       "      <td>NaN</td>\n",
       "      <td>NaN</td>\n",
       "      <td>NaN</td>\n",
       "      <td>NaN</td>\n",
       "      <td>NaT</td>\n",
       "      <td>NaT</td>\n",
       "    </tr>\n",
       "    <tr>\n",
       "      <th>Best of</th>\n",
       "      <td>8254</td>\n",
       "      <td>NaN</td>\n",
       "      <td>NaN</td>\n",
       "      <td>NaN</td>\n",
       "      <td>3.39932</td>\n",
       "      <td>0.799539</td>\n",
       "      <td>3</td>\n",
       "      <td>3</td>\n",
       "      <td>5</td>\n",
       "      <td>NaT</td>\n",
       "      <td>NaT</td>\n",
       "    </tr>\n",
       "    <tr>\n",
       "      <th>Winner</th>\n",
       "      <td>8254</td>\n",
       "      <td>311</td>\n",
       "      <td>Nadal R.</td>\n",
       "      <td>166</td>\n",
       "      <td>NaN</td>\n",
       "      <td>NaN</td>\n",
       "      <td>NaN</td>\n",
       "      <td>NaN</td>\n",
       "      <td>NaN</td>\n",
       "      <td>NaT</td>\n",
       "      <td>NaT</td>\n",
       "    </tr>\n",
       "    <tr>\n",
       "      <th>Loser</th>\n",
       "      <td>8254</td>\n",
       "      <td>437</td>\n",
       "      <td>Paire B.</td>\n",
       "      <td>91</td>\n",
       "      <td>NaN</td>\n",
       "      <td>NaN</td>\n",
       "      <td>NaN</td>\n",
       "      <td>NaN</td>\n",
       "      <td>NaN</td>\n",
       "      <td>NaT</td>\n",
       "      <td>NaT</td>\n",
       "    </tr>\n",
       "    <tr>\n",
       "      <th>WRank</th>\n",
       "      <td>8250</td>\n",
       "      <td>NaN</td>\n",
       "      <td>NaN</td>\n",
       "      <td>NaN</td>\n",
       "      <td>59.7907</td>\n",
       "      <td>70.4475</td>\n",
       "      <td>1</td>\n",
       "      <td>44</td>\n",
       "      <td>1821</td>\n",
       "      <td>NaT</td>\n",
       "      <td>NaT</td>\n",
       "    </tr>\n",
       "    <tr>\n",
       "      <th>LRank</th>\n",
       "      <td>8230</td>\n",
       "      <td>NaN</td>\n",
       "      <td>NaN</td>\n",
       "      <td>NaN</td>\n",
       "      <td>86.4049</td>\n",
       "      <td>104.477</td>\n",
       "      <td>1</td>\n",
       "      <td>63</td>\n",
       "      <td>1821</td>\n",
       "      <td>NaT</td>\n",
       "      <td>NaT</td>\n",
       "    </tr>\n",
       "    <tr>\n",
       "      <th>WPts</th>\n",
       "      <td>8251</td>\n",
       "      <td>NaN</td>\n",
       "      <td>NaN</td>\n",
       "      <td>NaN</td>\n",
       "      <td>1755.96</td>\n",
       "      <td>1922.99</td>\n",
       "      <td>1</td>\n",
       "      <td>1038</td>\n",
       "      <td>12560</td>\n",
       "      <td>NaT</td>\n",
       "      <td>NaT</td>\n",
       "    </tr>\n",
       "    <tr>\n",
       "      <th>LPts</th>\n",
       "      <td>8230</td>\n",
       "      <td>NaN</td>\n",
       "      <td>NaN</td>\n",
       "      <td>NaN</td>\n",
       "      <td>1130.92</td>\n",
       "      <td>1162.02</td>\n",
       "      <td>1</td>\n",
       "      <td>828</td>\n",
       "      <td>12560</td>\n",
       "      <td>NaT</td>\n",
       "      <td>NaT</td>\n",
       "    </tr>\n",
       "    <tr>\n",
       "      <th>W1</th>\n",
       "      <td>8199</td>\n",
       "      <td>NaN</td>\n",
       "      <td>NaN</td>\n",
       "      <td>NaN</td>\n",
       "      <td>5.81315</td>\n",
       "      <td>1.22826</td>\n",
       "      <td>0</td>\n",
       "      <td>6</td>\n",
       "      <td>7</td>\n",
       "      <td>NaT</td>\n",
       "      <td>NaT</td>\n",
       "    </tr>\n",
       "    <tr>\n",
       "      <th>L1</th>\n",
       "      <td>8201</td>\n",
       "      <td>NaN</td>\n",
       "      <td>NaN</td>\n",
       "      <td>NaN</td>\n",
       "      <td>4.17986</td>\n",
       "      <td>1.81933</td>\n",
       "      <td>0</td>\n",
       "      <td>4</td>\n",
       "      <td>7</td>\n",
       "      <td>NaT</td>\n",
       "      <td>NaT</td>\n",
       "    </tr>\n",
       "    <tr>\n",
       "      <th>W2</th>\n",
       "      <td>8140</td>\n",
       "      <td>NaN</td>\n",
       "      <td>NaN</td>\n",
       "      <td>NaN</td>\n",
       "      <td>5.78698</td>\n",
       "      <td>1.26599</td>\n",
       "      <td>0</td>\n",
       "      <td>6</td>\n",
       "      <td>7</td>\n",
       "      <td>NaT</td>\n",
       "      <td>NaT</td>\n",
       "    </tr>\n",
       "    <tr>\n",
       "      <th>L2</th>\n",
       "      <td>8140</td>\n",
       "      <td>NaN</td>\n",
       "      <td>NaN</td>\n",
       "      <td>NaN</td>\n",
       "      <td>4.03686</td>\n",
       "      <td>1.83195</td>\n",
       "      <td>0</td>\n",
       "      <td>4</td>\n",
       "      <td>7</td>\n",
       "      <td>NaT</td>\n",
       "      <td>NaT</td>\n",
       "    </tr>\n",
       "    <tr>\n",
       "      <th>W3</th>\n",
       "      <td>4038</td>\n",
       "      <td>NaN</td>\n",
       "      <td>NaN</td>\n",
       "      <td>NaN</td>\n",
       "      <td>6.05547</td>\n",
       "      <td>0.92626</td>\n",
       "      <td>0</td>\n",
       "      <td>6</td>\n",
       "      <td>7</td>\n",
       "      <td>NaT</td>\n",
       "      <td>NaT</td>\n",
       "    </tr>\n",
       "    <tr>\n",
       "      <th>L3</th>\n",
       "      <td>4038</td>\n",
       "      <td>NaN</td>\n",
       "      <td>NaN</td>\n",
       "      <td>NaN</td>\n",
       "      <td>3.72536</td>\n",
       "      <td>1.77076</td>\n",
       "      <td>0</td>\n",
       "      <td>4</td>\n",
       "      <td>7</td>\n",
       "      <td>NaT</td>\n",
       "      <td>NaT</td>\n",
       "    </tr>\n",
       "    <tr>\n",
       "      <th>W4</th>\n",
       "      <td>830</td>\n",
       "      <td>NaN</td>\n",
       "      <td>NaN</td>\n",
       "      <td>NaN</td>\n",
       "      <td>5.78554</td>\n",
       "      <td>1.3133</td>\n",
       "      <td>0</td>\n",
       "      <td>6</td>\n",
       "      <td>7</td>\n",
       "      <td>NaT</td>\n",
       "      <td>NaT</td>\n",
       "    </tr>\n",
       "    <tr>\n",
       "      <th>L4</th>\n",
       "      <td>830</td>\n",
       "      <td>NaN</td>\n",
       "      <td>NaN</td>\n",
       "      <td>NaN</td>\n",
       "      <td>3.93735</td>\n",
       "      <td>1.93087</td>\n",
       "      <td>0</td>\n",
       "      <td>4</td>\n",
       "      <td>7</td>\n",
       "      <td>NaT</td>\n",
       "      <td>NaT</td>\n",
       "    </tr>\n",
       "    <tr>\n",
       "      <th>W5</th>\n",
       "      <td>299</td>\n",
       "      <td>NaN</td>\n",
       "      <td>NaN</td>\n",
       "      <td>NaN</td>\n",
       "      <td>6.61873</td>\n",
       "      <td>2.04688</td>\n",
       "      <td>2</td>\n",
       "      <td>6</td>\n",
       "      <td>26</td>\n",
       "      <td>NaT</td>\n",
       "      <td>NaT</td>\n",
       "    </tr>\n",
       "    <tr>\n",
       "      <th>L5</th>\n",
       "      <td>299</td>\n",
       "      <td>NaN</td>\n",
       "      <td>NaN</td>\n",
       "      <td>NaN</td>\n",
       "      <td>3.77592</td>\n",
       "      <td>2.6292</td>\n",
       "      <td>0</td>\n",
       "      <td>3</td>\n",
       "      <td>24</td>\n",
       "      <td>NaT</td>\n",
       "      <td>NaT</td>\n",
       "    </tr>\n",
       "    <tr>\n",
       "      <th>Wsets</th>\n",
       "      <td>8199</td>\n",
       "      <td>NaN</td>\n",
       "      <td>NaN</td>\n",
       "      <td>NaN</td>\n",
       "      <td>2.166</td>\n",
       "      <td>0.448776</td>\n",
       "      <td>0</td>\n",
       "      <td>2</td>\n",
       "      <td>3</td>\n",
       "      <td>NaT</td>\n",
       "      <td>NaT</td>\n",
       "    </tr>\n",
       "    <tr>\n",
       "      <th>Lsets</th>\n",
       "      <td>8197</td>\n",
       "      <td>NaN</td>\n",
       "      <td>NaN</td>\n",
       "      <td>NaN</td>\n",
       "      <td>0.435891</td>\n",
       "      <td>0.564481</td>\n",
       "      <td>0</td>\n",
       "      <td>0</td>\n",
       "      <td>2</td>\n",
       "      <td>NaT</td>\n",
       "      <td>NaT</td>\n",
       "    </tr>\n",
       "    <tr>\n",
       "      <th>Comment</th>\n",
       "      <td>8254</td>\n",
       "      <td>5</td>\n",
       "      <td>Completed</td>\n",
       "      <td>7982</td>\n",
       "      <td>NaN</td>\n",
       "      <td>NaN</td>\n",
       "      <td>NaN</td>\n",
       "      <td>NaN</td>\n",
       "      <td>NaN</td>\n",
       "      <td>NaT</td>\n",
       "      <td>NaT</td>\n",
       "    </tr>\n",
       "    <tr>\n",
       "      <th>B365W</th>\n",
       "      <td>8217</td>\n",
       "      <td>NaN</td>\n",
       "      <td>NaN</td>\n",
       "      <td>NaN</td>\n",
       "      <td>1.85795</td>\n",
       "      <td>1.06671</td>\n",
       "      <td>1.002</td>\n",
       "      <td>1.57</td>\n",
       "      <td>29</td>\n",
       "      <td>NaT</td>\n",
       "      <td>NaT</td>\n",
       "    </tr>\n",
       "    <tr>\n",
       "      <th>B365L</th>\n",
       "      <td>8217</td>\n",
       "      <td>NaN</td>\n",
       "      <td>NaN</td>\n",
       "      <td>NaN</td>\n",
       "      <td>3.26145</td>\n",
       "      <td>3.10471</td>\n",
       "      <td>0.967</td>\n",
       "      <td>2.37</td>\n",
       "      <td>41</td>\n",
       "      <td>NaT</td>\n",
       "      <td>NaT</td>\n",
       "    </tr>\n",
       "    <tr>\n",
       "      <th>EXW</th>\n",
       "      <td>5238</td>\n",
       "      <td>NaN</td>\n",
       "      <td>NaN</td>\n",
       "      <td>NaN</td>\n",
       "      <td>1.82311</td>\n",
       "      <td>0.934558</td>\n",
       "      <td>1</td>\n",
       "      <td>1.55</td>\n",
       "      <td>17</td>\n",
       "      <td>NaT</td>\n",
       "      <td>NaT</td>\n",
       "    </tr>\n",
       "    <tr>\n",
       "      <th>EXL</th>\n",
       "      <td>5238</td>\n",
       "      <td>NaN</td>\n",
       "      <td>NaN</td>\n",
       "      <td>NaN</td>\n",
       "      <td>2.9914</td>\n",
       "      <td>2.03374</td>\n",
       "      <td>1</td>\n",
       "      <td>2.35</td>\n",
       "      <td>20</td>\n",
       "      <td>NaT</td>\n",
       "      <td>NaT</td>\n",
       "    </tr>\n",
       "    <tr>\n",
       "      <th>LBW</th>\n",
       "      <td>4527</td>\n",
       "      <td>NaN</td>\n",
       "      <td>NaN</td>\n",
       "      <td>NaN</td>\n",
       "      <td>1.87396</td>\n",
       "      <td>1.06196</td>\n",
       "      <td>1</td>\n",
       "      <td>1.57</td>\n",
       "      <td>21</td>\n",
       "      <td>NaT</td>\n",
       "      <td>NaT</td>\n",
       "    </tr>\n",
       "    <tr>\n",
       "      <th>LBL</th>\n",
       "      <td>4529</td>\n",
       "      <td>NaN</td>\n",
       "      <td>NaN</td>\n",
       "      <td>NaN</td>\n",
       "      <td>3.17269</td>\n",
       "      <td>2.55614</td>\n",
       "      <td>1.01</td>\n",
       "      <td>2.37</td>\n",
       "      <td>41</td>\n",
       "      <td>NaT</td>\n",
       "      <td>NaT</td>\n",
       "    </tr>\n",
       "    <tr>\n",
       "      <th>PSW</th>\n",
       "      <td>8204</td>\n",
       "      <td>NaN</td>\n",
       "      <td>NaN</td>\n",
       "      <td>NaN</td>\n",
       "      <td>1.94391</td>\n",
       "      <td>1.18476</td>\n",
       "      <td>1.005</td>\n",
       "      <td>1.61</td>\n",
       "      <td>27.22</td>\n",
       "      <td>NaT</td>\n",
       "      <td>NaT</td>\n",
       "    </tr>\n",
       "    <tr>\n",
       "      <th>PSL</th>\n",
       "      <td>8204</td>\n",
       "      <td>NaN</td>\n",
       "      <td>NaN</td>\n",
       "      <td>NaN</td>\n",
       "      <td>3.5595</td>\n",
       "      <td>3.56152</td>\n",
       "      <td>1.01</td>\n",
       "      <td>2.47</td>\n",
       "      <td>37.8</td>\n",
       "      <td>NaT</td>\n",
       "      <td>NaT</td>\n",
       "    </tr>\n",
       "    <tr>\n",
       "      <th>MaxW</th>\n",
       "      <td>8249</td>\n",
       "      <td>NaN</td>\n",
       "      <td>NaN</td>\n",
       "      <td>NaN</td>\n",
       "      <td>2.0065</td>\n",
       "      <td>1.3253</td>\n",
       "      <td>1.01</td>\n",
       "      <td>1.65</td>\n",
       "      <td>41</td>\n",
       "      <td>NaT</td>\n",
       "      <td>NaT</td>\n",
       "    </tr>\n",
       "    <tr>\n",
       "      <th>MaxL</th>\n",
       "      <td>8249</td>\n",
       "      <td>NaN</td>\n",
       "      <td>NaN</td>\n",
       "      <td>NaN</td>\n",
       "      <td>3.769</td>\n",
       "      <td>4.1778</td>\n",
       "      <td>1.01</td>\n",
       "      <td>2.55</td>\n",
       "      <td>67</td>\n",
       "      <td>NaT</td>\n",
       "      <td>NaT</td>\n",
       "    </tr>\n",
       "    <tr>\n",
       "      <th>AvgW</th>\n",
       "      <td>8249</td>\n",
       "      <td>NaN</td>\n",
       "      <td>NaN</td>\n",
       "      <td>NaN</td>\n",
       "      <td>1.87054</td>\n",
       "      <td>1.01126</td>\n",
       "      <td>1.01</td>\n",
       "      <td>1.58</td>\n",
       "      <td>21.2</td>\n",
       "      <td>NaT</td>\n",
       "      <td>NaT</td>\n",
       "    </tr>\n",
       "    <tr>\n",
       "      <th>AvgL</th>\n",
       "      <td>8249</td>\n",
       "      <td>NaN</td>\n",
       "      <td>NaN</td>\n",
       "      <td>NaN</td>\n",
       "      <td>3.22506</td>\n",
       "      <td>2.71803</td>\n",
       "      <td>1.01</td>\n",
       "      <td>2.37</td>\n",
       "      <td>28.49</td>\n",
       "      <td>NaT</td>\n",
       "      <td>NaT</td>\n",
       "    </tr>\n",
       "  </tbody>\n",
       "</table>\n",
       "</div>"
      ],
      "text/plain": [
       "           count unique                  top  freq      mean       std    min  \\\n",
       "ATP         8254    NaN                  NaN   NaN   32.2989   18.9789      1   \n",
       "Location    8254     70                Paris   522       NaN       NaN    NaN   \n",
       "Tournament  8254     81      Australian Open   508       NaN       NaN    NaN   \n",
       "Date        8254    882  2020-01-21 00:00:00    51       NaN       NaN    NaN   \n",
       "Series      8254      5               ATP250  3521       NaN       NaN    NaN   \n",
       "Court       8254      2              Outdoor  6894       NaN       NaN    NaN   \n",
       "Surface     8254      3                 Hard  4829       NaN       NaN    NaN   \n",
       "Round       8254      8            1st Round  3712       NaN       NaN    NaN   \n",
       "Best of     8254    NaN                  NaN   NaN   3.39932  0.799539      3   \n",
       "Winner      8254    311             Nadal R.   166       NaN       NaN    NaN   \n",
       "Loser       8254    437             Paire B.    91       NaN       NaN    NaN   \n",
       "WRank       8250    NaN                  NaN   NaN   59.7907   70.4475      1   \n",
       "LRank       8230    NaN                  NaN   NaN   86.4049   104.477      1   \n",
       "WPts        8251    NaN                  NaN   NaN   1755.96   1922.99      1   \n",
       "LPts        8230    NaN                  NaN   NaN   1130.92   1162.02      1   \n",
       "W1          8199    NaN                  NaN   NaN   5.81315   1.22826      0   \n",
       "L1          8201    NaN                  NaN   NaN   4.17986   1.81933      0   \n",
       "W2          8140    NaN                  NaN   NaN   5.78698   1.26599      0   \n",
       "L2          8140    NaN                  NaN   NaN   4.03686   1.83195      0   \n",
       "W3          4038    NaN                  NaN   NaN   6.05547   0.92626      0   \n",
       "L3          4038    NaN                  NaN   NaN   3.72536   1.77076      0   \n",
       "W4           830    NaN                  NaN   NaN   5.78554    1.3133      0   \n",
       "L4           830    NaN                  NaN   NaN   3.93735   1.93087      0   \n",
       "W5           299    NaN                  NaN   NaN   6.61873   2.04688      2   \n",
       "L5           299    NaN                  NaN   NaN   3.77592    2.6292      0   \n",
       "Wsets       8199    NaN                  NaN   NaN     2.166  0.448776      0   \n",
       "Lsets       8197    NaN                  NaN   NaN  0.435891  0.564481      0   \n",
       "Comment     8254      5            Completed  7982       NaN       NaN    NaN   \n",
       "B365W       8217    NaN                  NaN   NaN   1.85795   1.06671  1.002   \n",
       "B365L       8217    NaN                  NaN   NaN   3.26145   3.10471  0.967   \n",
       "EXW         5238    NaN                  NaN   NaN   1.82311  0.934558      1   \n",
       "EXL         5238    NaN                  NaN   NaN    2.9914   2.03374      1   \n",
       "LBW         4527    NaN                  NaN   NaN   1.87396   1.06196      1   \n",
       "LBL         4529    NaN                  NaN   NaN   3.17269   2.55614   1.01   \n",
       "PSW         8204    NaN                  NaN   NaN   1.94391   1.18476  1.005   \n",
       "PSL         8204    NaN                  NaN   NaN    3.5595   3.56152   1.01   \n",
       "MaxW        8249    NaN                  NaN   NaN    2.0065    1.3253   1.01   \n",
       "MaxL        8249    NaN                  NaN   NaN     3.769    4.1778   1.01   \n",
       "AvgW        8249    NaN                  NaN   NaN   1.87054   1.01126   1.01   \n",
       "AvgL        8249    NaN                  NaN   NaN   3.22506   2.71803   1.01   \n",
       "\n",
       "             50%    max      first       last  \n",
       "ATP           32     67        NaT        NaT  \n",
       "Location     NaN    NaN        NaT        NaT  \n",
       "Tournament   NaN    NaN        NaT        NaT  \n",
       "Date         NaN    NaN 2017-01-01 2020-02-16  \n",
       "Series       NaN    NaN        NaT        NaT  \n",
       "Court        NaN    NaN        NaT        NaT  \n",
       "Surface      NaN    NaN        NaT        NaT  \n",
       "Round        NaN    NaN        NaT        NaT  \n",
       "Best of        3      5        NaT        NaT  \n",
       "Winner       NaN    NaN        NaT        NaT  \n",
       "Loser        NaN    NaN        NaT        NaT  \n",
       "WRank         44   1821        NaT        NaT  \n",
       "LRank         63   1821        NaT        NaT  \n",
       "WPts        1038  12560        NaT        NaT  \n",
       "LPts         828  12560        NaT        NaT  \n",
       "W1             6      7        NaT        NaT  \n",
       "L1             4      7        NaT        NaT  \n",
       "W2             6      7        NaT        NaT  \n",
       "L2             4      7        NaT        NaT  \n",
       "W3             6      7        NaT        NaT  \n",
       "L3             4      7        NaT        NaT  \n",
       "W4             6      7        NaT        NaT  \n",
       "L4             4      7        NaT        NaT  \n",
       "W5             6     26        NaT        NaT  \n",
       "L5             3     24        NaT        NaT  \n",
       "Wsets          2      3        NaT        NaT  \n",
       "Lsets          0      2        NaT        NaT  \n",
       "Comment      NaN    NaN        NaT        NaT  \n",
       "B365W       1.57     29        NaT        NaT  \n",
       "B365L       2.37     41        NaT        NaT  \n",
       "EXW         1.55     17        NaT        NaT  \n",
       "EXL         2.35     20        NaT        NaT  \n",
       "LBW         1.57     21        NaT        NaT  \n",
       "LBL         2.37     41        NaT        NaT  \n",
       "PSW         1.61  27.22        NaT        NaT  \n",
       "PSL         2.47   37.8        NaT        NaT  \n",
       "MaxW        1.65     41        NaT        NaT  \n",
       "MaxL        2.55     67        NaT        NaT  \n",
       "AvgW        1.58   21.2        NaT        NaT  \n",
       "AvgL        2.37  28.49        NaT        NaT  "
      ]
     },
     "execution_count": 4,
     "metadata": {},
     "output_type": "execute_result"
    }
   ],
   "source": [
    "df.describe(include='all', percentiles=[]).T"
   ]
  },
  {
   "cell_type": "markdown",
   "metadata": {
    "pycharm": {
     "is_executing": false,
     "name": "#%% md\n"
    }
   },
   "source": [
    "# Cleaning and preparing data\n",
    "\n",
    "## Remove Winner/Loser reference\n",
    "All the column with Winner/Loser reference will be substituted by Player0/Player1."
   ]
  },
  {
   "cell_type": "code",
   "execution_count": 5,
   "metadata": {
    "pycharm": {
     "is_executing": false,
     "name": "#%%\n"
    }
   },
   "outputs": [],
   "source": [
    "df = removeWinnerLoserReference(df)\n",
    "yearZeroForFeatures = removeWinnerLoserReference(yearZeroForFeatures)"
   ]
  },
  {
   "cell_type": "markdown",
   "metadata": {},
   "source": [
    "## Filling null:\n",
    "* Rank: take the max rank plus one\n",
    "* Pts: set default zero\t\n",
    "* Avg odd: take mode of matches with same (or similar) players rank\n",
    "* B365, PS: fill with avg"
   ]
  },
  {
   "cell_type": "code",
   "execution_count": 6,
   "metadata": {
    "pycharm": {
     "is_executing": false,
     "name": "#%%\n"
    }
   },
   "outputs": [
    {
     "name": "stdout",
     "output_type": "stream",
     "text": [
      "<class 'pandas.core.frame.DataFrame'>\n",
      "Int64Index: 8254 entries, 0 to 8253\n",
      "Data columns (total 20 columns):\n",
      " #   Column      Non-Null Count  Dtype         \n",
      "---  ------      --------------  -----         \n",
      " 0   Date        8254 non-null   datetime64[ns]\n",
      " 1   Location    8254 non-null   object        \n",
      " 2   Tournament  8254 non-null   object        \n",
      " 3   Series      8254 non-null   object        \n",
      " 4   Court       8254 non-null   object        \n",
      " 5   Surface     8254 non-null   object        \n",
      " 6   Round       8254 non-null   object        \n",
      " 7   Player0     8254 non-null   object        \n",
      " 8   Player1     8254 non-null   object        \n",
      " 9   Rank0       8254 non-null   float64       \n",
      " 10  Rank1       8254 non-null   float64       \n",
      " 11  Pts0        8254 non-null   float64       \n",
      " 12  Pts1        8254 non-null   float64       \n",
      " 13  Comment     8254 non-null   object        \n",
      " 14  B3650       8254 non-null   float64       \n",
      " 15  B3651       8254 non-null   float64       \n",
      " 16  PS0         8254 non-null   float64       \n",
      " 17  PS1         8254 non-null   float64       \n",
      " 18  Avg0        8254 non-null   float64       \n",
      " 19  Avg1        8254 non-null   float64       \n",
      "dtypes: datetime64[ns](1), float64(10), object(9)\n",
      "memory usage: 1.3+ MB\n"
     ]
    }
   ],
   "source": [
    "rankDefault = max(df['Rank0'].max(), df['Rank1'].max())+1\n",
    "df.fillna({'Rank0': rankDefault, 'Rank1': rankDefault, 'Pts0': 0, 'Pts1': 0}, inplace=True)\n",
    "\n",
    "nullOddsDf = df[df[['B3650', 'B3651', 'PS0', 'PS1', 'Avg0', 'Avg1']].isna().any(axis=1)]\n",
    "for index, row in nullOddsDf.iterrows():\n",
    "    if pd.isnull(row['Avg0']) or pd.isnull(row['Avg1']):\n",
    "        Avg0, Avg1 = findOddsForRow(row, df.dropna(subset=['Avg0', 'Avg1']))\n",
    "        df.at[index, 'Avg0'] = row['Avg0'] = Avg0\n",
    "        df.at[index, 'Avg1'] = row['Avg1'] = Avg1\n",
    "    if pd.isnull(row['B3650']):\n",
    "        df.at[index, 'B3650'] = row['Avg0']\n",
    "    if pd.isnull(row['B3651']):\n",
    "        df.at[index, 'B3651'] = row['Avg1']\n",
    "    if pd.isnull(row['PS0']):\n",
    "        df.at[index, 'PS0'] = row['Avg0']\n",
    "    if pd.isnull(row['PS1']):\n",
    "        df.at[index, 'PS1'] = row['Avg1']\n",
    "\n",
    "df.dropna(subset=['Avg0', 'Avg1'], inplace=True) # Drop rows that hasn't similar rank matches\n",
    "df.info()"
   ]
  },
  {
   "cell_type": "markdown",
   "metadata": {},
   "source": [
    "## New features\n",
    "* [Elo rating](https://en.wikipedia.org/wiki/Elo_rating_system): a method for calculating the relative skill levels of players in zero-sum games\n",
    "* Number of matches played during the last year\n",
    "* Percentage of matches won during the last year\n",
    "* Injuries: number matches in witch the player retired or walkover in the past year \n",
    "* Winning streak: current sequence of won games"
   ]
  },
  {
   "cell_type": "code",
   "execution_count": 7,
   "metadata": {
    "pycharm": {
     "is_executing": false,
     "name": "#%%\n"
    }
   },
   "outputs": [
    {
     "name": "stdout",
     "output_type": "stream",
     "text": [
      "Progress: |█████████████████---------------------------------| 35.7% Complete\r"
     ]
    },
    {
     "name": "stderr",
     "output_type": "stream",
     "text": [
      "IOPub message rate exceeded.\n",
      "The notebook server will temporarily stop sending output\n",
      "to the client in order to avoid crashing it.\n",
      "To change this limit, set the config variable\n",
      "`--NotebookApp.iopub_msg_rate_limit`.\n",
      "\n",
      "Current values:\n",
      "NotebookApp.iopub_msg_rate_limit=1000.0 (msgs/sec)\n",
      "NotebookApp.rate_limit_window=3.0 (secs)\n",
      "\n"
     ]
    },
    {
     "name": "stdout",
     "output_type": "stream",
     "text": [
      "Progress: |█████████████████████████████████████████---------| 82.6% Complete\r"
     ]
    },
    {
     "name": "stderr",
     "output_type": "stream",
     "text": [
      "IOPub message rate exceeded.\n",
      "The notebook server will temporarily stop sending output\n",
      "to the client in order to avoid crashing it.\n",
      "To change this limit, set the config variable\n",
      "`--NotebookApp.iopub_msg_rate_limit`.\n",
      "\n",
      "Current values:\n",
      "NotebookApp.iopub_msg_rate_limit=1000.0 (msgs/sec)\n",
      "NotebookApp.rate_limit_window=3.0 (secs)\n",
      "\n"
     ]
    },
    {
     "name": "stdout",
     "output_type": "stream",
     "text": [
      "Progress: |██████████████████████████████████████████████████| 100.0% Complete\n"
     ]
    }
   ],
   "source": [
    "X = addEloRatingFeature(df)"
   ]
  },
  {
   "cell_type": "code",
   "execution_count": 8,
   "metadata": {
    "pycharm": {
     "is_executing": false,
     "name": "#%%\n"
    }
   },
   "outputs": [
    {
     "name": "stdout",
     "output_type": "stream",
     "text": [
      "Progress: |██████████████████████████████████████████████████| 100.0% Complete\n"
     ]
    }
   ],
   "source": [
    "X = addMatchesPlayedAndWonFeatures(X, yearZeroForFeatures, yearsForFeatures)"
   ]
  },
  {
   "cell_type": "code",
   "execution_count": 9,
   "metadata": {
    "pycharm": {
     "is_executing": false,
     "name": "#%%\n"
    }
   },
   "outputs": [
    {
     "name": "stdout",
     "output_type": "stream",
     "text": [
      "Progress: |██████████████████████████████████████████████████| 100.0% Complete\n"
     ]
    }
   ],
   "source": [
    "X = addInjuriesAndWinningStreakFeatures(X, yearZeroForFeatures, yearsForFeatures)"
   ]
  },
  {
   "cell_type": "code",
   "execution_count": 10,
   "metadata": {
    "pycharm": {
     "is_executing": false,
     "name": "#%%\n"
    }
   },
   "outputs": [],
   "source": [
    "X.to_csv('generated/beforeDuplication.csv', index=False)"
   ]
  },
  {
   "cell_type": "markdown",
   "metadata": {},
   "source": [
    "## Row duplication\n",
    "To use both match outcomes for our prediction models we will duplicate each row. We can do it by switching all the player features for each duplicated row and adding a Winner column for the match result"
   ]
  },
  {
   "cell_type": "code",
   "execution_count": 11,
   "metadata": {
    "pycharm": {
     "is_executing": false,
     "name": "#%%\n"
    }
   },
   "outputs": [
    {
     "data": {
      "text/plain": [
       "Index(['Date', 'Location', 'Tournament', 'Series', 'Court', 'Surface', 'Round',\n",
       "       'Player0', 'Player1', 'Rank0', 'Rank1', 'Pts0', 'Pts1', 'Comment',\n",
       "       'B3650', 'B3651', 'PS0', 'PS1', 'Avg0', 'Avg1', 'EloRating0',\n",
       "       'EloRating1', 'MatchesPlayed0', 'MatchesPlayed1', 'MatchesWon0',\n",
       "       'MatchesWon1', 'Injuries0', 'Injuries1', 'WinningStreak0',\n",
       "       'WinningStreak1'],\n",
       "      dtype='object')"
      ]
     },
     "execution_count": 11,
     "metadata": {},
     "output_type": "execute_result"
    }
   ],
   "source": [
    "X.columns"
   ]
  },
  {
   "cell_type": "code",
   "execution_count": 12,
   "metadata": {
    "pycharm": {
     "is_executing": false,
     "name": "#%%\n"
    }
   },
   "outputs": [],
   "source": [
    "duplication = X.copy()\n",
    "duplication.columns = ['Date', 'Location', 'Tournament', 'Series', 'Court', 'Surface', 'Round',\n",
    "       'Player1', 'Player0', 'Rank1', 'Rank0', 'Pts1', 'Pts0', 'Comment',\n",
    "       'B3651', 'B3650', 'PS1', 'PS0', 'Avg1', 'Avg0', 'EloRating1',\n",
    "       'EloRating0', 'MatchesPlayed1', 'MatchesPlayed0', 'MatchesWon1',\n",
    "       'MatchesWon0', 'Injuries1', 'Injuries0', 'WinningStreak1',\n",
    "       'WinningStreak0']\n",
    "\n",
    "# Add the winner column\n",
    "X = X.assign(Winner=np.zeros(X.shape[0])) # Player 0 always win\n",
    "duplication = duplication.assign(Winner=np.ones(X.shape[0])) # Player 1 always win\n",
    "\n",
    "X = pd.concat([X, duplication])\n",
    "X.reset_index(inplace=True)\n",
    "X.sort_values(by='index', inplace=True)\n",
    "X.drop(columns=['Date', 'Comment', 'index'], inplace=True)"
   ]
  },
  {
   "cell_type": "markdown",
   "metadata": {},
   "source": [
    "## One hot encoding\n",
    "* Location\n",
    "* Tournament\n",
    "* Series\n",
    "* Court\n",
    "* Surface\n",
    "* Round\n",
    "* Players"
   ]
  },
  {
   "cell_type": "code",
   "execution_count": 13,
   "metadata": {
    "pycharm": {
     "is_executing": false,
     "name": "#%%\n"
    }
   },
   "outputs": [
    {
     "name": "stdout",
     "output_type": "stream",
     "text": [
      "Total number of columns: 1064\n"
     ]
    }
   ],
   "source": [
    "X = pd.get_dummies(X)\n",
    "print('Total number of columns:', len(X.columns))\n",
    "\n",
    "X.to_csv('generated/finalDataset.csv', index=False)\n"
   ]
  },
  {
   "cell_type": "markdown",
   "metadata": {},
   "source": [
    "## Dataset subdivision: Train, Validation, Test\n",
    "\n",
    "Train 60%, Validation 20%, Test 20% (taking as test the last part of the dataset)"
   ]
  },
  {
   "cell_type": "code",
   "execution_count": 3,
   "metadata": {
    "pycharm": {
     "is_executing": false,
     "name": "#%%\n"
    }
   },
   "outputs": [
    {
     "data": {
      "text/html": [
       "<div>\n",
       "<style scoped>\n",
       "    .dataframe tbody tr th:only-of-type {\n",
       "        vertical-align: middle;\n",
       "    }\n",
       "\n",
       "    .dataframe tbody tr th {\n",
       "        vertical-align: top;\n",
       "    }\n",
       "\n",
       "    .dataframe thead th {\n",
       "        text-align: right;\n",
       "    }\n",
       "</style>\n",
       "<table border=\"1\" class=\"dataframe\">\n",
       "  <thead>\n",
       "    <tr style=\"text-align: right;\">\n",
       "      <th></th>\n",
       "      <th>Rank0</th>\n",
       "      <th>Rank1</th>\n",
       "      <th>Pts0</th>\n",
       "      <th>Pts1</th>\n",
       "      <th>B3650</th>\n",
       "      <th>B3651</th>\n",
       "      <th>PS0</th>\n",
       "      <th>PS1</th>\n",
       "      <th>Avg0</th>\n",
       "      <th>Avg1</th>\n",
       "      <th>...</th>\n",
       "      <th>Player1_Zayid M.S.</th>\n",
       "      <th>Player1_Zeballos H.</th>\n",
       "      <th>Player1_Zekic M.</th>\n",
       "      <th>Player1_Zhang Ze</th>\n",
       "      <th>Player1_Zhang Ze.</th>\n",
       "      <th>Player1_Zhang Zh.</th>\n",
       "      <th>Player1_Zopp J.</th>\n",
       "      <th>Player1_Zverev A.</th>\n",
       "      <th>Player1_Zverev A.</th>\n",
       "      <th>Player1_Zverev M.</th>\n",
       "    </tr>\n",
       "  </thead>\n",
       "  <tbody>\n",
       "    <tr>\n",
       "      <th>0</th>\n",
       "      <td>79.0</td>\n",
       "      <td>160.0</td>\n",
       "      <td>689.0</td>\n",
       "      <td>372.0</td>\n",
       "      <td>1.28</td>\n",
       "      <td>3.50</td>\n",
       "      <td>1.31</td>\n",
       "      <td>3.73</td>\n",
       "      <td>1.29</td>\n",
       "      <td>3.50</td>\n",
       "      <td>...</td>\n",
       "      <td>0</td>\n",
       "      <td>0</td>\n",
       "      <td>0</td>\n",
       "      <td>0</td>\n",
       "      <td>0</td>\n",
       "      <td>0</td>\n",
       "      <td>0</td>\n",
       "      <td>0</td>\n",
       "      <td>0</td>\n",
       "      <td>0</td>\n",
       "    </tr>\n",
       "    <tr>\n",
       "      <th>1</th>\n",
       "      <td>160.0</td>\n",
       "      <td>79.0</td>\n",
       "      <td>372.0</td>\n",
       "      <td>689.0</td>\n",
       "      <td>3.50</td>\n",
       "      <td>1.28</td>\n",
       "      <td>3.73</td>\n",
       "      <td>1.31</td>\n",
       "      <td>3.50</td>\n",
       "      <td>1.29</td>\n",
       "      <td>...</td>\n",
       "      <td>0</td>\n",
       "      <td>0</td>\n",
       "      <td>0</td>\n",
       "      <td>0</td>\n",
       "      <td>0</td>\n",
       "      <td>0</td>\n",
       "      <td>0</td>\n",
       "      <td>0</td>\n",
       "      <td>0</td>\n",
       "      <td>0</td>\n",
       "    </tr>\n",
       "    <tr>\n",
       "      <th>2</th>\n",
       "      <td>54.0</td>\n",
       "      <td>39.0</td>\n",
       "      <td>854.0</td>\n",
       "      <td>1102.0</td>\n",
       "      <td>2.50</td>\n",
       "      <td>1.50</td>\n",
       "      <td>2.52</td>\n",
       "      <td>1.58</td>\n",
       "      <td>2.43</td>\n",
       "      <td>1.54</td>\n",
       "      <td>...</td>\n",
       "      <td>0</td>\n",
       "      <td>0</td>\n",
       "      <td>0</td>\n",
       "      <td>0</td>\n",
       "      <td>0</td>\n",
       "      <td>0</td>\n",
       "      <td>0</td>\n",
       "      <td>0</td>\n",
       "      <td>0</td>\n",
       "      <td>0</td>\n",
       "    </tr>\n",
       "    <tr>\n",
       "      <th>3</th>\n",
       "      <td>39.0</td>\n",
       "      <td>54.0</td>\n",
       "      <td>1102.0</td>\n",
       "      <td>854.0</td>\n",
       "      <td>1.50</td>\n",
       "      <td>2.50</td>\n",
       "      <td>1.58</td>\n",
       "      <td>2.52</td>\n",
       "      <td>1.54</td>\n",
       "      <td>2.43</td>\n",
       "      <td>...</td>\n",
       "      <td>0</td>\n",
       "      <td>0</td>\n",
       "      <td>0</td>\n",
       "      <td>0</td>\n",
       "      <td>0</td>\n",
       "      <td>0</td>\n",
       "      <td>0</td>\n",
       "      <td>0</td>\n",
       "      <td>0</td>\n",
       "      <td>0</td>\n",
       "    </tr>\n",
       "    <tr>\n",
       "      <th>4</th>\n",
       "      <td>21.0</td>\n",
       "      <td>26.0</td>\n",
       "      <td>1785.0</td>\n",
       "      <td>1465.0</td>\n",
       "      <td>1.90</td>\n",
       "      <td>1.80</td>\n",
       "      <td>2.10</td>\n",
       "      <td>1.81</td>\n",
       "      <td>2.01</td>\n",
       "      <td>1.77</td>\n",
       "      <td>...</td>\n",
       "      <td>0</td>\n",
       "      <td>0</td>\n",
       "      <td>0</td>\n",
       "      <td>0</td>\n",
       "      <td>0</td>\n",
       "      <td>0</td>\n",
       "      <td>0</td>\n",
       "      <td>0</td>\n",
       "      <td>0</td>\n",
       "      <td>0</td>\n",
       "    </tr>\n",
       "  </tbody>\n",
       "</table>\n",
       "<p>5 rows × 1064 columns</p>\n",
       "</div>"
      ],
      "text/plain": [
       "   Rank0  Rank1    Pts0    Pts1  B3650  B3651   PS0   PS1  Avg0  Avg1  ...  \\\n",
       "0   79.0  160.0   689.0   372.0   1.28   3.50  1.31  3.73  1.29  3.50  ...   \n",
       "1  160.0   79.0   372.0   689.0   3.50   1.28  3.73  1.31  3.50  1.29  ...   \n",
       "2   54.0   39.0   854.0  1102.0   2.50   1.50  2.52  1.58  2.43  1.54  ...   \n",
       "3   39.0   54.0  1102.0   854.0   1.50   2.50  1.58  2.52  1.54  2.43  ...   \n",
       "4   21.0   26.0  1785.0  1465.0   1.90   1.80  2.10  1.81  2.01  1.77  ...   \n",
       "\n",
       "   Player1_Zayid M.S.  Player1_Zeballos H.  Player1_Zekic M.  \\\n",
       "0                   0                    0                 0   \n",
       "1                   0                    0                 0   \n",
       "2                   0                    0                 0   \n",
       "3                   0                    0                 0   \n",
       "4                   0                    0                 0   \n",
       "\n",
       "   Player1_Zhang Ze  Player1_Zhang Ze.  Player1_Zhang Zh.  Player1_Zopp J.  \\\n",
       "0                 0                  0                  0                0   \n",
       "1                 0                  0                  0                0   \n",
       "2                 0                  0                  0                0   \n",
       "3                 0                  0                  0                0   \n",
       "4                 0                  0                  0                0   \n",
       "\n",
       "   Player1_Zverev A.  Player1_Zverev A.   Player1_Zverev M.  \n",
       "0                  0                   0                  0  \n",
       "1                  0                   0                  0  \n",
       "2                  0                   0                  0  \n",
       "3                  0                   0                  0  \n",
       "4                  0                   0                  0  \n",
       "\n",
       "[5 rows x 1064 columns]"
      ]
     },
     "execution_count": 3,
     "metadata": {},
     "output_type": "execute_result"
    }
   ],
   "source": [
    "import pandas as pd\n",
    "\n",
    "X = pd.read_csv('generated/finalDataset.csv')\n",
    "\n",
    "X.head()"
   ]
  },
  {
   "cell_type": "code",
   "execution_count": 4,
   "metadata": {
    "pycharm": {
     "is_executing": false,
     "name": "#%%\n"
    }
   },
   "outputs": [],
   "source": [
    "from sklearn.model_selection import train_test_split\n",
    "\n",
    "y = X.Winner.values\n",
    "X.drop(columns='Winner', inplace=True)\n",
    "\n",
    "test_size = len(X)//5\n",
    "X_test     = X[-test_size:]\n",
    "y_test     = y[-test_size:]\n",
    "X_train_80 = X[:-test_size]\n",
    "y_train_80 = y[:-test_size]\n",
    "\n",
    "# Random split for training and validation\n",
    "X_train, X_valid, y_train, y_valid = train_test_split(X_train_80, y_train_80, test_size=0.25, random_state=42)"
   ]
  },
  {
   "cell_type": "markdown",
   "metadata": {},
   "source": [
    "# Prediction models\n",
    "We start by calculating how much powerful are the bookmakers' alghoritms, then we create and tune ours, let's see the results\n",
    "## Baseline\n",
    "Our first goal is to beat the average bookmaker accuracy"
   ]
  },
  {
   "cell_type": "code",
   "execution_count": 16,
   "metadata": {},
   "outputs": [
    {
     "name": "stdout",
     "output_type": "stream",
     "text": [
      "Test Accuracy: 68.46 %\n"
     ]
    }
   ],
   "source": [
    "from sklearn.metrics import accuracy_score\n",
    "\n",
    "#Player 1 wins if the odd is smaller than player 0\n",
    "baseline = X_test['Avg1'] < X_test['Avg0']\n",
    "baseline = baseline.astype(int)\n",
    "baseline_test_acc = accuracy_score(y_true=y_test, y_pred=baseline)\n",
    "print (\"Test Accuracy: {:.2f}\".format(baseline_test_acc*100), \"%\")"
   ]
  },
  {
   "cell_type": "code",
   "execution_count": 5,
   "metadata": {},
   "outputs": [],
   "source": [
    "accuraciesForModels = {'kNN': [], 'Naive Bayes': [], 'Decision Tree': [], 'Random Forest': []}"
   ]
  },
  {
   "cell_type": "markdown",
   "metadata": {},
   "source": [
    "## k-Nearest-Neighbor Classifier"
   ]
  },
  {
   "cell_type": "code",
   "execution_count": 9,
   "metadata": {},
   "outputs": [],
   "source": [
    "from sklearn.preprocessing import StandardScaler\n",
    "\n",
    "scaler = StandardScaler()\n",
    "scaler.fit(X_train)\n",
    "scaled_train = scaler.transform(X_train)\n",
    "scaled_valid = scaler.transform(X_valid)\n",
    "scaled_train_80 = scaler.transform(X_train_80)\n",
    "scaled_test = scaler.transform(X_test)"
   ]
  },
  {
   "cell_type": "code",
   "execution_count": 22,
   "metadata": {},
   "outputs": [
    {
     "name": "stdout",
     "output_type": "stream",
     "text": [
      "k:  1 | Validation Accuracy: 0.519\n",
      "k:  2 | Validation Accuracy: 0.531\n",
      "k:  3 | Validation Accuracy: 0.548\n",
      "k:  4 | Validation Accuracy: 0.555\n",
      "k:  5 | Validation Accuracy: 0.570\n",
      "k:  6 | Validation Accuracy: 0.571\n",
      "k:  7 | Validation Accuracy: 0.590\n",
      "k:  8 | Validation Accuracy: 0.581\n",
      "k:  9 | Validation Accuracy: 0.591\n",
      "k: 10 | Validation Accuracy: 0.581\n",
      "k: 11 | Validation Accuracy: 0.591\n",
      "k: 12 | Validation Accuracy: 0.589\n",
      "k: 13 | Validation Accuracy: 0.595\n",
      "k: 14 | Validation Accuracy: 0.588\n",
      "k: 15 | Validation Accuracy: 0.591\n"
     ]
    }
   ],
   "source": [
    "# Warning: kNN is very slow with this dataset\n",
    "\n",
    "from sklearn import neighbors\n",
    "from sklearn.metrics import accuracy_score\n",
    "\n",
    "accuracies = []\n",
    "\n",
    "for k in range(1,16):\n",
    "    kNN = neighbors.KNeighborsClassifier(n_neighbors=k)\n",
    "    kNN.fit(scaled_train, y_train)\n",
    "    y_pred = kNN.predict(scaled_valid)\n",
    "    valid_acc = accuracy_score(y_true=y_valid, y_pred=y_pred)\n",
    "    print (\"k: {:2d} | Validation Accuracy: {:.3f}\".format(k, valid_acc))\n",
    "    accuracies += [[valid_acc, k]]"
   ]
  },
  {
   "cell_type": "code",
   "execution_count": 6,
   "metadata": {},
   "outputs": [],
   "source": [
    "# All the resulting accuracies for a faster running process purpose\n",
    "\n",
    "accuracies =   [[0.519, 1],\n",
    "                [0.531, 2],\n",
    "                [0.548, 3],\n",
    "                [0.555, 4],\n",
    "                [0.570, 5],\n",
    "                [0.571, 6],\n",
    "                [0.590, 7],\n",
    "                [0.581, 8],\n",
    "                [0.591, 9],\n",
    "                [0.581, 10],\n",
    "                [0.591, 11],\n",
    "                [0.589, 12],\n",
    "                [0.595, 13],\n",
    "                [0.588, 14],\n",
    "                [0.591, 15]]\n",
    "\n",
    "accuraciesForModels['kNN'] = accuracies"
   ]
  },
  {
   "cell_type": "code",
   "execution_count": 11,
   "metadata": {},
   "outputs": [
    {
     "name": "stdout",
     "output_type": "stream",
     "text": [
      "Best K 13\n",
      "Test Accuracy: 0.578\n"
     ]
    }
   ],
   "source": [
    "from sklearn import neighbors\n",
    "from sklearn.metrics import accuracy_score\n",
    "\n",
    "best_accuracy, best_k = max(accuracies)\n",
    "print ( \"Best K\", best_k )\n",
    "\n",
    "kNN = neighbors.KNeighborsClassifier(n_neighbors=best_k)\n",
    "kNN.fit(scaled_train_80, y_train_80)\n",
    "\n",
    "test_acc = accuracy_score(y_true=y_test, y_pred=kNN.predict(scaled_test))\n",
    "print (\"Test Accuracy: {:.3f}\".format(test_acc))"
   ]
  },
  {
   "cell_type": "markdown",
   "metadata": {},
   "source": [
    "## Naive Bayes"
   ]
  },
  {
   "cell_type": "code",
   "execution_count": 12,
   "metadata": {},
   "outputs": [
    {
     "name": "stdout",
     "output_type": "stream",
     "text": [
      "Train Accuracy: 0.684 - Validation Accuracy: 0.629\n",
      "Test Accuracy: 0.630\n"
     ]
    }
   ],
   "source": [
    "from sklearn.naive_bayes import GaussianNB\n",
    "from sklearn.metrics import accuracy_score\n",
    "\n",
    "# Train and predict\n",
    "gnb = GaussianNB()\n",
    "gnb.fit(X_train, y_train)\n",
    "\n",
    "# Compute accuracy\n",
    "train_acc = accuracy_score(y_true=y_train, y_pred=gnb.predict(X_train))\n",
    "valid_acc = accuracy_score(y_true=y_valid, y_pred=gnb.predict(X_valid))\n",
    "print (\"Train Accuracy: {:.3f} - Validation Accuracy: {:.3f}\".format(train_acc, valid_acc))\n",
    "\n",
    "gnb.fit(X_train_80,y_train_80)\n",
    "\n",
    "# Finally evaluate on test\n",
    "test_acc = accuracy_score(y_true=y_test, y_pred=gnb.predict(X_test))\n",
    "print (\"Test Accuracy: {:.3f}\".format(test_acc))\n",
    "\n",
    "accuraciesForModels['Naive Bayes'] = [[valid_acc, 50]]"
   ]
  },
  {
   "cell_type": "markdown",
   "metadata": {},
   "source": [
    "## Decision Tree"
   ]
  },
  {
   "cell_type": "code",
   "execution_count": 13,
   "metadata": {
    "pycharm": {
     "name": "#%%\n"
    },
    "scrolled": false
   },
   "outputs": [
    {
     "name": "stdout",
     "output_type": "stream",
     "text": [
      "Leaves:  5 - Train Accuracy: 0.677 - Validation Accuracy: 0.684\n",
      "Leaves: 10 - Train Accuracy: 0.677 - Validation Accuracy: 0.668\n",
      "Leaves: 15 - Train Accuracy: 0.680 - Validation Accuracy: 0.667\n",
      "Leaves: 20 - Train Accuracy: 0.681 - Validation Accuracy: 0.668\n",
      "Leaves: 25 - Train Accuracy: 0.685 - Validation Accuracy: 0.667\n",
      "Leaves: 30 - Train Accuracy: 0.689 - Validation Accuracy: 0.675\n",
      "Leaves: 35 - Train Accuracy: 0.690 - Validation Accuracy: 0.674\n",
      "Leaves: 40 - Train Accuracy: 0.693 - Validation Accuracy: 0.675\n",
      "Leaves: 45 - Train Accuracy: 0.697 - Validation Accuracy: 0.675\n",
      "Leaves: 50 - Train Accuracy: 0.699 - Validation Accuracy: 0.675\n",
      "Leaves: 55 - Train Accuracy: 0.701 - Validation Accuracy: 0.674\n",
      "Leaves: 60 - Train Accuracy: 0.703 - Validation Accuracy: 0.671\n",
      "Leaves: 65 - Train Accuracy: 0.704 - Validation Accuracy: 0.671\n",
      "Leaves: 70 - Train Accuracy: 0.704 - Validation Accuracy: 0.669\n",
      "Leaves: 75 - Train Accuracy: 0.706 - Validation Accuracy: 0.670\n",
      "Leaves: 80 - Train Accuracy: 0.708 - Validation Accuracy: 0.670\n",
      "Leaves: 85 - Train Accuracy: 0.711 - Validation Accuracy: 0.669\n",
      "Leaves: 90 - Train Accuracy: 0.713 - Validation Accuracy: 0.669\n",
      "Leaves: 95 - Train Accuracy: 0.715 - Validation Accuracy: 0.667\n",
      "Leaves: 100 - Train Accuracy: 0.719 - Validation Accuracy: 0.669\n",
      "Best Max Leaves 5\n",
      "Test Accuracy: 0.680\n"
     ]
    }
   ],
   "source": [
    "from sklearn import tree\n",
    "from sklearn.metrics import accuracy_score\n",
    "\n",
    "accuracies = []\n",
    "\n",
    "for max_leaves in range(5, 101, 5):\n",
    "    # train and predict\n",
    "    dt = tree.DecisionTreeClassifier(max_leaf_nodes=max_leaves)\n",
    "    dt.fit(X_train, y_train)\n",
    "\n",
    "    # compute Accuracy\n",
    "    train_acc = accuracy_score(y_true=y_train, y_pred=dt.predict(X_train))\n",
    "    valid_acc = accuracy_score(y_true=y_valid, y_pred=dt.predict(X_valid))\n",
    "    print (\"Leaves: {:2d} - Train Accuracy: {:.3f} - Validation Accuracy: {:.3f}\".format(\n",
    "        max_leaves,  train_acc, valid_acc) )\n",
    "    \n",
    "    accuracies += [ [valid_acc, max_leaves] ]\n",
    "\n",
    "best_accuracy, best_max_leaves = max(accuracies)\n",
    "print ( \"Best Max Leaves\", best_max_leaves )\n",
    "\n",
    "# here we are using both training and validation,\n",
    "# to exploit the most data\n",
    "dt = tree.DecisionTreeClassifier(max_leaf_nodes=best_max_leaves)\n",
    "dt.fit(X_train_80,y_train_80)\n",
    "\n",
    "# Finally evaluate on test\n",
    "test_acc = accuracy_score(y_true=y_test, y_pred=dt.predict(X_test))\n",
    "print (\"Test Accuracy: {:.3f}\".format(test_acc))\n",
    "\n",
    "accuraciesForModels['Decision Tree'] = accuracies"
   ]
  },
  {
   "cell_type": "markdown",
   "metadata": {},
   "source": [
    "## Random Forest"
   ]
  },
  {
   "cell_type": "code",
   "execution_count": 14,
   "metadata": {},
   "outputs": [
    {
     "name": "stdout",
     "output_type": "stream",
     "text": [
      "Number of Trees:  1 - Train Accuracy: 0.845 - Validation Accuracy: 0.581\n",
      "Number of Trees:  5 - Train Accuracy: 0.955 - Validation Accuracy: 0.639\n",
      "Number of Trees:  9 - Train Accuracy: 0.982 - Validation Accuracy: 0.642\n",
      "Number of Trees: 13 - Train Accuracy: 0.991 - Validation Accuracy: 0.647\n",
      "Number of Trees: 17 - Train Accuracy: 0.995 - Validation Accuracy: 0.650\n",
      "Number of Trees: 21 - Train Accuracy: 0.997 - Validation Accuracy: 0.664\n",
      "Number of Trees: 25 - Train Accuracy: 0.998 - Validation Accuracy: 0.671\n",
      "Number of Trees: 29 - Train Accuracy: 0.999 - Validation Accuracy: 0.664\n",
      "Number of Trees: 33 - Train Accuracy: 0.999 - Validation Accuracy: 0.672\n",
      "Number of Trees: 37 - Train Accuracy: 0.999 - Validation Accuracy: 0.670\n",
      "Number of Trees: 41 - Train Accuracy: 1.000 - Validation Accuracy: 0.669\n",
      "Number of Trees: 45 - Train Accuracy: 1.000 - Validation Accuracy: 0.665\n",
      "Number of Trees: 49 - Train Accuracy: 1.000 - Validation Accuracy: 0.672\n",
      "Number of Trees: 53 - Train Accuracy: 1.000 - Validation Accuracy: 0.662\n",
      "Number of Trees: 57 - Train Accuracy: 1.000 - Validation Accuracy: 0.665\n",
      "Number of Trees: 61 - Train Accuracy: 1.000 - Validation Accuracy: 0.672\n",
      "Number of Trees: 65 - Train Accuracy: 1.000 - Validation Accuracy: 0.673\n",
      "Number of Trees: 69 - Train Accuracy: 1.000 - Validation Accuracy: 0.666\n",
      "Number of Trees: 73 - Train Accuracy: 1.000 - Validation Accuracy: 0.666\n",
      "Number of Trees: 77 - Train Accuracy: 1.000 - Validation Accuracy: 0.672\n",
      "Number of Trees: 81 - Train Accuracy: 1.000 - Validation Accuracy: 0.675\n",
      "Number of Trees: 85 - Train Accuracy: 1.000 - Validation Accuracy: 0.682\n",
      "Number of Trees: 89 - Train Accuracy: 1.000 - Validation Accuracy: 0.670\n",
      "Number of Trees: 93 - Train Accuracy: 1.000 - Validation Accuracy: 0.668\n",
      "Number of Trees: 97 - Train Accuracy: 1.000 - Validation Accuracy: 0.665\n",
      "Number of Trees: 101 - Train Accuracy: 1.000 - Validation Accuracy: 0.673\n",
      "Number of Trees: 105 - Train Accuracy: 1.000 - Validation Accuracy: 0.666\n",
      "Number of Trees: 109 - Train Accuracy: 1.000 - Validation Accuracy: 0.671\n",
      "Number of Trees: 113 - Train Accuracy: 1.000 - Validation Accuracy: 0.668\n",
      "Number of Trees: 117 - Train Accuracy: 1.000 - Validation Accuracy: 0.674\n",
      "Number of Trees: 121 - Train Accuracy: 1.000 - Validation Accuracy: 0.668\n",
      "Number of Trees: 125 - Train Accuracy: 1.000 - Validation Accuracy: 0.665\n",
      "Number of Trees: 129 - Train Accuracy: 1.000 - Validation Accuracy: 0.668\n",
      "Number of Trees: 133 - Train Accuracy: 1.000 - Validation Accuracy: 0.675\n",
      "Number of Trees: 137 - Train Accuracy: 1.000 - Validation Accuracy: 0.673\n",
      "Number of Trees: 141 - Train Accuracy: 1.000 - Validation Accuracy: 0.675\n",
      "Number of Trees: 145 - Train Accuracy: 1.000 - Validation Accuracy: 0.667\n",
      "Number of Trees: 149 - Train Accuracy: 1.000 - Validation Accuracy: 0.667\n",
      "Best Number of Trees 85\n",
      "Test Accuracy: 0.665\n"
     ]
    }
   ],
   "source": [
    "from sklearn.ensemble import RandomForestClassifier\n",
    "from sklearn.metrics import accuracy_score\n",
    "\n",
    "from sklearn import tree\n",
    "from sklearn.metrics import accuracy_score\n",
    "\n",
    "accuracies = []\n",
    "\n",
    "for estimators in range(1, 150, 4):\n",
    "    # train a decision tree classifier\n",
    "    rf = RandomForestClassifier(n_estimators=estimators)\n",
    "    rf.fit(X_train, y_train)\n",
    "\n",
    "    # compute Accuracy\n",
    "    train_acc = accuracy_score(y_true=y_train, y_pred=rf.predict(X_train))\n",
    "    valid_acc = accuracy_score(y_true=y_valid, y_pred=rf.predict(X_valid))\n",
    "    print (\"Number of Trees: {:2d} - Train Accuracy: {:.3f} - Validation Accuracy: {:.3f}\".format(\n",
    "        estimators,  train_acc, valid_acc) )\n",
    "    \n",
    "    accuracies += [ [valid_acc, estimators] ]\n",
    "\n",
    "best_accuracy, best_estimators = max(accuracies)\n",
    "print ( \"Best Number of Trees\", best_estimators )\n",
    "\n",
    "# here we are using both training and validation,\n",
    "# to exploit the most data\n",
    "rf = tree.DecisionTreeClassifier(max_leaf_nodes=best_estimators)\n",
    "rf.fit(X_train_80,y_train_80)\n",
    "\n",
    "# Finally evaluate on test\n",
    "test_acc = accuracy_score(y_true=y_test, y_pred=rf.predict(X_test))\n",
    "print (\"Test Accuracy: {:.3f}\".format(test_acc))\n",
    "\n",
    "accuraciesForModels['Random Forest'] = accuracies"
   ]
  },
  {
   "cell_type": "markdown",
   "metadata": {},
   "source": [
    "## Accuracy Results\n",
    "Let's visualize all the results"
   ]
  },
  {
   "cell_type": "code",
   "execution_count": 15,
   "metadata": {
    "scrolled": false
   },
   "outputs": [
    {
     "data": {
      "text/html": [
       "<div>\n",
       "<style scoped>\n",
       "    .dataframe tbody tr th:only-of-type {\n",
       "        vertical-align: middle;\n",
       "    }\n",
       "\n",
       "    .dataframe tbody tr th {\n",
       "        vertical-align: top;\n",
       "    }\n",
       "\n",
       "    .dataframe thead th {\n",
       "        text-align: right;\n",
       "    }\n",
       "</style>\n",
       "<table border=\"1\" class=\"dataframe\">\n",
       "  <thead>\n",
       "    <tr style=\"text-align: right;\">\n",
       "      <th></th>\n",
       "      <th>Model</th>\n",
       "      <th>Parameter</th>\n",
       "      <th>Accuracy</th>\n",
       "    </tr>\n",
       "  </thead>\n",
       "  <tbody>\n",
       "    <tr>\n",
       "      <th>0</th>\n",
       "      <td>kNN</td>\n",
       "      <td>1</td>\n",
       "      <td>0.519</td>\n",
       "    </tr>\n",
       "    <tr>\n",
       "      <th>1</th>\n",
       "      <td>kNN</td>\n",
       "      <td>2</td>\n",
       "      <td>0.531</td>\n",
       "    </tr>\n",
       "    <tr>\n",
       "      <th>2</th>\n",
       "      <td>kNN</td>\n",
       "      <td>3</td>\n",
       "      <td>0.548</td>\n",
       "    </tr>\n",
       "    <tr>\n",
       "      <th>3</th>\n",
       "      <td>kNN</td>\n",
       "      <td>4</td>\n",
       "      <td>0.555</td>\n",
       "    </tr>\n",
       "    <tr>\n",
       "      <th>4</th>\n",
       "      <td>kNN</td>\n",
       "      <td>5</td>\n",
       "      <td>0.570</td>\n",
       "    </tr>\n",
       "  </tbody>\n",
       "</table>\n",
       "</div>"
      ],
      "text/plain": [
       "  Model Parameter  Accuracy\n",
       "0   kNN         1     0.519\n",
       "1   kNN         2     0.531\n",
       "2   kNN         3     0.548\n",
       "3   kNN         4     0.555\n",
       "4   kNN         5     0.570"
      ]
     },
     "execution_count": 15,
     "metadata": {},
     "output_type": "execute_result"
    }
   ],
   "source": [
    "cols = ['Model', 'Parameter', 'Accuracy']\n",
    "accuraciesForPlots = pd.DataFrame(columns = cols)\n",
    "\n",
    "for i, key in enumerate(accuraciesForModels):\n",
    "    for el in accuraciesForModels[key]:\n",
    "        accuraciesForPlots.loc[len(accuraciesForPlots)] = [key, el[1], el[0]]\n",
    "\n",
    "accuraciesForPlots.head()"
   ]
  },
  {
   "cell_type": "code",
   "execution_count": 16,
   "metadata": {},
   "outputs": [
    {
     "data": {
      "image/png": "[encoded data removed]",
      "text/plain": [
       "<Figure size 864x432 with 4 Axes>"
      ]
     },
     "metadata": {},
     "output_type": "display_data"
    }
   ],
   "source": [
    "import seaborn as sns\n",
    "import matplotlib.pyplot as plt\n",
    "\n",
    "sns.set(style=\"ticks\")\n",
    "sns.set_palette(\"husl\")\n",
    "\n",
    "grid = sns.FacetGrid(accuraciesForPlots, col=\"Model\", aspect=2, ylim=(0.5, 1),\n",
    "                     col_wrap=2, sharex=False, hue=\"Model\")\n",
    "grid.map(plt.axhline, y=0, ls=\":\", c=\".5\")\n",
    "grid.map(plt.plot, 'Parameter', 'Accuracy', marker=\"o\")\n",
    "grid.set_axis_labels(\"\", \"Accuracy\")\n",
    "\n",
    "grid.savefig(\"generated/accuracies.png\")"
   ]
  },
  {
   "cell_type": "markdown",
   "metadata": {},
   "source": [
    "As we can see the kNN isn't very powerful with this type of predictions, the Naive Bayes model isn't bad but we can't tune it very much. So we will spend more effort with trying to increase the accuracy of the last two."
   ]
  },
  {
   "cell_type": "markdown",
   "metadata": {},
   "source": [
    "## Bias and Variance evaluation\n",
    "We compute bias and variance by repeatedly training the models on different data samples.\n",
    "\n",
    "### Decision Tree"
   ]
  },
  {
   "cell_type": "code",
   "execution_count": 33,
   "metadata": {},
   "outputs": [
    {
     "name": "stdout",
     "output_type": "stream",
     "text": [
      "Progress: |█████---------------------------------------------| 10.0% Complete\r"
     ]
    },
    {
     "ename": "KeyboardInterrupt",
     "evalue": "",
     "output_type": "error",
     "traceback": [
      "\u001b[1;31m---------------------------------------------------------------------------\u001b[0m",
      "\u001b[1;31mKeyboardInterrupt\u001b[0m                         Traceback (most recent call last)",
      "\u001b[1;32m<ipython-input-33-5236e608cab4>\u001b[0m in \u001b[0;36m<module>\u001b[1;34m\u001b[0m\n\u001b[0;32m     15\u001b[0m \u001b[1;33m\u001b[0m\u001b[0m\n\u001b[0;32m     16\u001b[0m         \u001b[0mdt\u001b[0m \u001b[1;33m=\u001b[0m \u001b[0mDecisionTreeClassifier\u001b[0m\u001b[1;33m(\u001b[0m\u001b[0mmax_leaf_nodes\u001b[0m\u001b[1;33m=\u001b[0m\u001b[0mmax_leaves\u001b[0m\u001b[1;33m)\u001b[0m\u001b[1;33m\u001b[0m\u001b[1;33m\u001b[0m\u001b[0m\n\u001b[1;32m---> 17\u001b[1;33m         \u001b[0mdt\u001b[0m\u001b[1;33m.\u001b[0m\u001b[0mfit\u001b[0m\u001b[1;33m(\u001b[0m\u001b[0mXs\u001b[0m\u001b[1;33m,\u001b[0m\u001b[0mys\u001b[0m\u001b[1;33m)\u001b[0m\u001b[1;33m\u001b[0m\u001b[1;33m\u001b[0m\u001b[0m\n\u001b[0m\u001b[0;32m     18\u001b[0m \u001b[1;33m\u001b[0m\u001b[0m\n\u001b[0;32m     19\u001b[0m         \u001b[0my_pred\u001b[0m \u001b[1;33m=\u001b[0m \u001b[0mdt\u001b[0m\u001b[1;33m.\u001b[0m\u001b[0mpredict\u001b[0m\u001b[1;33m(\u001b[0m\u001b[0mX\u001b[0m\u001b[1;33m)\u001b[0m\u001b[1;33m\u001b[0m\u001b[1;33m\u001b[0m\u001b[0m\n",
      "\u001b[1;32mC:\\ProgramData\\Anaconda3\\lib\\site-packages\\sklearn\\tree\\_classes.py\u001b[0m in \u001b[0;36mfit\u001b[1;34m(self, X, y, sample_weight, check_input, X_idx_sorted)\u001b[0m\n\u001b[0;32m    875\u001b[0m             \u001b[0msample_weight\u001b[0m\u001b[1;33m=\u001b[0m\u001b[0msample_weight\u001b[0m\u001b[1;33m,\u001b[0m\u001b[1;33m\u001b[0m\u001b[1;33m\u001b[0m\u001b[0m\n\u001b[0;32m    876\u001b[0m             \u001b[0mcheck_input\u001b[0m\u001b[1;33m=\u001b[0m\u001b[0mcheck_input\u001b[0m\u001b[1;33m,\u001b[0m\u001b[1;33m\u001b[0m\u001b[1;33m\u001b[0m\u001b[0m\n\u001b[1;32m--> 877\u001b[1;33m             X_idx_sorted=X_idx_sorted)\n\u001b[0m\u001b[0;32m    878\u001b[0m         \u001b[1;32mreturn\u001b[0m \u001b[0mself\u001b[0m\u001b[1;33m\u001b[0m\u001b[1;33m\u001b[0m\u001b[0m\n\u001b[0;32m    879\u001b[0m \u001b[1;33m\u001b[0m\u001b[0m\n",
      "\u001b[1;32mC:\\ProgramData\\Anaconda3\\lib\\site-packages\\sklearn\\tree\\_classes.py\u001b[0m in \u001b[0;36mfit\u001b[1;34m(self, X, y, sample_weight, check_input, X_idx_sorted)\u001b[0m\n\u001b[0;32m    147\u001b[0m \u001b[1;33m\u001b[0m\u001b[0m\n\u001b[0;32m    148\u001b[0m         \u001b[1;32mif\u001b[0m \u001b[0mcheck_input\u001b[0m\u001b[1;33m:\u001b[0m\u001b[1;33m\u001b[0m\u001b[1;33m\u001b[0m\u001b[0m\n\u001b[1;32m--> 149\u001b[1;33m             \u001b[0mX\u001b[0m \u001b[1;33m=\u001b[0m \u001b[0mcheck_array\u001b[0m\u001b[1;33m(\u001b[0m\u001b[0mX\u001b[0m\u001b[1;33m,\u001b[0m \u001b[0mdtype\u001b[0m\u001b[1;33m=\u001b[0m\u001b[0mDTYPE\u001b[0m\u001b[1;33m,\u001b[0m \u001b[0maccept_sparse\u001b[0m\u001b[1;33m=\u001b[0m\u001b[1;34m\"csc\"\u001b[0m\u001b[1;33m)\u001b[0m\u001b[1;33m\u001b[0m\u001b[1;33m\u001b[0m\u001b[0m\n\u001b[0m\u001b[0;32m    150\u001b[0m             \u001b[0my\u001b[0m \u001b[1;33m=\u001b[0m \u001b[0mcheck_array\u001b[0m\u001b[1;33m(\u001b[0m\u001b[0my\u001b[0m\u001b[1;33m,\u001b[0m \u001b[0mensure_2d\u001b[0m\u001b[1;33m=\u001b[0m\u001b[1;32mFalse\u001b[0m\u001b[1;33m,\u001b[0m \u001b[0mdtype\u001b[0m\u001b[1;33m=\u001b[0m\u001b[1;32mNone\u001b[0m\u001b[1;33m)\u001b[0m\u001b[1;33m\u001b[0m\u001b[1;33m\u001b[0m\u001b[0m\n\u001b[0;32m    151\u001b[0m             \u001b[1;32mif\u001b[0m \u001b[0missparse\u001b[0m\u001b[1;33m(\u001b[0m\u001b[0mX\u001b[0m\u001b[1;33m)\u001b[0m\u001b[1;33m:\u001b[0m\u001b[1;33m\u001b[0m\u001b[1;33m\u001b[0m\u001b[0m\n",
      "\u001b[1;32mC:\\ProgramData\\Anaconda3\\lib\\site-packages\\sklearn\\utils\\validation.py\u001b[0m in \u001b[0;36mcheck_array\u001b[1;34m(array, accept_sparse, accept_large_sparse, dtype, order, copy, force_all_finite, ensure_2d, allow_nd, ensure_min_samples, ensure_min_features, warn_on_dtype, estimator)\u001b[0m\n\u001b[0;32m    529\u001b[0m                     \u001b[0marray\u001b[0m \u001b[1;33m=\u001b[0m \u001b[0marray\u001b[0m\u001b[1;33m.\u001b[0m\u001b[0mastype\u001b[0m\u001b[1;33m(\u001b[0m\u001b[0mdtype\u001b[0m\u001b[1;33m,\u001b[0m \u001b[0mcasting\u001b[0m\u001b[1;33m=\u001b[0m\u001b[1;34m\"unsafe\"\u001b[0m\u001b[1;33m,\u001b[0m \u001b[0mcopy\u001b[0m\u001b[1;33m=\u001b[0m\u001b[1;32mFalse\u001b[0m\u001b[1;33m)\u001b[0m\u001b[1;33m\u001b[0m\u001b[1;33m\u001b[0m\u001b[0m\n\u001b[0;32m    530\u001b[0m                 \u001b[1;32melse\u001b[0m\u001b[1;33m:\u001b[0m\u001b[1;33m\u001b[0m\u001b[1;33m\u001b[0m\u001b[0m\n\u001b[1;32m--> 531\u001b[1;33m                     \u001b[0marray\u001b[0m \u001b[1;33m=\u001b[0m \u001b[0mnp\u001b[0m\u001b[1;33m.\u001b[0m\u001b[0masarray\u001b[0m\u001b[1;33m(\u001b[0m\u001b[0marray\u001b[0m\u001b[1;33m,\u001b[0m \u001b[0morder\u001b[0m\u001b[1;33m=\u001b[0m\u001b[0morder\u001b[0m\u001b[1;33m,\u001b[0m \u001b[0mdtype\u001b[0m\u001b[1;33m=\u001b[0m\u001b[0mdtype\u001b[0m\u001b[1;33m)\u001b[0m\u001b[1;33m\u001b[0m\u001b[1;33m\u001b[0m\u001b[0m\n\u001b[0m\u001b[0;32m    532\u001b[0m             \u001b[1;32mexcept\u001b[0m \u001b[0mComplexWarning\u001b[0m\u001b[1;33m:\u001b[0m\u001b[1;33m\u001b[0m\u001b[1;33m\u001b[0m\u001b[0m\n\u001b[0;32m    533\u001b[0m                 raise ValueError(\"Complex data not supported\\n\"\n",
      "\u001b[1;32mC:\\ProgramData\\Anaconda3\\lib\\site-packages\\numpy\\core\\_asarray.py\u001b[0m in \u001b[0;36masarray\u001b[1;34m(a, dtype, order)\u001b[0m\n\u001b[0;32m     83\u001b[0m \u001b[1;33m\u001b[0m\u001b[0m\n\u001b[0;32m     84\u001b[0m     \"\"\"\n\u001b[1;32m---> 85\u001b[1;33m     \u001b[1;32mreturn\u001b[0m \u001b[0marray\u001b[0m\u001b[1;33m(\u001b[0m\u001b[0ma\u001b[0m\u001b[1;33m,\u001b[0m \u001b[0mdtype\u001b[0m\u001b[1;33m,\u001b[0m \u001b[0mcopy\u001b[0m\u001b[1;33m=\u001b[0m\u001b[1;32mFalse\u001b[0m\u001b[1;33m,\u001b[0m \u001b[0morder\u001b[0m\u001b[1;33m=\u001b[0m\u001b[0morder\u001b[0m\u001b[1;33m)\u001b[0m\u001b[1;33m\u001b[0m\u001b[1;33m\u001b[0m\u001b[0m\n\u001b[0m\u001b[0;32m     86\u001b[0m \u001b[1;33m\u001b[0m\u001b[0m\n\u001b[0;32m     87\u001b[0m \u001b[1;33m\u001b[0m\u001b[0m\n",
      "\u001b[1;31mKeyboardInterrupt\u001b[0m: "
     ]
    }
   ],
   "source": [
    "from sklearn.utils import resample\n",
    "from sklearn.tree import DecisionTreeClassifier\n",
    "import numpy as np\n",
    "\n",
    "N_TESTS = 20\n",
    "\n",
    "stats = pd.DataFrame(columns=['Trees', 'Type', 'Value'])\n",
    "printProgressBar(0, 100, prefix='Progress:', suffix='Complete')\n",
    "\n",
    "for max_leaves in range(5, 101, 5):\n",
    "    y_preds = np.array([])\n",
    "    \n",
    "    for i in range(N_TESTS):\n",
    "        Xs, ys = resample(X,y, n_samples=int(0.67*len(y)) )\n",
    "\n",
    "        dt = DecisionTreeClassifier(max_leaf_nodes=max_leaves)\n",
    "        dt.fit(Xs,ys)\n",
    "\n",
    "        y_pred = dt.predict(X)\n",
    "        y_preds = np.column_stack( [y_preds, y_pred] ) if y_preds.size else y_pred\n",
    "\n",
    "    dt_bias     = (y-np.mean(y_preds,axis=1))**2\n",
    "    dt_variance = np.var(y_preds,axis=1)\n",
    "    dt_error    = (y_preds - y.reshape(-1,1))**2\n",
    "\n",
    "    stats.loc[len(stats)] = [max_leaves, 'Error', dt_error.mean()]\n",
    "    stats.loc[len(stats)] = [max_leaves, 'Bias', dt_bias.mean()]\n",
    "    stats.loc[len(stats)] = [max_leaves, 'Variance', dt_variance.mean()]\n",
    "    \n",
    "    printProgressBar(max_leaves, 100, prefix='Progress:', suffix='Complete')\n",
    "\n",
    "\n",
    "grid = sns.catplot(x='Trees', y='Value', hue='Type', kind='point', data=stats)\n",
    "grid.set_axis_labels(\"Number of Leaves\", \"\")\n",
    "\n",
    "grid.savefig(\"generated/bias-variance-DT.png\")"
   ]
  },
  {
   "cell_type": "markdown",
   "metadata": {},
   "source": [
    "As we can see from the results the variance seems to grow rapidly, so we can try to lower it using the bagging technique."
   ]
  },
  {
   "cell_type": "code",
   "execution_count": null,
   "metadata": {},
   "outputs": [],
   "source": [
    "from sklearn.utils import resample\n",
    "from sklearn.tree import DecisionTreeClassifier\n",
    "from sklearn.ensemble import BaggingClassifier\n",
    "import numpy as np\n",
    "\n",
    "N_TESTS = 20\n",
    "\n",
    "stats = pd.DataFrame(columns=['Trees', 'Type', 'Value'])\n",
    "printProgressBar(0, 35, prefix='Progress:', suffix='Complete')\n",
    "\n",
    "for b_rounds in range(5, 36, 5):\n",
    "    y_preds = np.array([])\n",
    "    \n",
    "    for i in range(N_TESTS):\n",
    "        Xs, ys = resample(X,y, n_samples=int(0.67*len(y)) )\n",
    "\n",
    "        dt = BaggingClassifier(DecisionTreeClassifier(max_leaf_nodes=20), n_estimators=b_rounds)\n",
    "        dt.fit(Xs,ys)\n",
    "\n",
    "        y_pred = dt.predict(X)\n",
    "        y_preds = np.column_stack( [y_preds, y_pred] ) if y_preds.size else y_pred\n",
    "\n",
    "    dt_bias     = (y-np.mean(y_preds,axis=1))**2\n",
    "    dt_variance = np.var(y_preds,axis=1)\n",
    "    dt_error    = (y_preds - y.reshape(-1,1))**2\n",
    "\n",
    "    stats.loc[len(stats)] = [b_rounds, 'Error', dt_error.mean()]\n",
    "    stats.loc[len(stats)] = [b_rounds, 'Bias', dt_bias.mean()]\n",
    "    stats.loc[len(stats)] = [b_rounds, 'Variance', dt_variance.mean()]\n",
    "    \n",
    "    printProgressBar(b_rounds, 35, prefix='Progress:', suffix='Complete')\n",
    "\n",
    "\n",
    "grid = sns.catplot(x='Trees', y='Value', hue='Type', kind='point', data=stats)\n",
    "grid.set_axis_labels(\"Bagging Rounds\", \"\")\n",
    "\n",
    "grid.savefig(\"generated/bias-variance-DT-bagging.png\")"
   ]
  },
  {
   "cell_type": "markdown",
   "metadata": {},
   "source": [
    "### Random Forest"
   ]
  },
  {
   "cell_type": "code",
   "execution_count": null,
   "metadata": {},
   "outputs": [
    {
     "name": "stdout",
     "output_type": "stream",
     "text": [
      "Progress: |██████████████████████████████████████████████████| 100.0% Complete\n",
      "Progress: |█████████████████████████████████████████████████████████████████| 130.8% Complete\r"
     ]
    }
   ],
   "source": [
    "from sklearn.utils import resample\n",
    "from sklearn.ensemble import RandomForestClassifier\n",
    "import numpy as np\n",
    "\n",
    "N_TESTS = 20\n",
    "\n",
    "stats = pd.DataFrame(columns=['Trees', 'Type', 'Value'])\n",
    "printProgressBar(0, 97-45, prefix='Progress:', suffix='Complete')\n",
    "\n",
    "for l in range(45, 100, 4):\n",
    "    y_preds = np.array([])\n",
    "    \n",
    "    for i in range(N_TESTS):\n",
    "        Xs, ys = resample(X,y, n_samples=int(0.67*len(y)) )\n",
    "\n",
    "        rf = RandomForestClassifier(n_estimators=l)\n",
    "        rf.fit(Xs,ys)\n",
    "\n",
    "        y_pred = rf.predict(X)\n",
    "        y_preds = np.column_stack( [y_preds, y_pred] ) if y_preds.size else y_pred\n",
    "\n",
    "    rf_bias     = (y-np.mean(y_preds,axis=1))**2\n",
    "    rf_variance = np.var(y_preds,axis=1)\n",
    "    rf_error    = (y_preds - y.reshape(-1,1))**2\n",
    "\n",
    "    stats.loc[len(stats)] = [l, 'Error', rf_error.mean()]\n",
    "    stats.loc[len(stats)] = [l, 'Bias', rf_bias.mean()]\n",
    "    stats.loc[len(stats)] = [l, 'Variance', rf_variance.mean()]\n",
    "    \n",
    "    printProgressBar(l, 97-45, prefix='Progress:', suffix='Complete')\n",
    "\n",
    "\n",
    "grid = sns.catplot(x='Trees', y='Value', hue='Type', kind='point', data=stats)\n",
    "grid.set_axis_labels(\"Number of Trees\", \"\")\n",
    "\n",
    "grid.savefig(\"generated/bias-variance-RF.png\")"
   ]
  },
  {
   "cell_type": "markdown",
   "metadata": {},
   "source": [
    "## Further improvements\n",
    "\n",
    "We can see that Random Forest has a stable error over 30 (trees) and we can proceed with a more fine tuning. To improve Decision Tree we will try to apply the bagging technique to see the improvements."
   ]
  },
  {
   "cell_type": "markdown",
   "metadata": {},
   "source": [
    "### Bagging applied to Decision Tree"
   ]
  },
  {
   "cell_type": "code",
   "execution_count": 34,
   "metadata": {},
   "outputs": [
    {
     "name": "stdout",
     "output_type": "stream",
     "text": [
      "Bagging Rounds: 20 - Train Accuracy: 0.695 - Validation Accuracy: 0.675\n",
      "Bagging Rounds: 25 - Train Accuracy: 0.698 - Validation Accuracy: 0.679\n",
      "Bagging Rounds: 30 - Train Accuracy: 0.698 - Validation Accuracy: 0.682\n",
      "Bagging Rounds: 35 - Train Accuracy: 0.697 - Validation Accuracy: 0.677\n",
      "Bagging Rounds: 40 - Train Accuracy: 0.699 - Validation Accuracy: 0.680\n",
      "Bagging Rounds: 45 - Train Accuracy: 0.695 - Validation Accuracy: 0.673\n",
      "Bagging Rounds: 50 - Train Accuracy: 0.698 - Validation Accuracy: 0.675\n",
      "Best Max Leaves 30\n",
      "Test Accuracy: 0.644\n"
     ]
    }
   ],
   "source": [
    "from sklearn.metrics import accuracy_score\n",
    "from sklearn.tree import DecisionTreeClassifier\n",
    "from sklearn.ensemble import BaggingClassifier\n",
    "\n",
    "accuracies = []\n",
    "\n",
    "for b_rounds in range(20, 51, 5):\n",
    "    dt = BaggingClassifier(DecisionTreeClassifier(max_leaf_nodes=20), n_estimators=b_rounds)\n",
    "    dt.fit(X_train, y_train)\n",
    "\n",
    "    train_acc = accuracy_score(y_true=y_train, y_pred=dt.predict(X_train))\n",
    "    valid_acc = accuracy_score(y_true=y_valid, y_pred=dt.predict(X_valid))\n",
    "    print (\"Bagging Rounds: {:2d} - Train Accuracy: {:.3f} - Validation Accuracy: {:.3f}\".format(\n",
    "        b_rounds,  train_acc, valid_acc) )\n",
    "    \n",
    "    accuracies += [ [valid_acc, b_rounds] ]\n",
    "\n",
    "best_accuracy, best_b_rounds = max(accuracies)\n",
    "print ( \"Best Max Leaves\", best_b_rounds )\n",
    "\n",
    "dt = tree.DecisionTreeClassifier(max_leaf_nodes=best_b_rounds)\n",
    "dt.fit(X_train_80,y_train_80)\n",
    "test_acc = accuracy_score(y_true=y_test, y_pred=dt.predict(X_test))\n",
    "print (\"Test Accuracy: {:.3f}\".format(test_acc))"
   ]
  },
  {
   "cell_type": "markdown",
   "metadata": {},
   "source": [
    "We have improved the validation accuracy, but the test one is worse"
   ]
  },
  {
   "cell_type": "markdown",
   "metadata": {},
   "source": [
    "### Fine tuning Random Forest with Randomized Search"
   ]
  },
  {
   "cell_type": "code",
   "execution_count": null,
   "metadata": {},
   "outputs": [],
   "source": [
    "from sklearn.ensemble import RandomForestClassifier\n",
    "\n",
    "rf = RandomForestClassifier()\n",
    "rf.get_params()"
   ]
  },
  {
   "cell_type": "code",
   "execution_count": null,
   "metadata": {},
   "outputs": [],
   "source": [
    "from sklearn.model_selection import RandomizedSearchCV\n",
    "\n",
    "# Number of features to consider at every split\n",
    "max_features = ['auto', 'sqrt']\n",
    "\n",
    "# Maximum number of levels in tree\n",
    "max_depth = [int(x) for x in np.linspace(10, 150, num = 11)]\n",
    "max_depth.append(None)\n",
    "\n",
    "# Minimum number of samples required to split a node\n",
    "min_samples_split = [2, 5, 10]\n",
    "\n",
    "# Minimum number of samples required at each leaf node\n",
    "min_samples_leaf = [1, 2, 4]\n",
    "\n",
    "# Method of selecting samples for training each tree\n",
    "bootstrap = [True, False]\n",
    "\n",
    "# Create the random grid\n",
    "random_grid = {'max_features': max_features,\n",
    "               'max_depth': max_depth,\n",
    "               'min_samples_split': min_samples_split,\n",
    "               'min_samples_leaf': min_samples_leaf,\n",
    "               'bootstrap': bootstrap}"
   ]
  },
  {
   "cell_type": "code",
   "execution_count": null,
   "metadata": {},
   "outputs": [],
   "source": [
    "rf = RandomForestClassifier(n_estimators=50)\n",
    "# Random search of parameters \n",
    "# Default 5-fold cross validation, 50 different combinations, and use all available cores\n",
    "rf_random = RandomizedSearchCV(estimator=rf, param_distributions=random_grid, n_iter = 100, random_state=42, n_jobs = -1)\n",
    "rf_random.fit(X_train, y_train)"
   ]
  },
  {
   "cell_type": "code",
   "execution_count": null,
   "metadata": {},
   "outputs": [],
   "source": [
    "rf_random.best_params_"
   ]
  },
  {
   "cell_type": "markdown",
   "metadata": {},
   "source": [
    "Resulted in:\n",
    "\n",
    "{'min_samples_split': 10,\n",
    " 'min_samples_leaf': 1,\n",
    " 'max_features': 'auto',\n",
    " 'max_depth': 52,\n",
    " 'bootstrap': True}"
   ]
  },
  {
   "cell_type": "code",
   "execution_count": null,
   "metadata": {},
   "outputs": [],
   "source": [
    "from sklearn.ensemble import RandomForestClassifier\n",
    "from sklearn.metrics import accuracy_score\n",
    "\n",
    "rf = RandomForestClassifier(n_estimators=50, min_samples_split=10, min_samples_leaf=1, max_features='auto', max_depth=52)\n",
    "rf.fit(X_train, y_train)\n",
    "\n",
    "train_acc = accuracy_score(y_true=y_train, y_pred=rf.predict(X_train))\n",
    "print (\"Train Accuracy: {:.3f}\".format(train_acc))\n",
    "\n",
    "valid_acc = accuracy_score(y_true=y_valid, y_pred=rf.predict(X_valid))\n",
    "print (\"Validation Accuracy: {:.3f}\".format(valid_acc))\n",
    "\n",
    "rf.fit(X_train_80,y_train_80)\n",
    "test_acc = accuracy_score(y_true=y_test, y_pred=rf.predict(X_test))\n",
    "print (\"Test Accuracy: {:.3f}\".format(test_acc))"
   ]
  },
  {
   "cell_type": "markdown",
   "metadata": {},
   "source": [
    "Our previous RF: Train Accuracy: 1.000 - Validation accuracy: 0.849 - Test accuracy: 0.844\n",
    "  The tuned one: Train Accuracy: 0.976 - Validation Accuracy: 0.852 - Test Accuracy: 0.852\n",
    "  \n",
    "We've got a little gain of 0.8 % on the final test accuracy."
   ]
  },
  {
   "cell_type": "markdown",
   "metadata": {},
   "source": [
    "### Fine tuning Random Forest with Grid Research\n",
    "\n",
    "Now we have a general idea of what are the best parameters intervals, we will use Grid Research to improve more our params."
   ]
  },
  {
   "cell_type": "code",
   "execution_count": null,
   "metadata": {},
   "outputs": [],
   "source": [
    "from sklearn.model_selection import GridSearchCV\n",
    "# Create the parameter grid based on the results of random search \n",
    "param_grid = {\n",
    "    'bootstrap': [True],\n",
    "    'max_depth': [50, 51, 52, 53, 54],\n",
    "    'min_samples_leaf': [1, 2, 3],\n",
    "    'min_samples_split': [8, 10, 12]\n",
    "}\n",
    "\n",
    "rf = RandomForestClassifier(n_estimators=50)\n",
    "grid_search = GridSearchCV(estimator=rf, param_grid=param_grid, n_jobs=-1)\n",
    "grid_search.fit(X_train, y_train)"
   ]
  },
  {
   "cell_type": "code",
   "execution_count": null,
   "metadata": {},
   "outputs": [],
   "source": [
    "grid_search.best_params_"
   ]
  },
  {
   "cell_type": "code",
   "execution_count": null,
   "metadata": {},
   "outputs": [],
   "source": [
    "from sklearn.ensemble import RandomForestClassifier\n",
    "from sklearn.metrics import accuracy_score\n",
    "\n",
    "rf = RandomForestClassifier(n_estimators=50, min_samples_split=10, min_samples_leaf=1, max_features='auto', max_depth=50)\n",
    "rf.fit(X_train, y_train)\n",
    "\n",
    "train_acc = accuracy_score(y_true=y_train, y_pred=rf.predict(X_train))\n",
    "print (\"Train Accuracy: {:.3f}\".format(train_acc))\n",
    "\n",
    "valid_acc = accuracy_score(y_true=y_valid, y_pred=rf.predict(X_valid))\n",
    "print (\"Validation Accuracy: {:.3f}\".format(valid_acc))\n",
    "\n",
    "rf.fit(X_train_80,y_train_80)\n",
    "test_acc = accuracy_score(y_true=y_test, y_pred=rf.predict(X_test))\n",
    "print (\"Test Accuracy: {:.3f}\".format(test_acc))"
   ]
  },
  {
   "cell_type": "markdown",
   "metadata": {},
   "source": [
    "The parameters are very similar and there isn't improvement on the results so we can move on a new analysis."
   ]
  },
  {
   "cell_type": "markdown",
   "metadata": {},
   "source": [
    "## Feature Analysis"
   ]
  },
  {
   "cell_type": "code",
   "execution_count": 35,
   "metadata": {},
   "outputs": [
    {
     "data": {
      "text/plain": [
       "RandomForestClassifier(bootstrap=True, ccp_alpha=0.0, class_weight=None,\n",
       "                       criterion='gini', max_depth=52, max_features='auto',\n",
       "                       max_leaf_nodes=None, max_samples=None,\n",
       "                       min_impurity_decrease=0.0, min_impurity_split=None,\n",
       "                       min_samples_leaf=1, min_samples_split=10,\n",
       "                       min_weight_fraction_leaf=0.0, n_estimators=50,\n",
       "                       n_jobs=None, oob_score=False, random_state=None,\n",
       "                       verbose=0, warm_start=False)"
      ]
     },
     "execution_count": 35,
     "metadata": {},
     "output_type": "execute_result"
    }
   ],
   "source": [
    "from sklearn.ensemble import RandomForestClassifier\n",
    "\n",
    "rf = RandomForestClassifier(n_estimators=50, min_samples_split=10, min_samples_leaf=1, max_features='auto', max_depth=52)\n",
    "rf.fit(X_train_80, y_train_80)"
   ]
  },
  {
   "cell_type": "code",
   "execution_count": 36,
   "metadata": {},
   "outputs": [],
   "source": [
    "featureImportance = pd.DataFrame()\n",
    "featureImportance['Feature'] = X.columns\n",
    "featureImportance['Importance'] = rf.feature_importances_\n",
    "\n",
    "plotFeatures = featureImportance.sort_values(by='Importance', ascending=False).head(n=30)"
   ]
  },
  {
   "cell_type": "code",
   "execution_count": 37,
   "metadata": {},
   "outputs": [
    {
     "data": {
      "text/plain": [
       "<matplotlib.axes._subplots.AxesSubplot at 0x2964790ae48>"
      ]
     },
     "execution_count": 37,
     "metadata": {},
     "output_type": "execute_result"
    },
    {
     "data": {
      "image/png": "[encoded data removed]",
      "text/plain": [
       "<Figure size 432x1080 with 1 Axes>"
      ]
     },
     "metadata": {},
     "output_type": "display_data"
    }
   ],
   "source": [
    "import seaborn as sns\n",
    "import matplotlib.pyplot as plt\n",
    "\n",
    "f, ax = plt.subplots(figsize=(6, 15))\n",
    "\n",
    "sns.barplot(x=\"Importance\", y=\"Feature\", data=plotFeatures)"
   ]
  },
  {
   "cell_type": "markdown",
   "metadata": {},
   "source": [
    "### Recursive Feature Elimination"
   ]
  },
  {
   "cell_type": "code",
   "execution_count": 38,
   "metadata": {},
   "outputs": [
    {
     "data": {
      "text/plain": [
       "RFE(estimator=RandomForestClassifier(bootstrap=True, ccp_alpha=0.0,\n",
       "                                     class_weight=None, criterion='gini',\n",
       "                                     max_depth=52, max_features='auto',\n",
       "                                     max_leaf_nodes=None, max_samples=None,\n",
       "                                     min_impurity_decrease=0.0,\n",
       "                                     min_impurity_split=None,\n",
       "                                     min_samples_leaf=1, min_samples_split=10,\n",
       "                                     min_weight_fraction_leaf=0.0,\n",
       "                                     n_estimators=50, n_jobs=None,\n",
       "                                     oob_score=False, random_state=None,\n",
       "                                     verbose=0, warm_start=False),\n",
       "    n_features_to_select=5, step=100, verbose=0)"
      ]
     },
     "execution_count": 38,
     "metadata": {},
     "output_type": "execute_result"
    }
   ],
   "source": [
    "from sklearn.feature_selection import RFE\n",
    "\n",
    "selector = RFE(rf, step=100, n_features_to_select=5)\n",
    "\n",
    "selector.fit(X,y)\n"
   ]
  },
  {
   "cell_type": "code",
   "execution_count": 39,
   "metadata": {},
   "outputs": [
    {
     "data": {
      "text/plain": [
       "array([ 2,  2,  1, ...,  5, 10,  5])"
      ]
     },
     "execution_count": 39,
     "metadata": {},
     "output_type": "execute_result"
    }
   ],
   "source": [
    "selector.ranking_"
   ]
  },
  {
   "cell_type": "code",
   "execution_count": 40,
   "metadata": {},
   "outputs": [],
   "source": [
    "featureImportance['Rank'] = selector.ranking_\n",
    "plotRank = featureImportance.sort_values(by='Rank').head(n=80)"
   ]
  },
  {
   "cell_type": "code",
   "execution_count": 41,
   "metadata": {},
   "outputs": [
    {
     "data": {
      "text/plain": [
       "<matplotlib.axes._subplots.AxesSubplot at 0x29647a34b88>"
      ]
     },
     "execution_count": 41,
     "metadata": {},
     "output_type": "execute_result"
    },
    {
     "data": {
      "image/png": "[encoded data removed]",
      "text/plain": [
       "<Figure size 432x1080 with 1 Axes>"
      ]
     },
     "metadata": {},
     "output_type": "display_data"
    }
   ],
   "source": [
    "import seaborn as sns\n",
    "import matplotlib.pyplot as plt\n",
    "\n",
    "f, ax = plt.subplots(figsize=(6, 15))\n",
    "\n",
    "sns.barplot(x=\"Rank\", y=\"Feature\", data=plotRank)"
   ]
  },
  {
   "cell_type": "markdown",
   "metadata": {},
   "source": [
    "As we can see from the two plots the most important features are very similar, we can try to remove all the players columns to see if the accuracy increases"
   ]
  },
  {
   "cell_type": "code",
   "execution_count": 42,
   "metadata": {},
   "outputs": [
    {
     "name": "stdout",
     "output_type": "stream",
     "text": [
      "0.6543471675249924\n"
     ]
    },
    {
     "data": {
      "image/png": "[encoded data removed]",
      "text/plain": [
       "<Figure size 360x360 with 1 Axes>"
      ]
     },
     "metadata": {},
     "output_type": "display_data"
    }
   ],
   "source": [
    "from sklearn.metrics import confusion_matrix\n",
    "from sklearn.ensemble import RandomForestClassifier\n",
    "from sklearn.metrics import accuracy_score\n",
    "\n",
    "rf = RandomForestClassifier(n_estimators=50, min_samples_split=10, min_samples_leaf=1, max_features='auto', max_depth=52)\n",
    "rf.fit(X_train_80, y_train_80)\n",
    "predicted = rf.predict(X_test)\n",
    "conf_stat = confusion_matrix(y_true=y_test, y_pred=predicted)\n",
    "\n",
    "print(accuracy_score(y_true=y_test, y_pred=predicted))\n",
    "\n",
    "import seaborn as sns\n",
    "\n",
    "fig, ax = plt.subplots(figsize=(5,5), tight_layout=True)\n",
    "sns.heatmap(conf_stat, annot=True, fmt=\".3f\", \n",
    "            linewidths=.5, square = True, \n",
    "            cmap = 'Blues_r',cbar=False,\n",
    "            xticklabels=rf.classes_,\n",
    "            yticklabels=rf.classes_);\n",
    "ax.set_ylabel('True Label', fontsize=14);\n",
    "ax.set_xlabel('Predicted Label', fontsize=14);"
   ]
  },
  {
   "cell_type": "code",
   "execution_count": 43,
   "metadata": {},
   "outputs": [],
   "source": [
    "columns = featureImportance[featureImportance['Rank'] <= 2]['Feature']\n",
    "\n",
    "X_test = X_test[columns]\n",
    "X_train_80 = X_train_80[columns]\n",
    "X_train = X_train[columns]\n",
    "X_valid = X_valid[columns]"
   ]
  },
  {
   "cell_type": "code",
   "execution_count": 44,
   "metadata": {},
   "outputs": [
    {
     "name": "stdout",
     "output_type": "stream",
     "text": [
      "0.6585883065737655\n"
     ]
    },
    {
     "data": {
      "image/png": "[encoded data removed]",
      "text/plain": [
       "<Figure size 360x360 with 1 Axes>"
      ]
     },
     "metadata": {},
     "output_type": "display_data"
    }
   ],
   "source": [
    "from sklearn.metrics import confusion_matrix\n",
    "from sklearn.ensemble import RandomForestClassifier\n",
    "from sklearn.metrics import accuracy_score\n",
    "\n",
    "rf = RandomForestClassifier(n_estimators=50, min_samples_split=10, min_samples_leaf=1, max_features='auto', max_depth=52)\n",
    "rf.fit(X_train_80, y_train_80)\n",
    "predicted = rf.predict(X_test)\n",
    "conf_stat = confusion_matrix(y_true=y_test, y_pred=predicted)\n",
    "\n",
    "print(accuracy_score(y_true=y_test, y_pred=predicted))\n",
    "\n",
    "import seaborn as sns\n",
    "\n",
    "fig, ax = plt.subplots(figsize=(5,5), tight_layout=True)\n",
    "sns.heatmap(conf_stat, annot=True, fmt=\".3f\", \n",
    "            linewidths=.5, square = True, \n",
    "            cmap = 'Blues_r',cbar=False,\n",
    "            xticklabels=rf.classes_,\n",
    "            yticklabels=rf.classes_);\n",
    "ax.set_ylabel('True Label', fontsize=14);\n",
    "ax.set_xlabel('Predicted Label', fontsize=14);"
   ]
  },
  {
   "cell_type": "markdown",
   "metadata": {},
   "source": [
    "After removing most of the features the resulting improvement in accuracy is very low (+ 0.061%)"
   ]
  },
  {
   "cell_type": "markdown",
   "metadata": {},
   "source": [
    "### Clustering\n",
    "Now we have maximized our classifier accuracy, we move on with clustering. The main purpose is to see if we can determine where our classifier works the best and isolate those cases to bulid a low risk betting strategy."
   ]
  },
  {
   "cell_type": "code",
   "execution_count": null,
   "metadata": {},
   "outputs": [],
   "source": [
    "from sklearn.metrics import confusion_matrix\n",
    "from sklearn.ensemble import RandomForestClassifier\n",
    "from sklearn.metrics import accuracy_score\n",
    "\n",
    "rf = RandomForestClassifier(n_estimators=50, min_samples_split=10, min_samples_leaf=1, max_features='auto', max_depth=52)\n",
    "rf.fit(X_train, y_train)\n",
    "predicted = rf.predict(X_valid)"
   ]
  },
  {
   "cell_type": "code",
   "execution_count": null,
   "metadata": {},
   "outputs": [],
   "source": [
    "# Apply XOR to find wrongly predicted matches\n",
    "import numpy as np\n",
    "\n",
    "wrong_predictions_mask = np.logical_xor(y_valid, predicted)\n",
    "right_predictions_mask = np.logical_not(np.logical_xor(y_valid, predicted))\n",
    "\n",
    "wrong_predictions = X_valid[wrong_predictions_mask]\n",
    "right_predictions = X_valid[right_predictions_mask]\n",
    "\n",
    "wrong_predictions.head()"
   ]
  },
  {
   "cell_type": "code",
   "execution_count": 19,
   "metadata": {},
   "outputs": [],
   "source": [
    "from sklearn.cluster import DBSCAN\n",
    "\n",
    "dbscanR = DBSCAN()\n",
    "labelsR = dbscanR.fit_predict(X)\n",
    "\n",
    "# dbscanW = DBSCAN()\n",
    "# labelsW = dbscanW.fit_predict(wrong_predictions)"
   ]
  },
  {
   "cell_type": "code",
   "execution_count": 20,
   "metadata": {},
   "outputs": [
    {
     "data": {
      "text/plain": [
       "Text(0.5, 1.0, 'Right Predictions')"
      ]
     },
     "execution_count": 20,
     "metadata": {},
     "output_type": "execute_result"
    },
    {
     "data": {
      "image/png": "[encoded data removed]",
      "text/plain": [
       "<Figure size 864x360 with 2 Axes>"
      ]
     },
     "metadata": {
      "needs_background": "light"
     },
     "output_type": "display_data"
    }
   ],
   "source": [
    "import matplotlib.pyplot as plt\n",
    "\n",
    "fig, axs = plt.subplots(ncols=2, figsize=(12,5))\n",
    "\n",
    "axs[0].scatter(X['WinningStreak1'], X['WinningStreak0'], c=labelsR)\n",
    "axs[0].set_title(\"Right Predictions\")\n",
    "\n",
    "# axs[1].scatter(wrong_predictions['WinningStreak1'], wrong_predictions['WinningStreak0'], c=labelsW)\n",
    "# axs[1].set_title(\"Wrong Predictions\")"
   ]
  },
  {
   "cell_type": "code",
   "execution_count": null,
   "metadata": {},
   "outputs": [],
   "source": [
    "right_predictions[['WinningStreak1', 'WinningStreak0']].head(30)"
   ]
  },
  {
   "cell_type": "code",
   "execution_count": null,
   "metadata": {},
   "outputs": [],
   "source": []
  }
 ],
 "metadata": {
  "kernelspec": {
   "display_name": "Python 3",
   "language": "python",
   "name": "python3"
  },
  "language_info": {
   "codemirror_mode": {
    "name": "ipython",
    "version": 3
   },
   "file_extension": ".py",
   "mimetype": "text/x-python",
   "name": "python",
   "nbconvert_exporter": "python",
   "pygments_lexer": "ipython3",
   "version": "3.7.6"
  },
  "pycharm": {
   "stem_cell": {
    "cell_type": "raw",
    "metadata": {
     "collapsed": false
    },
    "source": []
   }
  }
 },
 "nbformat": 4,
 "nbformat_minor": 1
}
