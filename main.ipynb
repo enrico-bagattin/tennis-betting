{
 "cells": [
  {
   "cell_type": "markdown",
   "metadata": {
    "pycharm": {
     "is_executing": false,
     "name": "#%% md\n"
    }
   },
   "source": [
    "# Lab IS&A\n",
    "## Bagattin Enrico - Alessandro Doretto"
   ]
  },
  {
   "cell_type": "code",
   "execution_count": 65,
   "metadata": {
    "pycharm": {
     "is_executing": false,
     "name": "#%%\n"
    }
   },
   "outputs": [],
   "source": [
    "# Import\n",
    "import pandas as pd\n",
    "import numpy as np\n",
    "import glob\n",
    "\n",
    "# Modules\n",
    "from utilities import *\n",
    "from dataPreparation import *"
   ]
  },
  {
   "cell_type": "code",
   "execution_count": null,
   "metadata": {
    "pycharm": {
     "is_executing": false,
     "name": "#%%\n"
    },
    "scrolled": true
   },
   "outputs": [],
   "source": [
    "# Import data\n",
    "years = [2017, 2018, 2019, 2020]\n",
    "yearsForFeatures = [2016, 2017, 2018, 2019, 2020]\n",
    "paths = []\n",
    "for y in years:\n",
    "    paths.append('matches/' + str(y) + '.xlsx') \n",
    "availablePaths = list(glob.glob(\"matches/20*.xlsx\"))\n",
    "matches = [pd.read_excel(path) for path in paths]\n",
    "yearZeroForFeatures = pd.read_excel('matches/' + str(years[0]-1) + '.xlsx')\n",
    "# TODO: Load matches based on number of past years choosen\n",
    "df = pd.concat(matches, ignore_index=True, sort=False)\n",
    "df.info()"
   ]
  },
  {
   "cell_type": "code",
   "execution_count": null,
   "metadata": {
    "pycharm": {
     "is_executing": false
    },
    "scrolled": false
   },
   "outputs": [],
   "source": [
    "df.head().T"
   ]
  },
  {
   "cell_type": "code",
   "execution_count": null,
   "metadata": {
    "pycharm": {
     "is_executing": false,
     "name": "#%%\n"
    }
   },
   "outputs": [],
   "source": [
    "df.describe(include='all', percentiles=[]).T"
   ]
  },
  {
   "cell_type": "markdown",
   "metadata": {
    "pycharm": {
     "is_executing": false,
     "name": "#%% md\n"
    }
   },
   "source": [
    "# Cleaning and preparing data\n",
    "\n",
    "## Remove Winner/Loser reference\n",
    "All the column with Winner/Loser reference will be substituted by Player0/Player1."
   ]
  },
  {
   "cell_type": "code",
   "execution_count": null,
   "metadata": {
    "pycharm": {
     "is_executing": false,
     "name": "#%%\n"
    }
   },
   "outputs": [],
   "source": [
    "df = removeWinnerLoserReference(df)\n",
    "yearZeroForFeatures = removeWinnerLoserReference(yearZeroForFeatures)"
   ]
  },
  {
   "cell_type": "markdown",
   "metadata": {},
   "source": [
    "## Filling null:\n",
    "* Rank: take the max rank plus one\n",
    "* Pts: set default zero\t\n",
    "* Avg odd: take mode of matches with same (or similar) players rank\n",
    "* B365, PS: fill with avg"
   ]
  },
  {
   "cell_type": "code",
   "execution_count": null,
   "metadata": {
    "pycharm": {
     "is_executing": false,
     "name": "#%%\n"
    }
   },
   "outputs": [],
   "source": [
    "rankDefault = max(df['Rank0'].max(), df['Rank1'].max())+1\n",
    "df.fillna({'Rank0': rankDefault, 'Rank1': rankDefault, 'Pts0': 0, 'Pts1': 0}, inplace=True)\n",
    "\n",
    "nullOddsDf = df[df[['B3650', 'B3651', 'PS0', 'PS1', 'Avg0', 'Avg1']].isna().any(axis=1)]\n",
    "for index, row in nullOddsDf.iterrows():\n",
    "    if pd.isnull(row['Avg0']) or pd.isnull(row['Avg1']):\n",
    "        Avg0, Avg1 = findOddsForRow(row, df.dropna(subset=['Avg0', 'Avg1']))\n",
    "        df.at[index, 'Avg0'] = row['Avg0'] = Avg0\n",
    "        df.at[index, 'Avg1'] = row['Avg1'] = Avg1\n",
    "    if pd.isnull(row['B3650']):\n",
    "        df.at[index, 'B3650'] = row['Avg0']\n",
    "    if pd.isnull(row['B3651']):\n",
    "        df.at[index, 'B3651'] = row['Avg1']\n",
    "    if pd.isnull(row['PS0']):\n",
    "        df.at[index, 'PS0'] = row['Avg0']\n",
    "    if pd.isnull(row['PS1']):\n",
    "        df.at[index, 'PS1'] = row['Avg1']\n",
    "\n",
    "df.dropna(subset=['Avg0', 'Avg1'], inplace=True) # Drop rows that hasn't similar rank matches\n",
    "df.info()"
   ]
  },
  {
   "cell_type": "markdown",
   "metadata": {},
   "source": [
    "## Handle Round ????????"
   ]
  },
  {
   "cell_type": "code",
   "execution_count": null,
   "metadata": {
    "pycharm": {
     "is_executing": false,
     "name": "#%%\n"
    }
   },
   "outputs": [],
   "source": [
    "# X['Round'].value_counts()"
   ]
  },
  {
   "cell_type": "code",
   "execution_count": null,
   "metadata": {
    "pycharm": {
     "is_executing": false,
     "name": "#%%\n"
    }
   },
   "outputs": [],
   "source": [
    "# you might change this according to a notion of weight\n",
    "# X['Round'] = X['Round'].map ({  '1st Round'    : 1, \n",
    "#                                 '2nd Round'    : 2, \n",
    "#                                 '3rd Round'    : 4,\n",
    "#                                 '4th Round'    : 8,\n",
    "#                                 'Quarterfinals': 16,\n",
    "#                                 'Round Robin'  : 32,\n",
    "#                                 'Semifinals'   : 32,\n",
    "#                                 'The Final'    : 64})"
   ]
  },
  {
   "cell_type": "markdown",
   "metadata": {},
   "source": [
    "## New features\n",
    "* [Elo rating](https://en.wikipedia.org/wiki/Elo_rating_system): a method for calculating the relative skill levels of players in zero-sum games\n",
    "* Number of matches played during the last year\n",
    "* Percentage of matches won during the last year\n",
    "* Injuries: number matches in witch the player retired or walkover in the past year \n",
    "* Winning streak: current sequence of won games"
   ]
  },
  {
   "cell_type": "code",
   "execution_count": null,
   "metadata": {
    "pycharm": {
     "is_executing": false,
     "name": "#%%\n"
    }
   },
   "outputs": [],
   "source": [
    "X = addEloRatingFeature(df)"
   ]
  },
  {
   "cell_type": "code",
   "execution_count": null,
   "metadata": {
    "pycharm": {
     "is_executing": false,
     "name": "#%%\n"
    }
   },
   "outputs": [],
   "source": [
    "X = addMatchesPlayedAndWonFeatures(X, yearZeroForFeatures, yearsForFeatures)"
   ]
  },
  {
   "cell_type": "code",
   "execution_count": null,
   "metadata": {
    "pycharm": {
     "is_executing": false,
     "name": "#%%\n"
    }
   },
   "outputs": [],
   "source": [
    "X = addInjuriesAndWinningStreakFeatures(X, yearZeroForFeatures, yearsForFeatures)"
   ]
  },
  {
   "cell_type": "code",
   "execution_count": null,
   "metadata": {
    "pycharm": {
     "is_executing": false,
     "name": "#%%\n"
    }
   },
   "outputs": [],
   "source": [
    "X.to_csv('generated/beforeDuplication.csv', index=False)"
   ]
  },
  {
   "cell_type": "markdown",
   "metadata": {},
   "source": [
    "## Row duplication\n",
    "To use both match outcomes for our prediction models we will duplicate each row. We can do it by switching all the player features for each duplicated row and adding a Winner column for the match result"
   ]
  },
  {
   "cell_type": "code",
   "execution_count": null,
   "metadata": {
    "pycharm": {
     "is_executing": false,
     "name": "#%%\n"
    }
   },
   "outputs": [],
   "source": [
    "X.columns"
   ]
  },
  {
   "cell_type": "code",
   "execution_count": null,
   "metadata": {
    "pycharm": {
     "is_executing": false,
     "name": "#%%\n"
    }
   },
   "outputs": [],
   "source": [
    "duplication = X.copy()\n",
    "duplication.columns = ['Date', 'Location', 'Tournament', 'Series', 'Court', 'Surface', 'Round',\n",
    "       'Player1', 'Player0', 'Rank1', 'Rank0', 'Pts1', 'Pts0', 'Comment',\n",
    "       'B3651', 'B3650', 'PS1', 'PS0', 'Avg1', 'Avg0', 'EloRating1',\n",
    "       'EloRating0', 'MatchesPlayed1', 'MatchesPlayed0', 'MatchesWon1',\n",
    "       'MatchesWon0', 'Injuries1', 'Injuries0', 'WinningStreak1',\n",
    "       'WinningStreak0']\n",
    "\n",
    "# Add the winner column\n",
    "X = X.assign(Winner=np.zeros(X.shape[0])) # Player 0 always win\n",
    "duplication = duplication.assign(Winner=np.ones(X.shape[0])) # Player 1 always win\n",
    "\n",
    "X = pd.concat([X, duplication])\n",
    "X.reset_index(inplace=True)\n",
    "X.sort_values(by='index', inplace=True)\n",
    "X.drop(columns=['Date', 'Comment', 'index'], inplace=True)"
   ]
  },
  {
   "cell_type": "markdown",
   "metadata": {},
   "source": [
    "## One hot encoding\n",
    "* Location\n",
    "* Tournament\n",
    "* Series\n",
    "* Court\n",
    "* Surface\n",
    "* Round\n",
    "* Players"
   ]
  },
  {
   "cell_type": "code",
   "execution_count": null,
   "metadata": {
    "pycharm": {
     "is_executing": false,
     "name": "#%%\n"
    }
   },
   "outputs": [],
   "source": [
    "X = pd.get_dummies(X)\n",
    "print('Total number of columns:', len(X.columns))\n",
    "\n",
    "X.to_csv('generated/finalDataset.csv', index=False)\n"
   ]
  },
  {
   "cell_type": "markdown",
   "metadata": {},
   "source": [
    "## Dataset subdivision: Train, Validation, Test\n",
    "\n",
    "Train 60%, Validation 20%, Test 20% (taking as test the last part of the dataset)"
   ]
  },
  {
   "cell_type": "code",
   "execution_count": null,
   "metadata": {
    "pycharm": {
     "is_executing": false,
     "name": "#%%\n"
    }
   },
   "outputs": [],
   "source": [
    "import pandas as pd\n",
    "\n",
    "X = pd.read_csv('generated/finalDataset.csv')\n",
    "\n",
    "X.head()"
   ]
  },
  {
   "cell_type": "code",
   "execution_count": null,
   "metadata": {
    "pycharm": {
     "is_executing": false,
     "name": "#%%\n"
    }
   },
   "outputs": [],
   "source": [
    "from sklearn.model_selection import train_test_split\n",
    "\n",
    "y = X.Winner.values\n",
    "X.drop(columns='Winner', inplace=True)\n",
    "\n",
    "test_size = len(X)//5\n",
    "X_test     = X[-test_size:]\n",
    "y_test     = y[-test_size:]\n",
    "X_train_80 = X[:-test_size]\n",
    "y_train_80 = y[:-test_size]\n",
    "\n",
    "# Random split for training and validation\n",
    "X_train, X_valid, y_train, y_valid = train_test_split(X_train_80, y_train_80, test_size=0.25, random_state=42)"
   ]
  },
  {
   "cell_type": "markdown",
   "metadata": {},
   "source": [
    "# Prediction models\n",
    "We start by calculating how much powerful are the bookmakers' alghoritms, then we create and tune ours, let's see the results\n",
    "## Baseline\n",
    "Our first goal is to beat the average bookmaker accuracy"
   ]
  },
  {
   "cell_type": "code",
   "execution_count": 3,
   "metadata": {},
   "outputs": [
    {
     "name": "stdout",
     "output_type": "stream",
     "text": [
      "Test Accuracy: 68.46 %\n"
     ]
    }
   ],
   "source": [
    "from sklearn.metrics import accuracy_score\n",
    "\n",
    "#Player 1 wins if the odd is smaller than player 0\n",
    "baseline = X_test['Avg1'] < X_test['Avg0']\n",
    "baseline = baseline.astype(int)\n",
    "baseline_test_acc = accuracy_score(y_true=y_test, y_pred=baseline)\n",
    "print (\"Test Accuracy: {:.2f}\".format(baseline_test_acc*100), \"%\")"
   ]
  },
  {
   "cell_type": "code",
   "execution_count": 4,
   "metadata": {},
   "outputs": [],
   "source": [
    "accuraciesForModels = {'kNN': [], 'Naive Bayes': [], 'Decision Tree': [], 'Random Forest': []}"
   ]
  },
  {
   "cell_type": "markdown",
   "metadata": {},
   "source": [
    "## k-Nearest-Neighbor Classifier"
   ]
  },
  {
   "cell_type": "code",
   "execution_count": null,
   "metadata": {},
   "outputs": [],
   "source": [
    "from sklearn.preprocessing import StandardScaler\n",
    "\n",
    "scaler = StandardScaler()\n",
    "scaler.fit(X_train)\n",
    "scaled_train = scaler.transform(X_train)\n",
    "scaled_valid = scaler.transform(X_valid)\n",
    "scaled_train_80 = scaler.transform(X_train_80)\n",
    "scaled_test = scaler.transform(X_test)"
   ]
  },
  {
   "cell_type": "code",
   "execution_count": null,
   "metadata": {},
   "outputs": [],
   "source": [
    "# Warning: kNN is very slow with this dataset\n",
    "\n",
    "from sklearn import neighbors\n",
    "from sklearn.metrics import accuracy_score\n",
    "\n",
    "accuracies = []\n",
    "\n",
    "for k in range(1,16):\n",
    "    kNN = neighbors.KNeighborsClassifier(n_neighbors=k)\n",
    "    kNN.fit(scaled_train, y_train)\n",
    "    y_pred = kNN.predict(scaled_valid)\n",
    "    valid_acc = accuracy_score(y_true=y_valid, y_pred=y_pred)\n",
    "    print (\"k: {:2d} | Validation Accuracy: {:.3f}\".format(k, valid_acc))\n",
    "    accuracies += [[valid_acc, k]]"
   ]
  },
  {
   "cell_type": "code",
   "execution_count": 5,
   "metadata": {},
   "outputs": [],
   "source": [
    "# All the resulting accuracies for a faster running process purpose\n",
    "\n",
    "accuracies =  [[0.5272562083585706, 1],\n",
    "                [0.5399757722592369, 2],\n",
    "                [0.5590551181102362, 3],\n",
    "                [0.5632949727437916, 4],\n",
    "                [0.5793458509993943, 5],\n",
    "                [0.5838885523924894, 6],\n",
    "                [0.5990308903694731, 7],\n",
    "                [0.5896426408237432, 8],\n",
    "                [0.6005451241671714, 9],\n",
    "                [0.595396729254997, 10],\n",
    "                [0.6053906723198061, 11],\n",
    "                [0.5993337371290127, 12],\n",
    "                [0.6035735917625682, 13],\n",
    "                [0.5999394306480921, 14],\n",
    "                [0.6078134463961236, 15]]\n",
    "\n",
    "accuraciesForModels['kNN'] = accuracies"
   ]
  },
  {
   "cell_type": "code",
   "execution_count": null,
   "metadata": {},
   "outputs": [],
   "source": [
    "best_accuracy, best_k = max(accuracies)\n",
    "print ( \"Best K\", best_k )\n",
    "\n",
    "# here we are using both training and validation,\n",
    "# to exploit the most data\n",
    "\n",
    "kNN = neighbors.KNeighborsClassifier(n_neighbors=best_k)\n",
    "kNN.fit(scaled_train_80, y_train_80)\n",
    "\n",
    "# Finally evaluate on test\n",
    "test_acc = accuracy_score(y_true=y_test, y_pred=kNN.predict(scaled_test))\n",
    "print (\"Test Accuracy: {:.3f}\".format(test_acc))"
   ]
  },
  {
   "cell_type": "markdown",
   "metadata": {},
   "source": [
    "## Naive Bayes"
   ]
  },
  {
   "cell_type": "code",
   "execution_count": 29,
   "metadata": {},
   "outputs": [
    {
     "name": "stdout",
     "output_type": "stream",
     "text": [
      "Train Accuracy: 0.852 - Validation Accuracy: 0.816\n",
      "Test Accuracy: 0.815\n"
     ]
    }
   ],
   "source": [
    "from sklearn.naive_bayes import GaussianNB\n",
    "from sklearn.metrics import accuracy_score\n",
    "\n",
    "# train and predict\n",
    "gnb = GaussianNB()\n",
    "gnb.fit(X_train, y_train)\n",
    "\n",
    "# compute Accuracy\n",
    "train_acc = accuracy_score(y_true=y_train, y_pred=gnb.predict(X_train))\n",
    "valid_acc = accuracy_score(y_true=y_valid, y_pred=gnb.predict(X_valid))\n",
    "print (\"Train Accuracy: {:.3f} - Validation Accuracy: {:.3f}\".format(train_acc, valid_acc))\n",
    "\n",
    "gnb.fit(X_train_80,y_train_80)\n",
    "\n",
    "# Finally evaluate on test\n",
    "test_acc = accuracy_score(y_true=y_test, y_pred=gnb.predict(X_test))\n",
    "print (\"Test Accuracy: {:.3f}\".format(test_acc))\n",
    "\n",
    "accuraciesForModels['Naive Bayes'] = [[valid_acc, 50]]"
   ]
  },
  {
   "cell_type": "markdown",
   "metadata": {},
   "source": [
    "## Decision Tree"
   ]
  },
  {
   "cell_type": "code",
   "execution_count": 7,
   "metadata": {
    "pycharm": {
     "name": "#%%\n"
    },
    "scrolled": false
   },
   "outputs": [
    {
     "name": "stdout",
     "output_type": "stream",
     "text": [
      "Leaves:  5 - Train Accuracy: 0.852 - Validation Accuracy: 0.854\n",
      "Leaves: 10 - Train Accuracy: 0.852 - Validation Accuracy: 0.854\n",
      "Leaves: 15 - Train Accuracy: 0.854 - Validation Accuracy: 0.854\n",
      "Leaves: 20 - Train Accuracy: 0.859 - Validation Accuracy: 0.848\n",
      "Leaves: 25 - Train Accuracy: 0.861 - Validation Accuracy: 0.848\n",
      "Leaves: 30 - Train Accuracy: 0.862 - Validation Accuracy: 0.846\n",
      "Leaves: 35 - Train Accuracy: 0.864 - Validation Accuracy: 0.846\n",
      "Leaves: 40 - Train Accuracy: 0.866 - Validation Accuracy: 0.845\n",
      "Leaves: 45 - Train Accuracy: 0.867 - Validation Accuracy: 0.845\n",
      "Leaves: 50 - Train Accuracy: 0.868 - Validation Accuracy: 0.845\n",
      "Leaves: 55 - Train Accuracy: 0.872 - Validation Accuracy: 0.845\n",
      "Leaves: 60 - Train Accuracy: 0.875 - Validation Accuracy: 0.844\n",
      "Leaves: 65 - Train Accuracy: 0.876 - Validation Accuracy: 0.844\n",
      "Leaves: 70 - Train Accuracy: 0.879 - Validation Accuracy: 0.844\n",
      "Leaves: 75 - Train Accuracy: 0.880 - Validation Accuracy: 0.843\n",
      "Leaves: 80 - Train Accuracy: 0.881 - Validation Accuracy: 0.842\n",
      "Leaves: 85 - Train Accuracy: 0.883 - Validation Accuracy: 0.841\n",
      "Leaves: 90 - Train Accuracy: 0.886 - Validation Accuracy: 0.839\n",
      "Leaves: 95 - Train Accuracy: 0.889 - Validation Accuracy: 0.839\n",
      "Leaves: 100 - Train Accuracy: 0.890 - Validation Accuracy: 0.839\n",
      "Best Max Leaves 10\n",
      "Test Accuracy: 0.852\n"
     ]
    }
   ],
   "source": [
    "from sklearn import tree\n",
    "from sklearn.metrics import accuracy_score\n",
    "\n",
    "accuracies = []\n",
    "\n",
    "for max_leaves in range(5, 101, 5):\n",
    "    # train and predict\n",
    "    dt = tree.DecisionTreeClassifier(max_leaf_nodes=max_leaves)\n",
    "    dt.fit(X_train, y_train)\n",
    "\n",
    "    # compute Accuracy\n",
    "    train_acc = accuracy_score(y_true=y_train, y_pred=dt.predict(X_train))\n",
    "    valid_acc = accuracy_score(y_true=y_valid, y_pred=dt.predict(X_valid))\n",
    "    print (\"Leaves: {:2d} - Train Accuracy: {:.3f} - Validation Accuracy: {:.3f}\".format(\n",
    "        max_leaves,  train_acc, valid_acc) )\n",
    "    \n",
    "    accuracies += [ [valid_acc, max_leaves] ]\n",
    "\n",
    "best_accuracy, best_max_leaves = max(accuracies)\n",
    "print ( \"Best Max Leaves\", best_max_leaves )\n",
    "\n",
    "# here we are using both training and validation,\n",
    "# to exploit the most data\n",
    "dt = tree.DecisionTreeClassifier(max_leaf_nodes=best_max_leaves)\n",
    "dt.fit(X_train_80,y_train_80)\n",
    "\n",
    "# Finally evaluate on test\n",
    "test_acc = accuracy_score(y_true=y_test, y_pred=dt.predict(X_test))\n",
    "print (\"Test Accuracy: {:.3f}\".format(test_acc))\n",
    "\n",
    "accuraciesForModels['Decision Tree'] = accuracies"
   ]
  },
  {
   "cell_type": "markdown",
   "metadata": {},
   "source": [
    "## Random Forest"
   ]
  },
  {
   "cell_type": "code",
   "execution_count": 54,
   "metadata": {},
   "outputs": [
    {
     "name": "stdout",
     "output_type": "stream",
     "text": [
      "Estimators:  1 - Train Accuracy: 0.897 - Validation Accuracy: 0.724\n",
      "Estimators:  5 - Train Accuracy: 0.981 - Validation Accuracy: 0.816\n",
      "Estimators:  9 - Train Accuracy: 0.993 - Validation Accuracy: 0.816\n",
      "Estimators: 13 - Train Accuracy: 0.997 - Validation Accuracy: 0.838\n",
      "Estimators: 17 - Train Accuracy: 0.997 - Validation Accuracy: 0.843\n",
      "Estimators: 21 - Train Accuracy: 0.998 - Validation Accuracy: 0.842\n",
      "Estimators: 25 - Train Accuracy: 0.999 - Validation Accuracy: 0.844\n",
      "Estimators: 29 - Train Accuracy: 0.999 - Validation Accuracy: 0.846\n",
      "Estimators: 33 - Train Accuracy: 0.999 - Validation Accuracy: 0.848\n",
      "Estimators: 37 - Train Accuracy: 1.000 - Validation Accuracy: 0.847\n",
      "Estimators: 41 - Train Accuracy: 1.000 - Validation Accuracy: 0.843\n",
      "Estimators: 45 - Train Accuracy: 1.000 - Validation Accuracy: 0.842\n",
      "Estimators: 49 - Train Accuracy: 1.000 - Validation Accuracy: 0.849\n",
      "Best Estimators 49\n",
      "Test Accuracy: 0.844\n"
     ]
    }
   ],
   "source": [
    "from sklearn.ensemble import RandomForestClassifier\n",
    "from sklearn.metrics import accuracy_score\n",
    "\n",
    "from sklearn import tree\n",
    "from sklearn.metrics import accuracy_score\n",
    "\n",
    "accuracies = []\n",
    "\n",
    "for estimators in range(1, 50, 4):\n",
    "    # train a decision tree classifier\n",
    "    rf = RandomForestClassifier(n_estimators=estimators)\n",
    "    rf.fit(X_train, y_train)\n",
    "\n",
    "    # compute Accuracy\n",
    "    train_acc = accuracy_score(y_true=y_train, y_pred=rf.predict(X_train))\n",
    "    valid_acc = accuracy_score(y_true=y_valid, y_pred=rf.predict(X_valid))\n",
    "    print (\"Number of Trees: {:2d} - Train Accuracy: {:.3f} - Validation Accuracy: {:.3f}\".format(\n",
    "        estimators,  train_acc, valid_acc) )\n",
    "    \n",
    "    accuracies += [ [valid_acc, estimators] ]\n",
    "\n",
    "best_accuracy, best_estimators = max(accuracies)\n",
    "print ( \"Best Number of Trees\", best_estimators )\n",
    "\n",
    "# here we are using both training and validation,\n",
    "# to exploit the most data\n",
    "rf = tree.DecisionTreeClassifier(max_leaf_nodes=best_estimators)\n",
    "rf.fit(X_train_80,y_train_80)\n",
    "\n",
    "# Finally evaluate on test\n",
    "test_acc = accuracy_score(y_true=y_test, y_pred=rf.predict(X_test))\n",
    "print (\"Test Accuracy: {:.3f}\".format(test_acc))\n",
    "\n",
    "accuraciesForModels['Random Forest'] = accuracies"
   ]
  },
  {
   "cell_type": "markdown",
   "metadata": {},
   "source": [
    "## Accuracy Results\n",
    "Let's visualize all the results"
   ]
  },
  {
   "cell_type": "code",
   "execution_count": 55,
   "metadata": {
    "scrolled": false
   },
   "outputs": [
    {
     "data": {
      "text/html": [
       "<div>\n",
       "<style scoped>\n",
       "    .dataframe tbody tr th:only-of-type {\n",
       "        vertical-align: middle;\n",
       "    }\n",
       "\n",
       "    .dataframe tbody tr th {\n",
       "        vertical-align: top;\n",
       "    }\n",
       "\n",
       "    .dataframe thead th {\n",
       "        text-align: right;\n",
       "    }\n",
       "</style>\n",
       "<table border=\"1\" class=\"dataframe\">\n",
       "  <thead>\n",
       "    <tr style=\"text-align: right;\">\n",
       "      <th></th>\n",
       "      <th>Model</th>\n",
       "      <th>Parameter</th>\n",
       "      <th>Accuracy</th>\n",
       "    </tr>\n",
       "  </thead>\n",
       "  <tbody>\n",
       "    <tr>\n",
       "      <th>0</th>\n",
       "      <td>kNN</td>\n",
       "      <td>1</td>\n",
       "      <td>0.527256</td>\n",
       "    </tr>\n",
       "    <tr>\n",
       "      <th>1</th>\n",
       "      <td>kNN</td>\n",
       "      <td>2</td>\n",
       "      <td>0.539976</td>\n",
       "    </tr>\n",
       "    <tr>\n",
       "      <th>2</th>\n",
       "      <td>kNN</td>\n",
       "      <td>3</td>\n",
       "      <td>0.559055</td>\n",
       "    </tr>\n",
       "    <tr>\n",
       "      <th>3</th>\n",
       "      <td>kNN</td>\n",
       "      <td>4</td>\n",
       "      <td>0.563295</td>\n",
       "    </tr>\n",
       "    <tr>\n",
       "      <th>4</th>\n",
       "      <td>kNN</td>\n",
       "      <td>5</td>\n",
       "      <td>0.579346</td>\n",
       "    </tr>\n",
       "  </tbody>\n",
       "</table>\n",
       "</div>"
      ],
      "text/plain": [
       "  Model Parameter  Accuracy\n",
       "0   kNN         1  0.527256\n",
       "1   kNN         2  0.539976\n",
       "2   kNN         3  0.559055\n",
       "3   kNN         4  0.563295\n",
       "4   kNN         5  0.579346"
      ]
     },
     "execution_count": 55,
     "metadata": {},
     "output_type": "execute_result"
    }
   ],
   "source": [
    "cols = ['Model', 'Parameter', 'Accuracy']\n",
    "accuraciesForPlots = pd.DataFrame(columns = cols)\n",
    "\n",
    "for i, key in enumerate(accuraciesForModels):\n",
    "    for el in accuraciesForModels[key]:\n",
    "        accuraciesForPlots.loc[len(accuraciesForPlots)] = [key, el[1], el[0]]\n",
    "\n",
    "accuraciesForPlots.head()"
   ]
  },
  {
   "cell_type": "code",
   "execution_count": 58,
   "metadata": {},
   "outputs": [
    {
     "data": {
      "image/png": "[encoded data removed]",
      "text/plain": [
       "<Figure size 864x432 with 4 Axes>"
      ]
     },
     "metadata": {},
     "output_type": "display_data"
    }
   ],
   "source": [
    "import seaborn as sns\n",
    "import matplotlib.pyplot as plt\n",
    "\n",
    "sns.set(style=\"ticks\")\n",
    "sns.set_palette(\"husl\")\n",
    "\n",
    "grid = sns.FacetGrid(accuraciesForPlots, col=\"Model\", aspect=2, ylim=(0.5, 1),\n",
    "                     col_wrap=2, sharex=False, hue=\"Model\")\n",
    "grid.map(plt.axhline, y=0, ls=\":\", c=\".5\")\n",
    "grid.map(plt.plot, 'Parameter', 'Accuracy', marker=\"o\")\n",
    "grid.set_axis_labels(\"\", \"Accuracy\")\n",
    "\n",
    "grid.savefig(\"generated/accuracies.png\")"
   ]
  },
  {
   "cell_type": "markdown",
   "metadata": {},
   "source": [
    "As we can see the kNN isn't very powerful with this type of predictions, the Naive Bayes model isn't bad but we can't tune it very much. So we will spend more effort with trying to increase the accuracy of the last two."
   ]
  },
  {
   "cell_type": "markdown",
   "metadata": {},
   "source": [
    "## Bias and Variance evaluation\n",
    "We compute bias and variance by repeatedly training the models on different data samples.\n",
    "\n",
    "### Decision Tree"
   ]
  },
  {
   "cell_type": "code",
   "execution_count": 15,
   "metadata": {},
   "outputs": [
    {
     "name": "stdout",
     "output_type": "stream",
     "text": [
      "\r",
      "Progress: |--------------------------------------------------| 0.0% Complete\r"
     ]
    },
    {
     "ename": "KeyboardInterrupt",
     "evalue": "",
     "output_type": "error",
     "traceback": [
      "\u001b[1;31m---------------------------------------------------------------------------\u001b[0m",
      "\u001b[1;31mKeyboardInterrupt\u001b[0m                         Traceback (most recent call last)",
      "\u001b[1;32m<ipython-input-15-5236e608cab4>\u001b[0m in \u001b[0;36m<module>\u001b[1;34m\u001b[0m\n\u001b[0;32m     15\u001b[0m \u001b[1;33m\u001b[0m\u001b[0m\n\u001b[0;32m     16\u001b[0m         \u001b[0mdt\u001b[0m \u001b[1;33m=\u001b[0m \u001b[0mDecisionTreeClassifier\u001b[0m\u001b[1;33m(\u001b[0m\u001b[0mmax_leaf_nodes\u001b[0m\u001b[1;33m=\u001b[0m\u001b[0mmax_leaves\u001b[0m\u001b[1;33m)\u001b[0m\u001b[1;33m\u001b[0m\u001b[1;33m\u001b[0m\u001b[0m\n\u001b[1;32m---> 17\u001b[1;33m         \u001b[0mdt\u001b[0m\u001b[1;33m.\u001b[0m\u001b[0mfit\u001b[0m\u001b[1;33m(\u001b[0m\u001b[0mXs\u001b[0m\u001b[1;33m,\u001b[0m\u001b[0mys\u001b[0m\u001b[1;33m)\u001b[0m\u001b[1;33m\u001b[0m\u001b[1;33m\u001b[0m\u001b[0m\n\u001b[0m\u001b[0;32m     18\u001b[0m \u001b[1;33m\u001b[0m\u001b[0m\n\u001b[0;32m     19\u001b[0m         \u001b[0my_pred\u001b[0m \u001b[1;33m=\u001b[0m \u001b[0mdt\u001b[0m\u001b[1;33m.\u001b[0m\u001b[0mpredict\u001b[0m\u001b[1;33m(\u001b[0m\u001b[0mX\u001b[0m\u001b[1;33m)\u001b[0m\u001b[1;33m\u001b[0m\u001b[1;33m\u001b[0m\u001b[0m\n",
      "\u001b[1;32mC:\\ProgramData\\Anaconda3\\lib\\site-packages\\sklearn\\tree\\_classes.py\u001b[0m in \u001b[0;36mfit\u001b[1;34m(self, X, y, sample_weight, check_input, X_idx_sorted)\u001b[0m\n\u001b[0;32m    875\u001b[0m             \u001b[0msample_weight\u001b[0m\u001b[1;33m=\u001b[0m\u001b[0msample_weight\u001b[0m\u001b[1;33m,\u001b[0m\u001b[1;33m\u001b[0m\u001b[1;33m\u001b[0m\u001b[0m\n\u001b[0;32m    876\u001b[0m             \u001b[0mcheck_input\u001b[0m\u001b[1;33m=\u001b[0m\u001b[0mcheck_input\u001b[0m\u001b[1;33m,\u001b[0m\u001b[1;33m\u001b[0m\u001b[1;33m\u001b[0m\u001b[0m\n\u001b[1;32m--> 877\u001b[1;33m             X_idx_sorted=X_idx_sorted)\n\u001b[0m\u001b[0;32m    878\u001b[0m         \u001b[1;32mreturn\u001b[0m \u001b[0mself\u001b[0m\u001b[1;33m\u001b[0m\u001b[1;33m\u001b[0m\u001b[0m\n\u001b[0;32m    879\u001b[0m \u001b[1;33m\u001b[0m\u001b[0m\n",
      "\u001b[1;32mC:\\ProgramData\\Anaconda3\\lib\\site-packages\\sklearn\\tree\\_classes.py\u001b[0m in \u001b[0;36mfit\u001b[1;34m(self, X, y, sample_weight, check_input, X_idx_sorted)\u001b[0m\n\u001b[0;32m    365\u001b[0m                                            min_impurity_split)\n\u001b[0;32m    366\u001b[0m \u001b[1;33m\u001b[0m\u001b[0m\n\u001b[1;32m--> 367\u001b[1;33m         \u001b[0mbuilder\u001b[0m\u001b[1;33m.\u001b[0m\u001b[0mbuild\u001b[0m\u001b[1;33m(\u001b[0m\u001b[0mself\u001b[0m\u001b[1;33m.\u001b[0m\u001b[0mtree_\u001b[0m\u001b[1;33m,\u001b[0m \u001b[0mX\u001b[0m\u001b[1;33m,\u001b[0m \u001b[0my\u001b[0m\u001b[1;33m,\u001b[0m \u001b[0msample_weight\u001b[0m\u001b[1;33m,\u001b[0m \u001b[0mX_idx_sorted\u001b[0m\u001b[1;33m)\u001b[0m\u001b[1;33m\u001b[0m\u001b[1;33m\u001b[0m\u001b[0m\n\u001b[0m\u001b[0;32m    368\u001b[0m \u001b[1;33m\u001b[0m\u001b[0m\n\u001b[0;32m    369\u001b[0m         \u001b[1;32mif\u001b[0m \u001b[0mself\u001b[0m\u001b[1;33m.\u001b[0m\u001b[0mn_outputs_\u001b[0m \u001b[1;33m==\u001b[0m \u001b[1;36m1\u001b[0m \u001b[1;32mand\u001b[0m \u001b[0mis_classifier\u001b[0m\u001b[1;33m(\u001b[0m\u001b[0mself\u001b[0m\u001b[1;33m)\u001b[0m\u001b[1;33m:\u001b[0m\u001b[1;33m\u001b[0m\u001b[1;33m\u001b[0m\u001b[0m\n",
      "\u001b[1;31mKeyboardInterrupt\u001b[0m: "
     ]
    }
   ],
   "source": [
    "from sklearn.utils import resample\n",
    "from sklearn.tree import DecisionTreeClassifier\n",
    "import numpy as np\n",
    "\n",
    "N_TESTS = 20\n",
    "\n",
    "stats = pd.DataFrame(columns=['Trees', 'Type', 'Value'])\n",
    "printProgressBar(0, 100, prefix='Progress:', suffix='Complete')\n",
    "\n",
    "for max_leaves in range(5, 101, 5):\n",
    "    y_preds = np.array([])\n",
    "    \n",
    "    for i in range(N_TESTS):\n",
    "        Xs, ys = resample(X,y, n_samples=int(0.67*len(y)) )\n",
    "\n",
    "        dt = DecisionTreeClassifier(max_leaf_nodes=max_leaves)\n",
    "        dt.fit(Xs,ys)\n",
    "\n",
    "        y_pred = dt.predict(X)\n",
    "        y_preds = np.column_stack( [y_preds, y_pred] ) if y_preds.size else y_pred\n",
    "\n",
    "    dt_bias     = (y-np.mean(y_preds,axis=1))**2\n",
    "    dt_variance = np.var(y_preds,axis=1)\n",
    "    dt_error    = (y_preds - y.reshape(-1,1))**2\n",
    "\n",
    "    stats.loc[len(stats)] = [max_leaves, 'Error', dt_error.mean()]\n",
    "    stats.loc[len(stats)] = [max_leaves, 'Bias', dt_bias.mean()]\n",
    "    stats.loc[len(stats)] = [max_leaves, 'Variance', dt_variance.mean()]\n",
    "    \n",
    "    printProgressBar(max_leaves, 100, prefix='Progress:', suffix='Complete')\n",
    "\n",
    "\n",
    "grid = sns.catplot(x='Trees', y='Value', hue='Type', kind='point', data=stats)\n",
    "grid.set_axis_labels(\"Number of Leaves\", \"\")\n",
    "\n",
    "grid.savefig(\"generated/bias-variance-DT.png\")"
   ]
  },
  {
   "cell_type": "markdown",
   "metadata": {},
   "source": [
    "As we can see from the results the variance seems to grow rapidly, so we can try to lower it using the bagging technique."
   ]
  },
  {
   "cell_type": "code",
   "execution_count": null,
   "metadata": {},
   "outputs": [],
   "source": [
    "from sklearn.utils import resample\n",
    "from sklearn.tree import DecisionTreeClassifier\n",
    "from sklearn.ensemble import BaggingClassifier\n",
    "import numpy as np\n",
    "\n",
    "N_TESTS = 20\n",
    "\n",
    "stats = pd.DataFrame(columns=['Trees', 'Type', 'Value'])\n",
    "printProgressBar(0, 35, prefix='Progress:', suffix='Complete')\n",
    "\n",
    "for b_rounds in range(5, 36, 5):\n",
    "    y_preds = np.array([])\n",
    "    \n",
    "    for i in range(N_TESTS):\n",
    "        Xs, ys = resample(X,y, n_samples=int(0.67*len(y)) )\n",
    "\n",
    "        dt = BaggingClassifier(DecisionTreeClassifier(max_leaf_nodes=20), n_estimators=b_rounds)\n",
    "        dt.fit(Xs,ys)\n",
    "\n",
    "        y_pred = dt.predict(X)\n",
    "        y_preds = np.column_stack( [y_preds, y_pred] ) if y_preds.size else y_pred\n",
    "\n",
    "    dt_bias     = (y-np.mean(y_preds,axis=1))**2\n",
    "    dt_variance = np.var(y_preds,axis=1)\n",
    "    dt_error    = (y_preds - y.reshape(-1,1))**2\n",
    "\n",
    "    stats.loc[len(stats)] = [b_rounds, 'Error', dt_error.mean()]\n",
    "    stats.loc[len(stats)] = [b_rounds, 'Bias', dt_bias.mean()]\n",
    "    stats.loc[len(stats)] = [b_rounds, 'Variance', dt_variance.mean()]\n",
    "    \n",
    "    printProgressBar(b_rounds, 35, prefix='Progress:', suffix='Complete')\n",
    "\n",
    "\n",
    "grid = sns.catplot(x='Trees', y='Value', hue='Type', kind='point', data=stats)\n",
    "grid.set_axis_labels(\"Bagging Rounds\", \"\")\n",
    "\n",
    "grid.savefig(\"generated/bias-variance-DT-bagging.png\")"
   ]
  },
  {
   "cell_type": "markdown",
   "metadata": {},
   "source": [
    "### Random Forest"
   ]
  },
  {
   "cell_type": "code",
   "execution_count": null,
   "metadata": {},
   "outputs": [],
   "source": [
    "from sklearn.utils import resample\n",
    "from sklearn.ensemble import RandomForestClassifier\n",
    "import numpy as np\n",
    "\n",
    "N_TESTS = 20\n",
    "\n",
    "stats = pd.DataFrame(columns=['Trees', 'Type', 'Value'])\n",
    "printProgressBar(0, 50//4+1, prefix='Progress:', suffix='Complete')\n",
    "\n",
    "for l in range(45, 100, 4):\n",
    "    y_preds = np.array([])\n",
    "    \n",
    "    for i in range(N_TESTS):\n",
    "        Xs, ys = resample(X,y, n_samples=int(0.67*len(y)) )\n",
    "\n",
    "        rf = RandomForestClassifier(n_estimators=l)\n",
    "        rf.fit(Xs,ys)\n",
    "\n",
    "        y_pred = rf.predict(X)\n",
    "        y_preds = np.column_stack( [y_preds, y_pred] ) if y_preds.size else y_pred\n",
    "\n",
    "    rf_bias     = (y-np.mean(y_preds,axis=1))**2\n",
    "    rf_variance = np.var(y_preds,axis=1)\n",
    "    rf_error    = (y_preds - y.reshape(-1,1))**2\n",
    "\n",
    "    stats.loc[len(stats)] = [l, 'Error', rf_error.mean()]\n",
    "    stats.loc[len(stats)] = [l, 'Bias', rf_bias.mean()]\n",
    "    stats.loc[len(stats)] = [l, 'Variance', rf_variance.mean()]\n",
    "    \n",
    "    printProgressBar(l//4+1, 50//4+1, prefix='Progress:', suffix='Complete')\n",
    "\n",
    "\n",
    "grid = sns.catplot(x='Trees', y='Value', hue='Type', kind='point', data=stats)\n",
    "grid.set_axis_labels(\"Number of Trees\", \"\")\n",
    "\n",
    "grid.savefig(\"generated/bias-variance-RF.png\")"
   ]
  },
  {
   "cell_type": "markdown",
   "metadata": {},
   "source": [
    "## Further improvements\n",
    "\n",
    "We can see that Random Forest has a stable error over 30 (trees) and we can proceed with a more fine tuning. To improve Decision Tree we will try to apply the bagging technique to see the improvements."
   ]
  },
  {
   "cell_type": "markdown",
   "metadata": {},
   "source": [
    "### Bagging applied to Decision Tree"
   ]
  },
  {
   "cell_type": "code",
   "execution_count": 17,
   "metadata": {},
   "outputs": [
    {
     "name": "stdout",
     "output_type": "stream",
     "text": [
      "Bagging Rounds: 20 - Train Accuracy: 0.859 - Validation Accuracy: 0.854\n",
      "Bagging Rounds: 25 - Train Accuracy: 0.857 - Validation Accuracy: 0.855\n",
      "Bagging Rounds: 30 - Train Accuracy: 0.859 - Validation Accuracy: 0.854\n",
      "Bagging Rounds: 35 - Train Accuracy: 0.858 - Validation Accuracy: 0.853\n",
      "Bagging Rounds: 40 - Train Accuracy: 0.858 - Validation Accuracy: 0.855\n",
      "Bagging Rounds: 45 - Train Accuracy: 0.860 - Validation Accuracy: 0.853\n",
      "Bagging Rounds: 50 - Train Accuracy: 0.858 - Validation Accuracy: 0.853\n",
      "Best Max Leaves 40\n",
      "Test Accuracy: 0.846\n"
     ]
    }
   ],
   "source": [
    "from sklearn.metrics import accuracy_score\n",
    "from sklearn.tree import DecisionTreeClassifier\n",
    "from sklearn.ensemble import BaggingClassifier\n",
    "\n",
    "accuracies = []\n",
    "\n",
    "for b_rounds in range(20, 51, 5):\n",
    "    dt = BaggingClassifier(DecisionTreeClassifier(max_leaf_nodes=20), n_estimators=b_rounds)\n",
    "    dt.fit(X_train, y_train)\n",
    "\n",
    "    train_acc = accuracy_score(y_true=y_train, y_pred=dt.predict(X_train))\n",
    "    valid_acc = accuracy_score(y_true=y_valid, y_pred=dt.predict(X_valid))\n",
    "    print (\"Bagging Rounds: {:2d} - Train Accuracy: {:.3f} - Validation Accuracy: {:.3f}\".format(\n",
    "        b_rounds,  train_acc, valid_acc) )\n",
    "    \n",
    "    accuracies += [ [valid_acc, b_rounds] ]\n",
    "\n",
    "best_accuracy, best_b_rounds = max(accuracies)\n",
    "print ( \"Best Max Leaves\", best_b_rounds )\n",
    "\n",
    "dt = tree.DecisionTreeClassifier(max_leaf_nodes=best_b_rounds)\n",
    "dt.fit(X_train_80,y_train_80)\n",
    "test_acc = accuracy_score(y_true=y_test, y_pred=dt.predict(X_test))\n",
    "print (\"Test Accuracy: {:.3f}\".format(test_acc))"
   ]
  },
  {
   "cell_type": "markdown",
   "metadata": {},
   "source": [
    "We have improved the validation accuracy, but the test one is worse"
   ]
  },
  {
   "cell_type": "markdown",
   "metadata": {},
   "source": [
    "### Fine tuning Random Forest with Randomized Search"
   ]
  },
  {
   "cell_type": "code",
   "execution_count": 22,
   "metadata": {},
   "outputs": [
    {
     "data": {
      "text/plain": [
       "{'bootstrap': True,\n",
       " 'ccp_alpha': 0.0,\n",
       " 'class_weight': None,\n",
       " 'criterion': 'gini',\n",
       " 'max_depth': None,\n",
       " 'max_features': 'auto',\n",
       " 'max_leaf_nodes': None,\n",
       " 'max_samples': None,\n",
       " 'min_impurity_decrease': 0.0,\n",
       " 'min_impurity_split': None,\n",
       " 'min_samples_leaf': 1,\n",
       " 'min_samples_split': 2,\n",
       " 'min_weight_fraction_leaf': 0.0,\n",
       " 'n_estimators': 100,\n",
       " 'n_jobs': None,\n",
       " 'oob_score': False,\n",
       " 'random_state': None,\n",
       " 'verbose': 0,\n",
       " 'warm_start': False}"
      ]
     },
     "execution_count": 22,
     "metadata": {},
     "output_type": "execute_result"
    }
   ],
   "source": [
    "from sklearn.ensemble import RandomForestClassifier\n",
    "\n",
    "rf = RandomForestClassifier()\n",
    "rf.get_params()"
   ]
  },
  {
   "cell_type": "code",
   "execution_count": 31,
   "metadata": {},
   "outputs": [],
   "source": [
    "from sklearn.model_selection import RandomizedSearchCV\n",
    "\n",
    "# Number of features to consider at every split\n",
    "max_features = ['auto', 'sqrt']\n",
    "\n",
    "# Maximum number of levels in tree\n",
    "max_depth = [int(x) for x in np.linspace(10, 150, num = 11)]\n",
    "max_depth.append(None)\n",
    "\n",
    "# Minimum number of samples required to split a node\n",
    "min_samples_split = [2, 5, 10]\n",
    "\n",
    "# Minimum number of samples required at each leaf node\n",
    "min_samples_leaf = [1, 2, 4]\n",
    "\n",
    "# Method of selecting samples for training each tree\n",
    "bootstrap = [True, False]\n",
    "\n",
    "# Create the random grid\n",
    "random_grid = {'max_features': max_features,\n",
    "               'max_depth': max_depth,\n",
    "               'min_samples_split': min_samples_split,\n",
    "               'min_samples_leaf': min_samples_leaf,\n",
    "               'bootstrap': bootstrap}"
   ]
  },
  {
   "cell_type": "code",
   "execution_count": 32,
   "metadata": {},
   "outputs": [
    {
     "name": "stdout",
     "output_type": "stream",
     "text": [
      "Fitting 5 folds for each of 100 candidates, totalling 500 fits\n"
     ]
    },
    {
     "name": "stderr",
     "output_type": "stream",
     "text": [
      "[Parallel(n_jobs=-1)]: Using backend LokyBackend with 8 concurrent workers.\n",
      "[Parallel(n_jobs=-1)]: Done  25 tasks      | elapsed:   15.5s\n",
      "[Parallel(n_jobs=-1)]: Done 146 tasks      | elapsed:  1.4min\n",
      "[Parallel(n_jobs=-1)]: Done 349 tasks      | elapsed:  3.0min\n",
      "[Parallel(n_jobs=-1)]: Done 500 out of 500 | elapsed:  4.2min finished\n"
     ]
    },
    {
     "data": {
      "text/plain": [
       "RandomizedSearchCV(cv=None, error_score=nan,\n",
       "                   estimator=RandomForestClassifier(bootstrap=True,\n",
       "                                                    ccp_alpha=0.0,\n",
       "                                                    class_weight=None,\n",
       "                                                    criterion='gini',\n",
       "                                                    max_depth=None,\n",
       "                                                    max_features='auto',\n",
       "                                                    max_leaf_nodes=None,\n",
       "                                                    max_samples=None,\n",
       "                                                    min_impurity_decrease=0.0,\n",
       "                                                    min_impurity_split=None,\n",
       "                                                    min_samples_leaf=1,\n",
       "                                                    min_samples_split=2,\n",
       "                                                    min_weight_fraction_leaf=0.0,\n",
       "                                                    n_estimators=50,\n",
       "                                                    n_jo...\n",
       "                                                    verbose=0,\n",
       "                                                    warm_start=False),\n",
       "                   iid='deprecated', n_iter=100, n_jobs=-1,\n",
       "                   param_distributions={'bootstrap': [True, False],\n",
       "                                        'max_depth': [10, 24, 38, 52, 66, 80,\n",
       "                                                      94, 108, 122, 136, 150,\n",
       "                                                      None],\n",
       "                                        'max_features': ['auto', 'sqrt'],\n",
       "                                        'min_samples_leaf': [1, 2, 4],\n",
       "                                        'min_samples_split': [2, 5, 10]},\n",
       "                   pre_dispatch='2*n_jobs', random_state=42, refit=True,\n",
       "                   return_train_score=False, scoring=None, verbose=2)"
      ]
     },
     "execution_count": 32,
     "metadata": {},
     "output_type": "execute_result"
    }
   ],
   "source": [
    "# Use the random grid to search for best hyperparameters\n",
    "# First create the base model to tune\n",
    "rf = RandomForestClassifier(n_estimators=50)\n",
    "# Random search of parameters \n",
    "# Default 5-fold cross validation, 50 different combinations, and use all available cores\n",
    "rf_random = RandomizedSearchCV(estimator=rf, param_distributions=random_grid, n_iter = 100, verbose=2, random_state=42, n_jobs = -1)\n",
    "# Fit the random search model\n",
    "rf_random.fit(X_train, y_train)"
   ]
  },
  {
   "cell_type": "code",
   "execution_count": 33,
   "metadata": {},
   "outputs": [
    {
     "data": {
      "text/plain": [
       "{'min_samples_split': 10,\n",
       " 'min_samples_leaf': 1,\n",
       " 'max_features': 'auto',\n",
       " 'max_depth': 52,\n",
       " 'bootstrap': True}"
      ]
     },
     "execution_count": 33,
     "metadata": {},
     "output_type": "execute_result"
    }
   ],
   "source": [
    "rf_random.best_params_"
   ]
  },
  {
   "cell_type": "markdown",
   "metadata": {},
   "source": [
    "Resulted in:\n",
    "\n",
    "{'min_samples_split': 10,\n",
    " 'min_samples_leaf': 1,\n",
    " 'max_features': 'auto',\n",
    " 'max_depth': 52,\n",
    " 'bootstrap': True}"
   ]
  },
  {
   "cell_type": "code",
   "execution_count": 39,
   "metadata": {},
   "outputs": [
    {
     "name": "stdout",
     "output_type": "stream",
     "text": [
      "Train Accuracy: 0.976\n",
      "Validation Accuracy: 0.852\n",
      "Test Accuracy: 0.852\n"
     ]
    }
   ],
   "source": [
    "from sklearn.ensemble import RandomForestClassifier\n",
    "from sklearn.metrics import accuracy_score\n",
    "\n",
    "rf = RandomForestClassifier(n_estimators=50, min_samples_split=10, min_samples_leaf=1, max_features='auto', max_depth=52)\n",
    "rf.fit(X_train, y_train)\n",
    "\n",
    "train_acc = accuracy_score(y_true=y_train, y_pred=rf.predict(X_train))\n",
    "print (\"Train Accuracy: {:.3f}\".format(train_acc))\n",
    "\n",
    "valid_acc = accuracy_score(y_true=y_valid, y_pred=rf.predict(X_valid))\n",
    "print (\"Validation Accuracy: {:.3f}\".format(valid_acc))\n",
    "\n",
    "rf.fit(X_train_80,y_train_80)\n",
    "test_acc = accuracy_score(y_true=y_test, y_pred=rf.predict(X_test))\n",
    "print (\"Test Accuracy: {:.3f}\".format(test_acc))"
   ]
  },
  {
   "cell_type": "markdown",
   "metadata": {},
   "source": [
    "Our previous RF: Train Accuracy: 1.000 - Validation accuracy: 0.849 - Test accuracy: 0.844\n",
    "  The tuned one: Train Accuracy: 0.976 - Validation Accuracy: 0.852 - Test Accuracy: 0.852\n",
    "  \n",
    "We've got a little gain!"
   ]
  },
  {
   "cell_type": "code",
   "execution_count": null,
   "metadata": {},
   "outputs": [],
   "source": []
  }
 ],
 "metadata": {
  "kernelspec": {
   "display_name": "Python 3",
   "language": "python",
   "name": "python3"
  },
  "language_info": {
   "codemirror_mode": {
    "name": "ipython",
    "version": 3
   },
   "file_extension": ".py",
   "mimetype": "text/x-python",
   "name": "python",
   "nbconvert_exporter": "python",
   "pygments_lexer": "ipython3",
   "version": "3.7.6"
  },
  "pycharm": {
   "stem_cell": {
    "cell_type": "raw",
    "metadata": {
     "collapsed": false
    },
    "source": []
   }
  }
 },
 "nbformat": 4,
 "nbformat_minor": 1
}
