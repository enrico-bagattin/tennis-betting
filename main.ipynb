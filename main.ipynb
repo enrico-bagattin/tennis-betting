{
 "cells": [
  {
   "cell_type": "markdown",
   "metadata": {
    "pycharm": {
     "is_executing": false,
     "name": "#%% md\n"
    }
   },
   "source": [
    "# Lab IS&A\n",
    "## Bagattin Enrico - Alessandro Doretto"
   ]
  },
  {
   "cell_type": "code",
   "execution_count": null,
   "outputs": [],
   "source": [
    "# Import\n",
    "import pandas as pd\n",
    "import numpy as np\n",
    "import glob\n",
    "import seaborn as sns\n",
    "\n",
    "# Modules\n",
    "from utilities import *\n",
    "from dataPreparation import *"
   ],
   "metadata": {
    "collapsed": false,
    "pycharm": {
     "name": "#%%\n",
     "is_executing": false
    }
   }
  },
  {
   "cell_type": "code",
   "execution_count": null,
   "metadata": {
    "pycharm": {
     "is_executing": false,
     "name": "#%%\n"
    }
   },
   "outputs": [],
   "source": [
    "# Import data\n",
    "paths = list(glob.glob(\"matches/20*.xlsx\"))\n",
    "matches = [pd.read_excel(path) for path in paths]\n",
    "# TODO: Load matches based on number of past years choosen \n",
    "df = pd.concat(matches, ignore_index=True, sort=False)\n",
    "df.info()"
   ]
  },
  {
   "cell_type": "code",
   "execution_count": null,
   "metadata": {
    "pycharm": {
     "is_executing": false
    }
   },
   "outputs": [],
   "source": [
    "df.head().T"
   ]
  },
  {
   "cell_type": "code",
   "execution_count": null,
   "outputs": [],
   "source": [
    "df.describe(include='all', percentiles=[]).T"
   ],
   "metadata": {
    "collapsed": false,
    "pycharm": {
     "name": "#%%\n",
     "is_executing": false
    }
   }
  },
  {
   "cell_type": "markdown",
   "source": [
    "# Cleaning and preparing data\n",
    "\n",
    "## Remove Winner/Loser reference\n",
    "All the column with Winner/Loser reference will be substituted by Player0/Player1. Then (as last step) to use both match outcomes for our prediction models we will duplicate each row (switching all the player features)."
   ],
   "metadata": {
    "collapsed": false,
    "pycharm": {
     "name": "#%% md\n",
     "is_executing": false
    }
   }
  },
  {
   "cell_type": "code",
   "execution_count": null,
   "outputs": [],
   "source": [
    "neededCols = ['Location', 'Tournament', 'Series', 'Court', 'Surface',\n",
    "       'Round', 'Winner', 'Loser', 'WRank', 'LRank', 'WPts', 'LPts',\n",
    "       'Comment', 'B365W', 'B365L', 'PSW', 'PSL', 'AvgW', 'AvgL']\n",
    "df = df[neededCols]\n",
    "\n",
    "df.columns = ['Location', 'Tournament', 'Series', 'Court', 'Surface',\n",
    "       'Round', 'Player0', 'Player1', 'Rank0', 'Rank1', 'Pts0', 'Pts1',\n",
    "       'Comment', 'B3650', 'B3651', 'PS0', 'PS1', 'Avg0', 'Avg1']"
   ],
   "metadata": {
    "collapsed": false,
    "pycharm": {
     "name": "#%%\n",
     "is_executing": false
    }
   }
  },
  {
   "cell_type": "markdown",
   "source": [
    "## Filling null:\n",
    "* Rank: take the max rank plus one\n",
    "* Pts: set default zero\t\n",
    "* Avg odd: take mode of matches with same (or similar) players rank\n",
    "* B365, PS: fill with avg"
   ],
   "metadata": {
    "collapsed": false
   }
  },
  {
   "cell_type": "code",
   "execution_count": null,
   "outputs": [],
   "source": [
    "rankDefault = max(df['Rank0'].max(), df['Rank1'].max())+1\n",
    "df.fillna({'Rank0': rankDefault, 'Rank1': rankDefault, 'Pts0': 0, 'Pts1': 0}, inplace=True)\n",
    "\n",
    "nullOddsDf = df[df[['B3650', 'B3651', 'PS0', 'PS1', 'Avg0', 'Avg1']].isna().any(axis=1)]\n",
    "for index, row in nullOddsDf.iterrows():\n",
    "     if pd.isnull(row['Avg0']) or pd.isnull(row['Avg1']):\n",
    "         Avg0, Avg1 = findOddsForRow(row, df.dropna(subset=['Avg0', 'Avg1']))\n",
    "         df.at[index, 'Avg0'] = row['Avg0'] = Avg0\n",
    "         df.at[index, 'Avg1'] = row['Avg1'] = Avg1\n",
    "     if pd.isnull(row['B3650']):\n",
    "         df.at[index, 'B3650'] = row['Avg0']\n",
    "     if pd.isnull(row['B3651']):\n",
    "         df.at[index, 'B3651'] = row['Avg1']\n",
    "     if pd.isnull(row['PS0']):\n",
    "         df.at[index, 'PS0'] = row['Avg0']\n",
    "     if pd.isnull(row['PS1']):\n",
    "         df.at[index, 'PS1'] = row['Avg1']\n",
    "\n",
    "df.dropna(subset=['Avg0', 'Avg1'], inplace=True) # Drop rows that hasn't similar rank matches\n",
    "df.info()\n"
   ],
   "metadata": {
    "collapsed": false,
    "pycharm": {
     "name": "#%%\n",
     "is_executing": false
    }
   }
  },
  {
   "cell_type": "markdown",
   "source": [
    "## New features\n",
    "* [Elo rating](https://en.wikipedia.org/wiki/Elo_rating_system): a method for calculating the relative skill levels of players in zero-sum games\n",
    "* Number of matches played during the last year\n",
    "* Percentage of matches won during the last year\n",
    "* Injuries: number matches in witch the player retired or walkover in the past year \n",
    "* Winning streak: current sequence of won games"
   ],
   "metadata": {
    "collapsed": false
   }
  },
  {
   "cell_type": "code",
   "execution_count": null,
   "outputs": [],
   "source": [
    "X = addEloRatingFeature(df)"
   ],
   "metadata": {
    "collapsed": false,
    "pycharm": {
     "name": "#%%\n",
     "is_executing": false
    }
   }
  },
  {
   "cell_type": "markdown",
   "source": [
    "## One hot encoding\n",
    "* Location\n",
    "* Tournament\n",
    "* Series\n",
    "* Court\n",
    "* Surface\n",
    "* Round\n",
    "* Players"
   ],
   "metadata": {
    "collapsed": false
   }
  },
  {
   "cell_type": "code",
   "execution_count": null,
   "outputs": [],
   "source": [
    "X = pd.get_dummies(df)\n",
    "print('Total number of columns:', len(X.columns))\n"
   ],
   "metadata": {
    "collapsed": false,
    "pycharm": {
     "name": "#%%\n",
     "is_executing": false
    }
   }
  },
  {
   "cell_type": "markdown",
   "source": [
    "# First analysis\n",
    "# odd (inverse -> percentuale di vincita secondo il banco) --> Calcolo percentuale di successo\n",
    "\n",
    "# Models\n",
    "# Carefully-tuned random forest classifier\n",
    "# Naive Bayes"
   ],
   "metadata": {
    "collapsed": false
   }
  }
 ],
 "metadata": {
  "kernelspec": {
   "name": "pycharm-fa669f56",
   "language": "python",
   "display_name": "PyCharm (Python)"
  },
  "language_info": {
   "codemirror_mode": {
    "name": "ipython",
    "version": 3
   },
   "file_extension": ".py",
   "mimetype": "text/x-python",
   "name": "python",
   "nbconvert_exporter": "python",
   "pygments_lexer": "ipython3",
   "version": "3.7.3"
  },
  "pycharm": {
   "stem_cell": {
    "cell_type": "raw",
    "source": [],
    "metadata": {
     "collapsed": false
    }
   }
  }
 },
 "nbformat": 4,
 "nbformat_minor": 1
}